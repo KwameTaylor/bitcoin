{
 "cells": [
  {
   "cell_type": "markdown",
   "metadata": {},
   "source": [
    "# Dogecoin Time-Series Analysis"
   ]
  },
  {
   "cell_type": "markdown",
   "metadata": {},
   "source": [
    "### Set up environment"
   ]
  },
  {
   "cell_type": "code",
   "execution_count": 1,
   "metadata": {},
   "outputs": [],
   "source": [
    "import pandas as pd\n",
    "import numpy as np\n",
    "\n",
    "import matplotlib.pyplot as plt\n",
    "import seaborn as sns\n",
    "\n",
    "# plotting defaults\n",
    "plt.rc('figure', figsize=(13, 7))\n",
    "plt.style.use('seaborn-whitegrid')\n",
    "plt.rc('font', size=16)\n",
    "\n",
    "from datetime import datetime, timezone"
   ]
  },
  {
   "cell_type": "markdown",
   "metadata": {},
   "source": [
    "### Acquire and summarize data"
   ]
  },
  {
   "cell_type": "markdown",
   "metadata": {},
   "source": [
    "Using daily-sampled historical data on Dogecoin to USD value from Investing.com."
   ]
  },
  {
   "cell_type": "code",
   "execution_count": 2,
   "metadata": {},
   "outputs": [],
   "source": [
    "df = pd.read_csv('DogecoinHistoricalTruncated.csv')"
   ]
  },
  {
   "cell_type": "code",
   "execution_count": 3,
   "metadata": {},
   "outputs": [
    {
     "data": {
      "text/html": [
       "<div>\n",
       "<style scoped>\n",
       "    .dataframe tbody tr th:only-of-type {\n",
       "        vertical-align: middle;\n",
       "    }\n",
       "\n",
       "    .dataframe tbody tr th {\n",
       "        vertical-align: top;\n",
       "    }\n",
       "\n",
       "    .dataframe thead th {\n",
       "        text-align: right;\n",
       "    }\n",
       "</style>\n",
       "<table border=\"1\" class=\"dataframe\">\n",
       "  <thead>\n",
       "    <tr style=\"text-align: right;\">\n",
       "      <th></th>\n",
       "      <th>Date</th>\n",
       "      <th>Price</th>\n",
       "      <th>Open</th>\n",
       "      <th>High</th>\n",
       "      <th>Low</th>\n",
       "      <th>Vol.</th>\n",
       "      <th>Change %</th>\n",
       "    </tr>\n",
       "  </thead>\n",
       "  <tbody>\n",
       "    <tr>\n",
       "      <th>0</th>\n",
       "      <td>Feb 05, 2021</td>\n",
       "      <td>0.049016</td>\n",
       "      <td>0.052898</td>\n",
       "      <td>0.052898</td>\n",
       "      <td>0.049016</td>\n",
       "      <td>51.96B</td>\n",
       "      <td>-7.39%</td>\n",
       "    </tr>\n",
       "    <tr>\n",
       "      <th>1</th>\n",
       "      <td>Feb 04, 2021</td>\n",
       "      <td>0.052930</td>\n",
       "      <td>0.037000</td>\n",
       "      <td>0.052930</td>\n",
       "      <td>0.036789</td>\n",
       "      <td>48.78B</td>\n",
       "      <td>41.69%</td>\n",
       "    </tr>\n",
       "    <tr>\n",
       "      <th>2</th>\n",
       "      <td>Feb 03, 2021</td>\n",
       "      <td>0.037356</td>\n",
       "      <td>0.031388</td>\n",
       "      <td>0.037356</td>\n",
       "      <td>0.031388</td>\n",
       "      <td>12.96B</td>\n",
       "      <td>19.17%</td>\n",
       "    </tr>\n",
       "    <tr>\n",
       "      <th>3</th>\n",
       "      <td>Feb 02, 2021</td>\n",
       "      <td>0.031347</td>\n",
       "      <td>0.034816</td>\n",
       "      <td>0.034816</td>\n",
       "      <td>0.030692</td>\n",
       "      <td>11.55B</td>\n",
       "      <td>-9.65%</td>\n",
       "    </tr>\n",
       "    <tr>\n",
       "      <th>4</th>\n",
       "      <td>Feb 01, 2021</td>\n",
       "      <td>0.034694</td>\n",
       "      <td>0.036722</td>\n",
       "      <td>0.040650</td>\n",
       "      <td>0.034694</td>\n",
       "      <td>23.87B</td>\n",
       "      <td>-5.69%</td>\n",
       "    </tr>\n",
       "  </tbody>\n",
       "</table>\n",
       "</div>"
      ],
      "text/plain": [
       "           Date     Price      Open      High       Low    Vol. Change %\n",
       "0  Feb 05, 2021  0.049016  0.052898  0.052898  0.049016  51.96B   -7.39%\n",
       "1  Feb 04, 2021  0.052930  0.037000  0.052930  0.036789  48.78B   41.69%\n",
       "2  Feb 03, 2021  0.037356  0.031388  0.037356  0.031388  12.96B   19.17%\n",
       "3  Feb 02, 2021  0.031347  0.034816  0.034816  0.030692  11.55B   -9.65%\n",
       "4  Feb 01, 2021  0.034694  0.036722  0.040650  0.034694  23.87B   -5.69%"
      ]
     },
     "execution_count": 3,
     "metadata": {},
     "output_type": "execute_result"
    }
   ],
   "source": [
    "df.head()"
   ]
  },
  {
   "cell_type": "code",
   "execution_count": 4,
   "metadata": {},
   "outputs": [
    {
     "data": {
      "text/plain": [
       "Date        datetime64[ns]\n",
       "Price              float64\n",
       "Open               float64\n",
       "High               float64\n",
       "Low                float64\n",
       "Vol.                object\n",
       "Change %            object\n",
       "dtype: object"
      ]
     },
     "execution_count": 4,
     "metadata": {},
     "output_type": "execute_result"
    }
   ],
   "source": [
    "# convert date column to datetime type\n",
    "df.Date = pd.to_datetime(df.Date)\n",
    "df.dtypes"
   ]
  },
  {
   "cell_type": "code",
   "execution_count": 5,
   "metadata": {},
   "outputs": [
    {
     "data": {
      "text/html": [
       "<div>\n",
       "<style scoped>\n",
       "    .dataframe tbody tr th:only-of-type {\n",
       "        vertical-align: middle;\n",
       "    }\n",
       "\n",
       "    .dataframe tbody tr th {\n",
       "        vertical-align: top;\n",
       "    }\n",
       "\n",
       "    .dataframe thead th {\n",
       "        text-align: right;\n",
       "    }\n",
       "</style>\n",
       "<table border=\"1\" class=\"dataframe\">\n",
       "  <thead>\n",
       "    <tr style=\"text-align: right;\">\n",
       "      <th></th>\n",
       "      <th>Price</th>\n",
       "      <th>Open</th>\n",
       "      <th>High</th>\n",
       "      <th>Low</th>\n",
       "      <th>Vol.</th>\n",
       "      <th>Change %</th>\n",
       "    </tr>\n",
       "    <tr>\n",
       "      <th>Date</th>\n",
       "      <th></th>\n",
       "      <th></th>\n",
       "      <th></th>\n",
       "      <th></th>\n",
       "      <th></th>\n",
       "      <th></th>\n",
       "    </tr>\n",
       "  </thead>\n",
       "  <tbody>\n",
       "    <tr>\n",
       "      <th>2020-12-01</th>\n",
       "      <td>0.003323</td>\n",
       "      <td>0.003558</td>\n",
       "      <td>0.003568</td>\n",
       "      <td>0.003323</td>\n",
       "      <td>1.03B</td>\n",
       "      <td>-6.67%</td>\n",
       "    </tr>\n",
       "    <tr>\n",
       "      <th>2020-12-02</th>\n",
       "      <td>0.003368</td>\n",
       "      <td>0.003324</td>\n",
       "      <td>0.003404</td>\n",
       "      <td>0.003324</td>\n",
       "      <td>591.00M</td>\n",
       "      <td>1.35%</td>\n",
       "    </tr>\n",
       "    <tr>\n",
       "      <th>2020-12-03</th>\n",
       "      <td>0.003428</td>\n",
       "      <td>0.003363</td>\n",
       "      <td>0.003439</td>\n",
       "      <td>0.003363</td>\n",
       "      <td>662.66M</td>\n",
       "      <td>1.78%</td>\n",
       "    </tr>\n",
       "    <tr>\n",
       "      <th>2020-12-04</th>\n",
       "      <td>0.003284</td>\n",
       "      <td>0.003422</td>\n",
       "      <td>0.003422</td>\n",
       "      <td>0.003284</td>\n",
       "      <td>572.32M</td>\n",
       "      <td>-4.20%</td>\n",
       "    </tr>\n",
       "    <tr>\n",
       "      <th>2020-12-05</th>\n",
       "      <td>0.003392</td>\n",
       "      <td>0.003281</td>\n",
       "      <td>0.003404</td>\n",
       "      <td>0.003281</td>\n",
       "      <td>369.45M</td>\n",
       "      <td>3.28%</td>\n",
       "    </tr>\n",
       "  </tbody>\n",
       "</table>\n",
       "</div>"
      ],
      "text/plain": [
       "               Price      Open      High       Low     Vol. Change %\n",
       "Date                                                                \n",
       "2020-12-01  0.003323  0.003558  0.003568  0.003323    1.03B   -6.67%\n",
       "2020-12-02  0.003368  0.003324  0.003404  0.003324  591.00M    1.35%\n",
       "2020-12-03  0.003428  0.003363  0.003439  0.003363  662.66M    1.78%\n",
       "2020-12-04  0.003284  0.003422  0.003422  0.003284  572.32M   -4.20%\n",
       "2020-12-05  0.003392  0.003281  0.003404  0.003281  369.45M    3.28%"
      ]
     },
     "execution_count": 5,
     "metadata": {},
     "output_type": "execute_result"
    }
   ],
   "source": [
    "# set ds as index and sort\n",
    "# this is a very important step!\n",
    "df = df.set_index('Date').sort_index()\n",
    "df.head()"
   ]
  },
  {
   "cell_type": "markdown",
   "metadata": {},
   "source": [
    "Now that the data is acquired, let's look at its data types and summary statistics."
   ]
  },
  {
   "cell_type": "code",
   "execution_count": 6,
   "metadata": {},
   "outputs": [
    {
     "name": "stdout",
     "output_type": "stream",
     "text": [
      "<class 'pandas.core.frame.DataFrame'>\n",
      "DatetimeIndex: 67 entries, 2020-12-01 to 2021-02-05\n",
      "Data columns (total 6 columns):\n",
      " #   Column    Non-Null Count  Dtype  \n",
      "---  ------    --------------  -----  \n",
      " 0   Price     67 non-null     float64\n",
      " 1   Open      67 non-null     float64\n",
      " 2   High      67 non-null     float64\n",
      " 3   Low       67 non-null     float64\n",
      " 4   Vol.      67 non-null     object \n",
      " 5   Change %  67 non-null     object \n",
      "dtypes: float64(4), object(2)\n",
      "memory usage: 3.7+ KB\n"
     ]
    }
   ],
   "source": [
    "df.info()"
   ]
  },
  {
   "cell_type": "code",
   "execution_count": 7,
   "metadata": {},
   "outputs": [
    {
     "data": {
      "text/html": [
       "<div>\n",
       "<style scoped>\n",
       "    .dataframe tbody tr th:only-of-type {\n",
       "        vertical-align: middle;\n",
       "    }\n",
       "\n",
       "    .dataframe tbody tr th {\n",
       "        vertical-align: top;\n",
       "    }\n",
       "\n",
       "    .dataframe thead th {\n",
       "        text-align: right;\n",
       "    }\n",
       "</style>\n",
       "<table border=\"1\" class=\"dataframe\">\n",
       "  <thead>\n",
       "    <tr style=\"text-align: right;\">\n",
       "      <th></th>\n",
       "      <th>count</th>\n",
       "      <th>mean</th>\n",
       "      <th>std</th>\n",
       "      <th>min</th>\n",
       "      <th>25%</th>\n",
       "      <th>50%</th>\n",
       "      <th>75%</th>\n",
       "      <th>max</th>\n",
       "    </tr>\n",
       "  </thead>\n",
       "  <tbody>\n",
       "    <tr>\n",
       "      <th>Price</th>\n",
       "      <td>67.0</td>\n",
       "      <td>0.010672</td>\n",
       "      <td>0.011989</td>\n",
       "      <td>0.003073</td>\n",
       "      <td>0.003743</td>\n",
       "      <td>0.008076</td>\n",
       "      <td>0.009742</td>\n",
       "      <td>0.052930</td>\n",
       "    </tr>\n",
       "    <tr>\n",
       "      <th>Open</th>\n",
       "      <td>67.0</td>\n",
       "      <td>0.009973</td>\n",
       "      <td>0.010959</td>\n",
       "      <td>0.003073</td>\n",
       "      <td>0.003638</td>\n",
       "      <td>0.007405</td>\n",
       "      <td>0.009579</td>\n",
       "      <td>0.052898</td>\n",
       "    </tr>\n",
       "    <tr>\n",
       "      <th>High</th>\n",
       "      <td>67.0</td>\n",
       "      <td>0.011812</td>\n",
       "      <td>0.014410</td>\n",
       "      <td>0.003113</td>\n",
       "      <td>0.003909</td>\n",
       "      <td>0.008351</td>\n",
       "      <td>0.009995</td>\n",
       "      <td>0.071812</td>\n",
       "    </tr>\n",
       "    <tr>\n",
       "      <th>Low</th>\n",
       "      <td>67.0</td>\n",
       "      <td>0.009213</td>\n",
       "      <td>0.009641</td>\n",
       "      <td>0.003058</td>\n",
       "      <td>0.003556</td>\n",
       "      <td>0.006835</td>\n",
       "      <td>0.009075</td>\n",
       "      <td>0.049016</td>\n",
       "    </tr>\n",
       "  </tbody>\n",
       "</table>\n",
       "</div>"
      ],
      "text/plain": [
       "       count      mean       std       min       25%       50%       75%  \\\n",
       "Price   67.0  0.010672  0.011989  0.003073  0.003743  0.008076  0.009742   \n",
       "Open    67.0  0.009973  0.010959  0.003073  0.003638  0.007405  0.009579   \n",
       "High    67.0  0.011812  0.014410  0.003113  0.003909  0.008351  0.009995   \n",
       "Low     67.0  0.009213  0.009641  0.003058  0.003556  0.006835  0.009075   \n",
       "\n",
       "            max  \n",
       "Price  0.052930  \n",
       "Open   0.052898  \n",
       "High   0.071812  \n",
       "Low    0.049016  "
      ]
     },
     "execution_count": 7,
     "metadata": {},
     "output_type": "execute_result"
    }
   ],
   "source": [
    "df.describe().T"
   ]
  },
  {
   "cell_type": "code",
   "execution_count": 8,
   "metadata": {},
   "outputs": [
    {
     "data": {
      "text/plain": [
       "(67, 6)"
      ]
     },
     "execution_count": 8,
     "metadata": {},
     "output_type": "execute_result"
    }
   ],
   "source": [
    "df.shape"
   ]
  },
  {
   "cell_type": "markdown",
   "metadata": {},
   "source": [
    "### Prepare the data"
   ]
  },
  {
   "cell_type": "markdown",
   "metadata": {},
   "source": [
    "Rename columns for readability and ease of calling."
   ]
  },
  {
   "cell_type": "code",
   "execution_count": 9,
   "metadata": {},
   "outputs": [],
   "source": [
    "df = df.rename(columns={'Vol.' : 'Volume'})\n",
    "df = df.rename(columns={'Change %' : 'PercentChange'})"
   ]
  },
  {
   "cell_type": "markdown",
   "metadata": {},
   "source": [
    "Appropriately convert strings to numericals."
   ]
  },
  {
   "cell_type": "code",
   "execution_count": 10,
   "metadata": {},
   "outputs": [
    {
     "data": {
      "text/html": [
       "<div>\n",
       "<style scoped>\n",
       "    .dataframe tbody tr th:only-of-type {\n",
       "        vertical-align: middle;\n",
       "    }\n",
       "\n",
       "    .dataframe tbody tr th {\n",
       "        vertical-align: top;\n",
       "    }\n",
       "\n",
       "    .dataframe thead th {\n",
       "        text-align: right;\n",
       "    }\n",
       "</style>\n",
       "<table border=\"1\" class=\"dataframe\">\n",
       "  <thead>\n",
       "    <tr style=\"text-align: right;\">\n",
       "      <th></th>\n",
       "      <th>Price</th>\n",
       "      <th>Open</th>\n",
       "      <th>High</th>\n",
       "      <th>Low</th>\n",
       "      <th>Volume</th>\n",
       "      <th>PercentChange</th>\n",
       "    </tr>\n",
       "    <tr>\n",
       "      <th>Date</th>\n",
       "      <th></th>\n",
       "      <th></th>\n",
       "      <th></th>\n",
       "      <th></th>\n",
       "      <th></th>\n",
       "      <th></th>\n",
       "    </tr>\n",
       "  </thead>\n",
       "  <tbody>\n",
       "    <tr>\n",
       "      <th>2020-12-01</th>\n",
       "      <td>0.003323</td>\n",
       "      <td>0.003558</td>\n",
       "      <td>0.003568</td>\n",
       "      <td>0.003323</td>\n",
       "      <td>1.03B</td>\n",
       "      <td>-6.67%</td>\n",
       "    </tr>\n",
       "    <tr>\n",
       "      <th>2020-12-02</th>\n",
       "      <td>0.003368</td>\n",
       "      <td>0.003324</td>\n",
       "      <td>0.003404</td>\n",
       "      <td>0.003324</td>\n",
       "      <td>591.00M</td>\n",
       "      <td>1.35%</td>\n",
       "    </tr>\n",
       "    <tr>\n",
       "      <th>2020-12-03</th>\n",
       "      <td>0.003428</td>\n",
       "      <td>0.003363</td>\n",
       "      <td>0.003439</td>\n",
       "      <td>0.003363</td>\n",
       "      <td>662.66M</td>\n",
       "      <td>1.78%</td>\n",
       "    </tr>\n",
       "    <tr>\n",
       "      <th>2020-12-04</th>\n",
       "      <td>0.003284</td>\n",
       "      <td>0.003422</td>\n",
       "      <td>0.003422</td>\n",
       "      <td>0.003284</td>\n",
       "      <td>572.32M</td>\n",
       "      <td>-4.20%</td>\n",
       "    </tr>\n",
       "    <tr>\n",
       "      <th>2020-12-05</th>\n",
       "      <td>0.003392</td>\n",
       "      <td>0.003281</td>\n",
       "      <td>0.003404</td>\n",
       "      <td>0.003281</td>\n",
       "      <td>369.45M</td>\n",
       "      <td>3.28%</td>\n",
       "    </tr>\n",
       "  </tbody>\n",
       "</table>\n",
       "</div>"
      ],
      "text/plain": [
       "               Price      Open      High       Low   Volume PercentChange\n",
       "Date                                                                     \n",
       "2020-12-01  0.003323  0.003558  0.003568  0.003323    1.03B        -6.67%\n",
       "2020-12-02  0.003368  0.003324  0.003404  0.003324  591.00M         1.35%\n",
       "2020-12-03  0.003428  0.003363  0.003439  0.003363  662.66M         1.78%\n",
       "2020-12-04  0.003284  0.003422  0.003422  0.003284  572.32M        -4.20%\n",
       "2020-12-05  0.003392  0.003281  0.003404  0.003281  369.45M         3.28%"
      ]
     },
     "execution_count": 10,
     "metadata": {},
     "output_type": "execute_result"
    }
   ],
   "source": [
    "df.head()"
   ]
  },
  {
   "cell_type": "code",
   "execution_count": 11,
   "metadata": {},
   "outputs": [],
   "source": [
    "def mb_to_mbillion(string):\n",
    "    if string[-1] == 'B':\n",
    "        string = string[:-1]\n",
    "        num = float(string) * 1_000_000_000\n",
    "    elif string[-1] == 'M':\n",
    "        string = string[:-1]\n",
    "        num = float(string) * 1_000_000\n",
    "    return num\n",
    "\n",
    "df.Volume = df.Volume.apply(mb_to_mbillion)"
   ]
  },
  {
   "cell_type": "code",
   "execution_count": 12,
   "metadata": {},
   "outputs": [],
   "source": [
    "def handle_percent(string):\n",
    "    string = string[:-1]\n",
    "    num = float(string)\n",
    "    return num\n",
    "\n",
    "df.PercentChange = df.PercentChange.apply(handle_percent)"
   ]
  },
  {
   "cell_type": "code",
   "execution_count": 13,
   "metadata": {},
   "outputs": [
    {
     "data": {
      "text/plain": [
       "Price            float64\n",
       "Open             float64\n",
       "High             float64\n",
       "Low              float64\n",
       "Volume           float64\n",
       "PercentChange    float64\n",
       "dtype: object"
      ]
     },
     "execution_count": 13,
     "metadata": {},
     "output_type": "execute_result"
    }
   ],
   "source": [
    "df.dtypes"
   ]
  },
  {
   "cell_type": "code",
   "execution_count": 14,
   "metadata": {},
   "outputs": [
    {
     "data": {
      "text/html": [
       "<div>\n",
       "<style scoped>\n",
       "    .dataframe tbody tr th:only-of-type {\n",
       "        vertical-align: middle;\n",
       "    }\n",
       "\n",
       "    .dataframe tbody tr th {\n",
       "        vertical-align: top;\n",
       "    }\n",
       "\n",
       "    .dataframe thead th {\n",
       "        text-align: right;\n",
       "    }\n",
       "</style>\n",
       "<table border=\"1\" class=\"dataframe\">\n",
       "  <thead>\n",
       "    <tr style=\"text-align: right;\">\n",
       "      <th></th>\n",
       "      <th>Price</th>\n",
       "      <th>Open</th>\n",
       "      <th>High</th>\n",
       "      <th>Low</th>\n",
       "      <th>Volume</th>\n",
       "      <th>PercentChange</th>\n",
       "    </tr>\n",
       "    <tr>\n",
       "      <th>Date</th>\n",
       "      <th></th>\n",
       "      <th></th>\n",
       "      <th></th>\n",
       "      <th></th>\n",
       "      <th></th>\n",
       "      <th></th>\n",
       "    </tr>\n",
       "  </thead>\n",
       "  <tbody>\n",
       "    <tr>\n",
       "      <th>2020-12-01</th>\n",
       "      <td>0.003323</td>\n",
       "      <td>0.003558</td>\n",
       "      <td>0.003568</td>\n",
       "      <td>0.003323</td>\n",
       "      <td>1.030000e+09</td>\n",
       "      <td>-6.67</td>\n",
       "    </tr>\n",
       "    <tr>\n",
       "      <th>2020-12-02</th>\n",
       "      <td>0.003368</td>\n",
       "      <td>0.003324</td>\n",
       "      <td>0.003404</td>\n",
       "      <td>0.003324</td>\n",
       "      <td>5.910000e+08</td>\n",
       "      <td>1.35</td>\n",
       "    </tr>\n",
       "    <tr>\n",
       "      <th>2020-12-03</th>\n",
       "      <td>0.003428</td>\n",
       "      <td>0.003363</td>\n",
       "      <td>0.003439</td>\n",
       "      <td>0.003363</td>\n",
       "      <td>6.626600e+08</td>\n",
       "      <td>1.78</td>\n",
       "    </tr>\n",
       "    <tr>\n",
       "      <th>2020-12-04</th>\n",
       "      <td>0.003284</td>\n",
       "      <td>0.003422</td>\n",
       "      <td>0.003422</td>\n",
       "      <td>0.003284</td>\n",
       "      <td>5.723200e+08</td>\n",
       "      <td>-4.20</td>\n",
       "    </tr>\n",
       "    <tr>\n",
       "      <th>2020-12-05</th>\n",
       "      <td>0.003392</td>\n",
       "      <td>0.003281</td>\n",
       "      <td>0.003404</td>\n",
       "      <td>0.003281</td>\n",
       "      <td>3.694500e+08</td>\n",
       "      <td>3.28</td>\n",
       "    </tr>\n",
       "  </tbody>\n",
       "</table>\n",
       "</div>"
      ],
      "text/plain": [
       "               Price      Open      High       Low        Volume  \\\n",
       "Date                                                               \n",
       "2020-12-01  0.003323  0.003558  0.003568  0.003323  1.030000e+09   \n",
       "2020-12-02  0.003368  0.003324  0.003404  0.003324  5.910000e+08   \n",
       "2020-12-03  0.003428  0.003363  0.003439  0.003363  6.626600e+08   \n",
       "2020-12-04  0.003284  0.003422  0.003422  0.003284  5.723200e+08   \n",
       "2020-12-05  0.003392  0.003281  0.003404  0.003281  3.694500e+08   \n",
       "\n",
       "            PercentChange  \n",
       "Date                       \n",
       "2020-12-01          -6.67  \n",
       "2020-12-02           1.35  \n",
       "2020-12-03           1.78  \n",
       "2020-12-04          -4.20  \n",
       "2020-12-05           3.28  "
      ]
     },
     "execution_count": 14,
     "metadata": {},
     "output_type": "execute_result"
    }
   ],
   "source": [
    "df.head()"
   ]
  },
  {
   "cell_type": "markdown",
   "metadata": {},
   "source": [
    "Conversions successful."
   ]
  },
  {
   "cell_type": "markdown",
   "metadata": {},
   "source": [
    "### Acquire and prepare minute OHLCV data\n",
    "\n",
    "After I split the data and plotted it, I realized that there is not enough data to split how I want, as this dataset is only daily.\n",
    "\n",
    "So, I am now going to acquire minute-by-minute Dogecoin/USD data. It's a little messier than the other dataset, but the time and effort will be well worth it."
   ]
  },
  {
   "cell_type": "code",
   "execution_count": 15,
   "metadata": {
    "scrolled": true
   },
   "outputs": [
    {
     "data": {
      "text/html": [
       "<div>\n",
       "<style scoped>\n",
       "    .dataframe tbody tr th:only-of-type {\n",
       "        vertical-align: middle;\n",
       "    }\n",
       "\n",
       "    .dataframe tbody tr th {\n",
       "        vertical-align: top;\n",
       "    }\n",
       "\n",
       "    .dataframe thead th {\n",
       "        text-align: right;\n",
       "    }\n",
       "</style>\n",
       "<table border=\"1\" class=\"dataframe\">\n",
       "  <thead>\n",
       "    <tr style=\"text-align: right;\">\n",
       "      <th></th>\n",
       "      <th>0</th>\n",
       "      <th>1</th>\n",
       "      <th>2</th>\n",
       "      <th>3</th>\n",
       "      <th>4</th>\n",
       "      <th>5</th>\n",
       "      <th>6</th>\n",
       "      <th>7</th>\n",
       "      <th>8</th>\n",
       "      <th>9</th>\n",
       "    </tr>\n",
       "  </thead>\n",
       "  <tbody>\n",
       "    <tr>\n",
       "      <th>0</th>\n",
       "      <td>1596085200</td>\n",
       "      <td>0.003158</td>\n",
       "      <td>0.003158</td>\n",
       "      <td>0.003158</td>\n",
       "      <td>0.003158</td>\n",
       "      <td>3200</td>\n",
       "      <td>10</td>\n",
       "      <td>3200</td>\n",
       "      <td>10</td>\n",
       "      <td>1</td>\n",
       "    </tr>\n",
       "    <tr>\n",
       "      <th>1</th>\n",
       "      <td>1596085260</td>\n",
       "      <td>0.003158</td>\n",
       "      <td>0.003158</td>\n",
       "      <td>0.003158</td>\n",
       "      <td>0.003158</td>\n",
       "      <td>0</td>\n",
       "      <td>0</td>\n",
       "      <td>0</td>\n",
       "      <td>0</td>\n",
       "      <td>0</td>\n",
       "    </tr>\n",
       "    <tr>\n",
       "      <th>2</th>\n",
       "      <td>1596085320</td>\n",
       "      <td>0.003158</td>\n",
       "      <td>0.003158</td>\n",
       "      <td>0.003158</td>\n",
       "      <td>0.003158</td>\n",
       "      <td>0</td>\n",
       "      <td>0</td>\n",
       "      <td>0</td>\n",
       "      <td>0</td>\n",
       "      <td>0</td>\n",
       "    </tr>\n",
       "    <tr>\n",
       "      <th>3</th>\n",
       "      <td>1596085380</td>\n",
       "      <td>0.003158</td>\n",
       "      <td>0.003158</td>\n",
       "      <td>0.003158</td>\n",
       "      <td>0.003158</td>\n",
       "      <td>0</td>\n",
       "      <td>0</td>\n",
       "      <td>0</td>\n",
       "      <td>0</td>\n",
       "      <td>0</td>\n",
       "    </tr>\n",
       "    <tr>\n",
       "      <th>4</th>\n",
       "      <td>1596085440</td>\n",
       "      <td>0.003158</td>\n",
       "      <td>0.003158</td>\n",
       "      <td>0.003158</td>\n",
       "      <td>0.003158</td>\n",
       "      <td>0</td>\n",
       "      <td>0</td>\n",
       "      <td>0</td>\n",
       "      <td>0</td>\n",
       "      <td>0</td>\n",
       "    </tr>\n",
       "  </tbody>\n",
       "</table>\n",
       "</div>"
      ],
      "text/plain": [
       "            0         1         2         3         4     5   6     7   8  9\n",
       "0  1596085200  0.003158  0.003158  0.003158  0.003158  3200  10  3200  10  1\n",
       "1  1596085260  0.003158  0.003158  0.003158  0.003158     0   0     0   0  0\n",
       "2  1596085320  0.003158  0.003158  0.003158  0.003158     0   0     0   0  0\n",
       "3  1596085380  0.003158  0.003158  0.003158  0.003158     0   0     0   0  0\n",
       "4  1596085440  0.003158  0.003158  0.003158  0.003158     0   0     0   0  0"
      ]
     },
     "execution_count": 15,
     "metadata": {},
     "output_type": "execute_result"
    }
   ],
   "source": [
    "df = pd.read_csv('DOGEBUSD.csv', header=None, sep='|')\n",
    "df.head()"
   ]
  },
  {
   "cell_type": "markdown",
   "metadata": {},
   "source": [
    "There was no documentation I could find on what each column represents.\n",
    "\n",
    "However, I can use domain knowledge and process of eliminaton to make educated guesses on which columns are what."
   ]
  },
  {
   "cell_type": "code",
   "execution_count": 16,
   "metadata": {},
   "outputs": [
    {
     "data": {
      "text/html": [
       "<div>\n",
       "<style scoped>\n",
       "    .dataframe tbody tr th:only-of-type {\n",
       "        vertical-align: middle;\n",
       "    }\n",
       "\n",
       "    .dataframe tbody tr th {\n",
       "        vertical-align: top;\n",
       "    }\n",
       "\n",
       "    .dataframe thead th {\n",
       "        text-align: right;\n",
       "    }\n",
       "</style>\n",
       "<table border=\"1\" class=\"dataframe\">\n",
       "  <thead>\n",
       "    <tr style=\"text-align: right;\">\n",
       "      <th></th>\n",
       "      <th>0</th>\n",
       "      <th>1</th>\n",
       "      <th>2</th>\n",
       "      <th>3</th>\n",
       "      <th>4</th>\n",
       "      <th>5</th>\n",
       "      <th>6</th>\n",
       "      <th>7</th>\n",
       "      <th>8</th>\n",
       "      <th>9</th>\n",
       "    </tr>\n",
       "  </thead>\n",
       "  <tbody>\n",
       "    <tr>\n",
       "      <th>count</th>\n",
       "      <td>2.754140e+05</td>\n",
       "      <td>275414.000000</td>\n",
       "      <td>275414.000000</td>\n",
       "      <td>275414.000000</td>\n",
       "      <td>275414.000000</td>\n",
       "      <td>2.754140e+05</td>\n",
       "      <td>2.754140e+05</td>\n",
       "      <td>2.754140e+05</td>\n",
       "      <td>2.754140e+05</td>\n",
       "      <td>275414.000000</td>\n",
       "    </tr>\n",
       "    <tr>\n",
       "      <th>mean</th>\n",
       "      <td>1.604353e+09</td>\n",
       "      <td>0.005686</td>\n",
       "      <td>0.005701</td>\n",
       "      <td>0.005671</td>\n",
       "      <td>0.005686</td>\n",
       "      <td>1.358302e+05</td>\n",
       "      <td>1.910157e+03</td>\n",
       "      <td>6.980216e+04</td>\n",
       "      <td>3.817084e+03</td>\n",
       "      <td>9.657054</td>\n",
       "    </tr>\n",
       "    <tr>\n",
       "      <th>std</th>\n",
       "      <td>4.777295e+06</td>\n",
       "      <td>0.008066</td>\n",
       "      <td>0.008128</td>\n",
       "      <td>0.008000</td>\n",
       "      <td>0.008066</td>\n",
       "      <td>8.294207e+05</td>\n",
       "      <td>1.678053e+04</td>\n",
       "      <td>4.418016e+05</td>\n",
       "      <td>3.196716e+04</td>\n",
       "      <td>66.440786</td>\n",
       "    </tr>\n",
       "    <tr>\n",
       "      <th>min</th>\n",
       "      <td>1.596085e+09</td>\n",
       "      <td>0.002459</td>\n",
       "      <td>0.002459</td>\n",
       "      <td>0.002459</td>\n",
       "      <td>0.002459</td>\n",
       "      <td>0.000000e+00</td>\n",
       "      <td>0.000000e+00</td>\n",
       "      <td>0.000000e+00</td>\n",
       "      <td>0.000000e+00</td>\n",
       "      <td>0.000000</td>\n",
       "    </tr>\n",
       "    <tr>\n",
       "      <th>25%</th>\n",
       "      <td>1.600216e+09</td>\n",
       "      <td>0.002722</td>\n",
       "      <td>0.002722</td>\n",
       "      <td>0.002722</td>\n",
       "      <td>0.002722</td>\n",
       "      <td>0.000000e+00</td>\n",
       "      <td>0.000000e+00</td>\n",
       "      <td>0.000000e+00</td>\n",
       "      <td>0.000000e+00</td>\n",
       "      <td>0.000000</td>\n",
       "    </tr>\n",
       "    <tr>\n",
       "      <th>50%</th>\n",
       "      <td>1.604348e+09</td>\n",
       "      <td>0.003265</td>\n",
       "      <td>0.003265</td>\n",
       "      <td>0.003265</td>\n",
       "      <td>0.003265</td>\n",
       "      <td>0.000000e+00</td>\n",
       "      <td>0.000000e+00</td>\n",
       "      <td>0.000000e+00</td>\n",
       "      <td>0.000000e+00</td>\n",
       "      <td>0.000000</td>\n",
       "    </tr>\n",
       "    <tr>\n",
       "      <th>75%</th>\n",
       "      <td>1.608482e+09</td>\n",
       "      <td>0.004056</td>\n",
       "      <td>0.004057</td>\n",
       "      <td>0.004055</td>\n",
       "      <td>0.004056</td>\n",
       "      <td>0.000000e+00</td>\n",
       "      <td>0.000000e+00</td>\n",
       "      <td>0.000000e+00</td>\n",
       "      <td>0.000000e+00</td>\n",
       "      <td>0.000000</td>\n",
       "    </tr>\n",
       "    <tr>\n",
       "      <th>max</th>\n",
       "      <td>1.612631e+09</td>\n",
       "      <td>0.085995</td>\n",
       "      <td>0.087381</td>\n",
       "      <td>0.083201</td>\n",
       "      <td>0.085995</td>\n",
       "      <td>4.248405e+07</td>\n",
       "      <td>1.403784e+06</td>\n",
       "      <td>2.364880e+07</td>\n",
       "      <td>1.908171e+06</td>\n",
       "      <td>3431.000000</td>\n",
       "    </tr>\n",
       "  </tbody>\n",
       "</table>\n",
       "</div>"
      ],
      "text/plain": [
       "                  0              1              2              3  \\\n",
       "count  2.754140e+05  275414.000000  275414.000000  275414.000000   \n",
       "mean   1.604353e+09       0.005686       0.005701       0.005671   \n",
       "std    4.777295e+06       0.008066       0.008128       0.008000   \n",
       "min    1.596085e+09       0.002459       0.002459       0.002459   \n",
       "25%    1.600216e+09       0.002722       0.002722       0.002722   \n",
       "50%    1.604348e+09       0.003265       0.003265       0.003265   \n",
       "75%    1.608482e+09       0.004056       0.004057       0.004055   \n",
       "max    1.612631e+09       0.085995       0.087381       0.083201   \n",
       "\n",
       "                   4             5             6             7             8  \\\n",
       "count  275414.000000  2.754140e+05  2.754140e+05  2.754140e+05  2.754140e+05   \n",
       "mean        0.005686  1.358302e+05  1.910157e+03  6.980216e+04  3.817084e+03   \n",
       "std         0.008066  8.294207e+05  1.678053e+04  4.418016e+05  3.196716e+04   \n",
       "min         0.002459  0.000000e+00  0.000000e+00  0.000000e+00  0.000000e+00   \n",
       "25%         0.002722  0.000000e+00  0.000000e+00  0.000000e+00  0.000000e+00   \n",
       "50%         0.003265  0.000000e+00  0.000000e+00  0.000000e+00  0.000000e+00   \n",
       "75%         0.004056  0.000000e+00  0.000000e+00  0.000000e+00  0.000000e+00   \n",
       "max         0.085995  4.248405e+07  1.403784e+06  2.364880e+07  1.908171e+06   \n",
       "\n",
       "                   9  \n",
       "count  275414.000000  \n",
       "mean        9.657054  \n",
       "std        66.440786  \n",
       "min         0.000000  \n",
       "25%         0.000000  \n",
       "50%         0.000000  \n",
       "75%         0.000000  \n",
       "max      3431.000000  "
      ]
     },
     "execution_count": 16,
     "metadata": {},
     "output_type": "execute_result"
    }
   ],
   "source": [
    "df.describe()"
   ]
  },
  {
   "cell_type": "code",
   "execution_count": 17,
   "metadata": {},
   "outputs": [
    {
     "data": {
      "text/html": [
       "<div>\n",
       "<style scoped>\n",
       "    .dataframe tbody tr th:only-of-type {\n",
       "        vertical-align: middle;\n",
       "    }\n",
       "\n",
       "    .dataframe tbody tr th {\n",
       "        vertical-align: top;\n",
       "    }\n",
       "\n",
       "    .dataframe thead th {\n",
       "        text-align: right;\n",
       "    }\n",
       "</style>\n",
       "<table border=\"1\" class=\"dataframe\">\n",
       "  <thead>\n",
       "    <tr style=\"text-align: right;\">\n",
       "      <th></th>\n",
       "      <th>SecondsSinceEpoch</th>\n",
       "      <th>Open</th>\n",
       "      <th>High</th>\n",
       "      <th>Low</th>\n",
       "      <th>Close</th>\n",
       "      <th>Volume</th>\n",
       "    </tr>\n",
       "  </thead>\n",
       "  <tbody>\n",
       "    <tr>\n",
       "      <th>0</th>\n",
       "      <td>1596085200</td>\n",
       "      <td>0.003158</td>\n",
       "      <td>0.003158</td>\n",
       "      <td>0.003158</td>\n",
       "      <td>0.003158</td>\n",
       "      <td>3200</td>\n",
       "    </tr>\n",
       "    <tr>\n",
       "      <th>1</th>\n",
       "      <td>1596085260</td>\n",
       "      <td>0.003158</td>\n",
       "      <td>0.003158</td>\n",
       "      <td>0.003158</td>\n",
       "      <td>0.003158</td>\n",
       "      <td>0</td>\n",
       "    </tr>\n",
       "    <tr>\n",
       "      <th>2</th>\n",
       "      <td>1596085320</td>\n",
       "      <td>0.003158</td>\n",
       "      <td>0.003158</td>\n",
       "      <td>0.003158</td>\n",
       "      <td>0.003158</td>\n",
       "      <td>0</td>\n",
       "    </tr>\n",
       "    <tr>\n",
       "      <th>3</th>\n",
       "      <td>1596085380</td>\n",
       "      <td>0.003158</td>\n",
       "      <td>0.003158</td>\n",
       "      <td>0.003158</td>\n",
       "      <td>0.003158</td>\n",
       "      <td>0</td>\n",
       "    </tr>\n",
       "    <tr>\n",
       "      <th>4</th>\n",
       "      <td>1596085440</td>\n",
       "      <td>0.003158</td>\n",
       "      <td>0.003158</td>\n",
       "      <td>0.003158</td>\n",
       "      <td>0.003158</td>\n",
       "      <td>0</td>\n",
       "    </tr>\n",
       "  </tbody>\n",
       "</table>\n",
       "</div>"
      ],
      "text/plain": [
       "   SecondsSinceEpoch      Open      High       Low     Close  Volume\n",
       "0         1596085200  0.003158  0.003158  0.003158  0.003158    3200\n",
       "1         1596085260  0.003158  0.003158  0.003158  0.003158       0\n",
       "2         1596085320  0.003158  0.003158  0.003158  0.003158       0\n",
       "3         1596085380  0.003158  0.003158  0.003158  0.003158       0\n",
       "4         1596085440  0.003158  0.003158  0.003158  0.003158       0"
      ]
     },
     "execution_count": 17,
     "metadata": {},
     "output_type": "execute_result"
    }
   ],
   "source": [
    "# rename columns and drop columns I can't figure out for now\n",
    "\n",
    "# I will ask a stockbroker at some point to see if they can help me determine what the last few fields are.\n",
    "\n",
    "col_dict = {\n",
    "    0: 'SecondsSinceEpoch',\n",
    "    1: 'Open',\n",
    "    2: 'High',\n",
    "    3: 'Low',\n",
    "    4: 'Close',\n",
    "    5: 'Volume'\n",
    "}\n",
    "\n",
    "df = df.drop(columns=[6, 7, 8, 9])\n",
    "df = df.rename(columns=col_dict)\n",
    "\n",
    "df.head()"
   ]
  },
  {
   "cell_type": "markdown",
   "metadata": {},
   "source": [
    "Now I just need to check data types, convert ```SecondsSinceEpoch``` to datetime, set the index to be datetime, and check for nulls."
   ]
  },
  {
   "cell_type": "code",
   "execution_count": 18,
   "metadata": {},
   "outputs": [
    {
     "data": {
      "text/plain": [
       "SecondsSinceEpoch      int64\n",
       "Open                 float64\n",
       "High                 float64\n",
       "Low                  float64\n",
       "Close                float64\n",
       "Volume                 int64\n",
       "dtype: object"
      ]
     },
     "execution_count": 18,
     "metadata": {},
     "output_type": "execute_result"
    }
   ],
   "source": [
    "# check data types\n",
    "df.dtypes"
   ]
  },
  {
   "cell_type": "code",
   "execution_count": 19,
   "metadata": {},
   "outputs": [],
   "source": [
    "# convert SecondsSinceEpoch to datetime\n",
    "def convert_seconds_since_epoch(sec):\n",
    "    time = datetime.utcfromtimestamp(sec)\n",
    "    return time\n",
    "\n",
    "df.SecondsSinceEpoch = df.SecondsSinceEpoch.apply(convert_seconds_since_epoch)"
   ]
  },
  {
   "cell_type": "code",
   "execution_count": 20,
   "metadata": {},
   "outputs": [],
   "source": [
    "# set index to SecondsSinceEpoch (and rename to Date)\n",
    "\n",
    "df = df.rename(columns={'SecondsSinceEpoch': 'Date'})\n",
    "\n",
    "df = df.set_index('Date')"
   ]
  },
  {
   "cell_type": "code",
   "execution_count": 21,
   "metadata": {},
   "outputs": [
    {
     "data": {
      "text/html": [
       "<div>\n",
       "<style scoped>\n",
       "    .dataframe tbody tr th:only-of-type {\n",
       "        vertical-align: middle;\n",
       "    }\n",
       "\n",
       "    .dataframe tbody tr th {\n",
       "        vertical-align: top;\n",
       "    }\n",
       "\n",
       "    .dataframe thead th {\n",
       "        text-align: right;\n",
       "    }\n",
       "</style>\n",
       "<table border=\"1\" class=\"dataframe\">\n",
       "  <thead>\n",
       "    <tr style=\"text-align: right;\">\n",
       "      <th></th>\n",
       "      <th>Open</th>\n",
       "      <th>High</th>\n",
       "      <th>Low</th>\n",
       "      <th>Close</th>\n",
       "      <th>Volume</th>\n",
       "    </tr>\n",
       "    <tr>\n",
       "      <th>Date</th>\n",
       "      <th></th>\n",
       "      <th></th>\n",
       "      <th></th>\n",
       "      <th></th>\n",
       "      <th></th>\n",
       "    </tr>\n",
       "  </thead>\n",
       "  <tbody>\n",
       "    <tr>\n",
       "      <th>2020-07-30 05:00:00</th>\n",
       "      <td>0.003158</td>\n",
       "      <td>0.003158</td>\n",
       "      <td>0.003158</td>\n",
       "      <td>0.003158</td>\n",
       "      <td>3200</td>\n",
       "    </tr>\n",
       "    <tr>\n",
       "      <th>2020-07-30 05:01:00</th>\n",
       "      <td>0.003158</td>\n",
       "      <td>0.003158</td>\n",
       "      <td>0.003158</td>\n",
       "      <td>0.003158</td>\n",
       "      <td>0</td>\n",
       "    </tr>\n",
       "    <tr>\n",
       "      <th>2020-07-30 05:02:00</th>\n",
       "      <td>0.003158</td>\n",
       "      <td>0.003158</td>\n",
       "      <td>0.003158</td>\n",
       "      <td>0.003158</td>\n",
       "      <td>0</td>\n",
       "    </tr>\n",
       "    <tr>\n",
       "      <th>2020-07-30 05:03:00</th>\n",
       "      <td>0.003158</td>\n",
       "      <td>0.003158</td>\n",
       "      <td>0.003158</td>\n",
       "      <td>0.003158</td>\n",
       "      <td>0</td>\n",
       "    </tr>\n",
       "    <tr>\n",
       "      <th>2020-07-30 05:04:00</th>\n",
       "      <td>0.003158</td>\n",
       "      <td>0.003158</td>\n",
       "      <td>0.003158</td>\n",
       "      <td>0.003158</td>\n",
       "      <td>0</td>\n",
       "    </tr>\n",
       "  </tbody>\n",
       "</table>\n",
       "</div>"
      ],
      "text/plain": [
       "                         Open      High       Low     Close  Volume\n",
       "Date                                                               \n",
       "2020-07-30 05:00:00  0.003158  0.003158  0.003158  0.003158    3200\n",
       "2020-07-30 05:01:00  0.003158  0.003158  0.003158  0.003158       0\n",
       "2020-07-30 05:02:00  0.003158  0.003158  0.003158  0.003158       0\n",
       "2020-07-30 05:03:00  0.003158  0.003158  0.003158  0.003158       0\n",
       "2020-07-30 05:04:00  0.003158  0.003158  0.003158  0.003158       0"
      ]
     },
     "execution_count": 21,
     "metadata": {},
     "output_type": "execute_result"
    }
   ],
   "source": [
    "# check that these changes were successful\n",
    "df.head()"
   ]
  },
  {
   "cell_type": "code",
   "execution_count": 22,
   "metadata": {},
   "outputs": [
    {
     "data": {
      "text/plain": [
       "Open      0\n",
       "High      0\n",
       "Low       0\n",
       "Close     0\n",
       "Volume    0\n",
       "dtype: int64"
      ]
     },
     "execution_count": 22,
     "metadata": {},
     "output_type": "execute_result"
    }
   ],
   "source": [
    "# finally, check for nulls\n",
    "df.isna().sum()"
   ]
  },
  {
   "cell_type": "markdown",
   "metadata": {},
   "source": [
    "The data looks good to go!"
   ]
  },
  {
   "cell_type": "markdown",
   "metadata": {},
   "source": [
    "### Summarize minute data"
   ]
  },
  {
   "cell_type": "code",
   "execution_count": 23,
   "metadata": {},
   "outputs": [
    {
     "data": {
      "text/plain": [
       "(275414, 5)"
      ]
     },
     "execution_count": 23,
     "metadata": {},
     "output_type": "execute_result"
    }
   ],
   "source": [
    "df.shape"
   ]
  },
  {
   "cell_type": "markdown",
   "metadata": {},
   "source": [
    "This is 188 days worth of minute-to-minute Dogecoin/USD data."
   ]
  },
  {
   "cell_type": "code",
   "execution_count": 24,
   "metadata": {},
   "outputs": [
    {
     "name": "stdout",
     "output_type": "stream",
     "text": [
      "<class 'pandas.core.frame.DataFrame'>\n",
      "DatetimeIndex: 275414 entries, 2020-07-30 05:00:00 to 2021-02-06 17:04:00\n",
      "Data columns (total 5 columns):\n",
      " #   Column  Non-Null Count   Dtype  \n",
      "---  ------  --------------   -----  \n",
      " 0   Open    275414 non-null  float64\n",
      " 1   High    275414 non-null  float64\n",
      " 2   Low     275414 non-null  float64\n",
      " 3   Close   275414 non-null  float64\n",
      " 4   Volume  275414 non-null  int64  \n",
      "dtypes: float64(4), int64(1)\n",
      "memory usage: 12.6 MB\n"
     ]
    }
   ],
   "source": [
    "df.info()"
   ]
  },
  {
   "cell_type": "markdown",
   "metadata": {},
   "source": [
    "### Split the data"
   ]
  },
  {
   "cell_type": "markdown",
   "metadata": {},
   "source": [
    "Now I will split the dataset into train, validate, and test since the goal of this project is to create a predictive model."
   ]
  },
  {
   "cell_type": "code",
   "execution_count": 25,
   "metadata": {},
   "outputs": [
    {
     "data": {
      "text/plain": [
       "265774"
      ]
     },
     "execution_count": 25,
     "metadata": {},
     "output_type": "execute_result"
    }
   ],
   "source": [
    "# get size of train\n",
    "train_size = int(len(df) * .965)\n",
    "train_size"
   ]
  },
  {
   "cell_type": "code",
   "execution_count": 26,
   "metadata": {},
   "outputs": [
    {
     "data": {
      "text/plain": [
       "5508"
      ]
     },
     "execution_count": 26,
     "metadata": {},
     "output_type": "execute_result"
    }
   ],
   "source": [
    "# get size of validate\n",
    "validate_size = int(len(df) * .020)\n",
    "validate_size"
   ]
  },
  {
   "cell_type": "code",
   "execution_count": 27,
   "metadata": {},
   "outputs": [
    {
     "data": {
      "text/plain": [
       "4132"
      ]
     },
     "execution_count": 27,
     "metadata": {},
     "output_type": "execute_result"
    }
   ],
   "source": [
    "# get size of test\n",
    "test_size = int(len(df) - train_size - validate_size)\n",
    "test_size"
   ]
  },
  {
   "cell_type": "code",
   "execution_count": 28,
   "metadata": {},
   "outputs": [
    {
     "data": {
      "text/plain": [
       "271282"
      ]
     },
     "execution_count": 28,
     "metadata": {},
     "output_type": "execute_result"
    }
   ],
   "source": [
    "# get end index of validate\n",
    "validate_end_index = train_size + validate_size\n",
    "validate_end_index"
   ]
  },
  {
   "cell_type": "code",
   "execution_count": 29,
   "metadata": {},
   "outputs": [],
   "source": [
    "# use the above values to split the df\n",
    "train = df[: train_size]\n",
    "validate = df[train_size:validate_end_index]\n",
    "test = df[validate_end_index:]"
   ]
  },
  {
   "cell_type": "markdown",
   "metadata": {},
   "source": [
    "I'll set the prediction target to be ```High``` because I want to predict the point at which it will be best for me to liquidate my Dogecoin into USD."
   ]
  },
  {
   "cell_type": "code",
   "execution_count": 30,
   "metadata": {},
   "outputs": [
    {
     "data": {
      "text/plain": [
       "Date\n",
       "2020-07-30 05:00:00    0.003158\n",
       "2020-07-30 05:01:00    0.003158\n",
       "2020-07-30 05:02:00    0.003158\n",
       "2020-07-30 05:03:00    0.003158\n",
       "2020-07-30 05:04:00    0.003158\n",
       "Name: High, dtype: float64"
      ]
     },
     "execution_count": 30,
     "metadata": {},
     "output_type": "execute_result"
    }
   ],
   "source": [
    "# set the prediction target variable, y\n",
    "y_train = train.High\n",
    "y_validate = validate.High\n",
    "y_test = test.High\n",
    "\n",
    "y_train.head()"
   ]
  },
  {
   "cell_type": "markdown",
   "metadata": {},
   "source": [
    "Now to verify the splits."
   ]
  },
  {
   "cell_type": "code",
   "execution_count": 31,
   "metadata": {},
   "outputs": [
    {
     "name": "stdout",
     "output_type": "stream",
     "text": [
      "True\n"
     ]
    }
   ],
   "source": [
    "# Does the length of each df equate to the length of the original df?\n",
    "\n",
    "print(len(train) + len(validate) + len(test) == len(df))"
   ]
  },
  {
   "cell_type": "code",
   "execution_count": 32,
   "metadata": {},
   "outputs": [
    {
     "name": "stdout",
     "output_type": "stream",
     "text": [
      "                     Open  High   Low  Close  Volume\n",
      "Date                                                \n",
      "2020-07-30 05:00:00  True  True  True   True    True\n"
     ]
    }
   ],
   "source": [
    "# Does the first row of original df equate to the first row of train?\n",
    "\n",
    "print(df.head(1) == train.head(1))"
   ]
  },
  {
   "cell_type": "code",
   "execution_count": 33,
   "metadata": {},
   "outputs": [
    {
     "data": {
      "text/html": [
       "<div>\n",
       "<style scoped>\n",
       "    .dataframe tbody tr th:only-of-type {\n",
       "        vertical-align: middle;\n",
       "    }\n",
       "\n",
       "    .dataframe tbody tr th {\n",
       "        vertical-align: top;\n",
       "    }\n",
       "\n",
       "    .dataframe thead th {\n",
       "        text-align: right;\n",
       "    }\n",
       "</style>\n",
       "<table border=\"1\" class=\"dataframe\">\n",
       "  <thead>\n",
       "    <tr style=\"text-align: right;\">\n",
       "      <th></th>\n",
       "      <th>Open</th>\n",
       "      <th>High</th>\n",
       "      <th>Low</th>\n",
       "      <th>Close</th>\n",
       "      <th>Volume</th>\n",
       "    </tr>\n",
       "    <tr>\n",
       "      <th>Date</th>\n",
       "      <th></th>\n",
       "      <th></th>\n",
       "      <th></th>\n",
       "      <th></th>\n",
       "      <th></th>\n",
       "    </tr>\n",
       "  </thead>\n",
       "  <tbody>\n",
       "    <tr>\n",
       "      <th>2021-01-31 00:24:00</th>\n",
       "      <td>0.027950</td>\n",
       "      <td>0.0280</td>\n",
       "      <td>0.027822</td>\n",
       "      <td>0.027822</td>\n",
       "      <td>199752</td>\n",
       "    </tr>\n",
       "    <tr>\n",
       "      <th>2021-01-31 00:25:00</th>\n",
       "      <td>0.027877</td>\n",
       "      <td>0.0279</td>\n",
       "      <td>0.027596</td>\n",
       "      <td>0.027668</td>\n",
       "      <td>338106</td>\n",
       "    </tr>\n",
       "  </tbody>\n",
       "</table>\n",
       "</div>"
      ],
      "text/plain": [
       "                         Open    High       Low     Close  Volume\n",
       "Date                                                             \n",
       "2021-01-31 00:24:00  0.027950  0.0280  0.027822  0.027822  199752\n",
       "2021-01-31 00:25:00  0.027877  0.0279  0.027596  0.027668  338106"
      ]
     },
     "execution_count": 33,
     "metadata": {},
     "output_type": "execute_result"
    }
   ],
   "source": [
    "# Is the last row of train the day before the first row of validate? And the same for validate to test?\n",
    "\n",
    "pd.concat([train.tail(1), validate.head(1)])"
   ]
  },
  {
   "cell_type": "code",
   "execution_count": 34,
   "metadata": {},
   "outputs": [
    {
     "data": {
      "text/html": [
       "<div>\n",
       "<style scoped>\n",
       "    .dataframe tbody tr th:only-of-type {\n",
       "        vertical-align: middle;\n",
       "    }\n",
       "\n",
       "    .dataframe tbody tr th {\n",
       "        vertical-align: top;\n",
       "    }\n",
       "\n",
       "    .dataframe thead th {\n",
       "        text-align: right;\n",
       "    }\n",
       "</style>\n",
       "<table border=\"1\" class=\"dataframe\">\n",
       "  <thead>\n",
       "    <tr style=\"text-align: right;\">\n",
       "      <th></th>\n",
       "      <th>Open</th>\n",
       "      <th>High</th>\n",
       "      <th>Low</th>\n",
       "      <th>Close</th>\n",
       "      <th>Volume</th>\n",
       "    </tr>\n",
       "    <tr>\n",
       "      <th>Date</th>\n",
       "      <th></th>\n",
       "      <th></th>\n",
       "      <th></th>\n",
       "      <th></th>\n",
       "      <th></th>\n",
       "    </tr>\n",
       "  </thead>\n",
       "  <tbody>\n",
       "    <tr>\n",
       "      <th>2021-02-03 20:12:00</th>\n",
       "      <td>0.032949</td>\n",
       "      <td>0.032950</td>\n",
       "      <td>0.032900</td>\n",
       "      <td>0.032950</td>\n",
       "      <td>42773</td>\n",
       "    </tr>\n",
       "    <tr>\n",
       "      <th>2021-02-03 20:13:00</th>\n",
       "      <td>0.032950</td>\n",
       "      <td>0.033032</td>\n",
       "      <td>0.032924</td>\n",
       "      <td>0.033032</td>\n",
       "      <td>418831</td>\n",
       "    </tr>\n",
       "  </tbody>\n",
       "</table>\n",
       "</div>"
      ],
      "text/plain": [
       "                         Open      High       Low     Close  Volume\n",
       "Date                                                               \n",
       "2021-02-03 20:12:00  0.032949  0.032950  0.032900  0.032950   42773\n",
       "2021-02-03 20:13:00  0.032950  0.033032  0.032924  0.033032  418831"
      ]
     },
     "execution_count": 34,
     "metadata": {},
     "output_type": "execute_result"
    }
   ],
   "source": [
    "pd.concat([validate.tail(1), test.head(1)])"
   ]
  },
  {
   "cell_type": "code",
   "execution_count": 35,
   "metadata": {},
   "outputs": [
    {
     "data": {
      "text/html": [
       "<div>\n",
       "<style scoped>\n",
       "    .dataframe tbody tr th:only-of-type {\n",
       "        vertical-align: middle;\n",
       "    }\n",
       "\n",
       "    .dataframe tbody tr th {\n",
       "        vertical-align: top;\n",
       "    }\n",
       "\n",
       "    .dataframe thead th {\n",
       "        text-align: right;\n",
       "    }\n",
       "</style>\n",
       "<table border=\"1\" class=\"dataframe\">\n",
       "  <thead>\n",
       "    <tr style=\"text-align: right;\">\n",
       "      <th></th>\n",
       "      <th>Open</th>\n",
       "      <th>High</th>\n",
       "      <th>Low</th>\n",
       "      <th>Close</th>\n",
       "      <th>Volume</th>\n",
       "    </tr>\n",
       "    <tr>\n",
       "      <th>Date</th>\n",
       "      <th></th>\n",
       "      <th></th>\n",
       "      <th></th>\n",
       "      <th></th>\n",
       "      <th></th>\n",
       "    </tr>\n",
       "  </thead>\n",
       "  <tbody>\n",
       "    <tr>\n",
       "      <th>2021-02-06 17:04:00</th>\n",
       "      <td>0.050621</td>\n",
       "      <td>0.0507</td>\n",
       "      <td>0.05054</td>\n",
       "      <td>0.050613</td>\n",
       "      <td>178736</td>\n",
       "    </tr>\n",
       "    <tr>\n",
       "      <th>2021-02-06 17:04:00</th>\n",
       "      <td>0.050621</td>\n",
       "      <td>0.0507</td>\n",
       "      <td>0.05054</td>\n",
       "      <td>0.050613</td>\n",
       "      <td>178736</td>\n",
       "    </tr>\n",
       "  </tbody>\n",
       "</table>\n",
       "</div>"
      ],
      "text/plain": [
       "                         Open    High      Low     Close  Volume\n",
       "Date                                                            \n",
       "2021-02-06 17:04:00  0.050621  0.0507  0.05054  0.050613  178736\n",
       "2021-02-06 17:04:00  0.050621  0.0507  0.05054  0.050613  178736"
      ]
     },
     "execution_count": 35,
     "metadata": {},
     "output_type": "execute_result"
    }
   ],
   "source": [
    "# Is the last row of test the same as the last row of our original dataframe?\n",
    "\n",
    "pd.concat([test.tail(1), df.tail(1)])"
   ]
  },
  {
   "cell_type": "markdown",
   "metadata": {},
   "source": [
    "Splits successful. Onward to data exploration."
   ]
  },
  {
   "cell_type": "markdown",
   "metadata": {},
   "source": [
    "### Exploratory data analysis"
   ]
  },
  {
   "cell_type": "markdown",
   "metadata": {},
   "source": [
    "First I'll plot the data, viewing where the data is split into train and test."
   ]
  },
  {
   "cell_type": "code",
   "execution_count": 36,
   "metadata": {},
   "outputs": [
    {
     "data": {
      "image/png": "[encoded data removed]",
      "text/plain": [
       "<Figure size 1152x432 with 1 Axes>"
      ]
     },
     "metadata": {},
     "output_type": "display_data"
    }
   ],
   "source": [
    "plt.figure(figsize=(16,6))\n",
    "plt.plot(train['Close'])\n",
    "plt.plot(validate['Close'])\n",
    "plt.plot(test['Close'])\n",
    "plt.ylabel('Price')\n",
    "plt.xlabel('Date')\n",
    "plt.title('Daily Price of Dogecoin in USD')\n",
    "plt.show()"
   ]
  },
  {
   "cell_type": "markdown",
   "metadata": {},
   "source": [
    "Plot the distribution of ```High```."
   ]
  },
  {
   "cell_type": "code",
   "execution_count": 37,
   "metadata": {},
   "outputs": [
    {
     "data": {
      "text/plain": [
       "<matplotlib.axes._subplots.AxesSubplot at 0x7f90e4fd8b20>"
      ]
     },
     "execution_count": 37,
     "metadata": {},
     "output_type": "execute_result"
    },
    {
     "data": {
      "image/png": "[encoded data removed]",
      "text/plain": [
       "<Figure size 936x504 with 1 Axes>"
      ]
     },
     "metadata": {},
     "output_type": "display_data"
    }
   ],
   "source": [
    "y_train.plot.hist(bins=20)"
   ]
  },
  {
   "cell_type": "markdown",
   "metadata": {},
   "source": [
    "Plot the distribution of ```Volume```."
   ]
  },
  {
   "cell_type": "code",
   "execution_count": 38,
   "metadata": {},
   "outputs": [
    {
     "data": {
      "text/plain": [
       "<matplotlib.axes._subplots.AxesSubplot at 0x7f90db50cdf0>"
      ]
     },
     "execution_count": 38,
     "metadata": {},
     "output_type": "execute_result"
    },
    {
     "data": {
      "image/png": "[encoded data removed]",
      "text/plain": [
       "<Figure size 936x504 with 1 Axes>"
      ]
     },
     "metadata": {},
     "output_type": "display_data"
    }
   ],
   "source": [
    "train.Volume.plot.hist(bins=20)"
   ]
  },
  {
   "cell_type": "code",
   "execution_count": 39,
   "metadata": {},
   "outputs": [
    {
     "name": "stderr",
     "output_type": "stream",
     "text": [
      "<ipython-input-39-9b5dff556f6a>:1: SettingWithCopyWarning: \n",
      "A value is trying to be set on a copy of a slice from a DataFrame.\n",
      "Try using .loc[row_indexer,col_indexer] = value instead\n",
      "\n",
      "See the caveats in the documentation: https://pandas.pydata.org/pandas-docs/stable/user_guide/indexing.html#returning-a-view-versus-a-copy\n",
      "  train['month'] = train.index.month\n"
     ]
    },
    {
     "data": {
      "text/plain": [
       "<matplotlib.axes._subplots.AxesSubplot at 0x7f90e18fd7c0>"
      ]
     },
     "execution_count": 39,
     "metadata": {},
     "output_type": "execute_result"
    },
    {
     "data": {
      "image/png": "[encoded data removed]",
      "text/plain": [
       "<Figure size 936x504 with 1 Axes>"
      ]
     },
     "metadata": {},
     "output_type": "display_data"
    }
   ],
   "source": [
    "train['month'] = train.index.month\n",
    "\n",
    "train.groupby('month').High.mean().plot.bar()"
   ]
  },
  {
   "cell_type": "code",
   "execution_count": 40,
   "metadata": {},
   "outputs": [
    {
     "name": "stderr",
     "output_type": "stream",
     "text": [
      "<ipython-input-40-daa6c0bc6a98>:1: SettingWithCopyWarning: \n",
      "A value is trying to be set on a copy of a slice from a DataFrame.\n",
      "Try using .loc[row_indexer,col_indexer] = value instead\n",
      "\n",
      "See the caveats in the documentation: https://pandas.pydata.org/pandas-docs/stable/user_guide/indexing.html#returning-a-view-versus-a-copy\n",
      "  train['day'] = train.index.day\n"
     ]
    },
    {
     "data": {
      "text/plain": [
       "<matplotlib.axes._subplots.AxesSubplot at 0x7f90c7848ac0>"
      ]
     },
     "execution_count": 40,
     "metadata": {},
     "output_type": "execute_result"
    },
    {
     "data": {
      "image/png": "[encoded data removed]",
      "text/plain": [
       "<Figure size 936x504 with 1 Axes>"
      ]
     },
     "metadata": {},
     "output_type": "display_data"
    }
   ],
   "source": [
    "train['day'] = train.index.day\n",
    "\n",
    "train.groupby('day').High.mean().plot.bar()"
   ]
  },
  {
   "cell_type": "code",
   "execution_count": 41,
   "metadata": {},
   "outputs": [
    {
     "name": "stderr",
     "output_type": "stream",
     "text": [
      "<ipython-input-41-9e8d4f532522>:1: SettingWithCopyWarning: \n",
      "A value is trying to be set on a copy of a slice from a DataFrame.\n",
      "Try using .loc[row_indexer,col_indexer] = value instead\n",
      "\n",
      "See the caveats in the documentation: https://pandas.pydata.org/pandas-docs/stable/user_guide/indexing.html#returning-a-view-versus-a-copy\n",
      "  train['weekday'] = train.index.weekday\n"
     ]
    },
    {
     "data": {
      "text/plain": [
       "<matplotlib.axes._subplots.AxesSubplot at 0x7f90c784e850>"
      ]
     },
     "execution_count": 41,
     "metadata": {},
     "output_type": "execute_result"
    },
    {
     "data": {
      "image/png": "[encoded data removed]",
      "text/plain": [
       "<Figure size 936x504 with 1 Axes>"
      ]
     },
     "metadata": {},
     "output_type": "display_data"
    }
   ],
   "source": [
    "train['weekday'] = train.index.weekday\n",
    "\n",
    "train.groupby('weekday').High.mean().plot.bar()"
   ]
  },
  {
   "cell_type": "code",
   "execution_count": 42,
   "metadata": {},
   "outputs": [
    {
     "name": "stderr",
     "output_type": "stream",
     "text": [
      "<ipython-input-42-62db68a75418>:1: SettingWithCopyWarning: \n",
      "A value is trying to be set on a copy of a slice from a DataFrame.\n",
      "Try using .loc[row_indexer,col_indexer] = value instead\n",
      "\n",
      "See the caveats in the documentation: https://pandas.pydata.org/pandas-docs/stable/user_guide/indexing.html#returning-a-view-versus-a-copy\n",
      "  train['year'] = train.index.year\n"
     ]
    },
    {
     "data": {
      "text/plain": [
       "<matplotlib.axes._subplots.AxesSubplot at 0x7f90c82e56d0>"
      ]
     },
     "execution_count": 42,
     "metadata": {},
     "output_type": "execute_result"
    },
    {
     "data": {
      "image/png": "[encoded data removed]",
      "text/plain": [
       "<Figure size 936x504 with 1 Axes>"
      ]
     },
     "metadata": {},
     "output_type": "display_data"
    }
   ],
   "source": [
    "train['year'] = train.index.year\n",
    "\n",
    "train.groupby('year').High.mean().plot.bar()"
   ]
  },
  {
   "cell_type": "code",
   "execution_count": 43,
   "metadata": {},
   "outputs": [
    {
     "name": "stderr",
     "output_type": "stream",
     "text": [
      "<ipython-input-43-10bf864d8c74>:1: SettingWithCopyWarning: \n",
      "A value is trying to be set on a copy of a slice from a DataFrame.\n",
      "Try using .loc[row_indexer,col_indexer] = value instead\n",
      "\n",
      "See the caveats in the documentation: https://pandas.pydata.org/pandas-docs/stable/user_guide/indexing.html#returning-a-view-versus-a-copy\n",
      "  train['hour'] = train.index.hour\n"
     ]
    },
    {
     "data": {
      "text/plain": [
       "<matplotlib.axes._subplots.AxesSubplot at 0x7f90c7d223a0>"
      ]
     },
     "execution_count": 43,
     "metadata": {},
     "output_type": "execute_result"
    },
    {
     "data": {
      "image/png": "[encoded data removed]",
      "text/plain": [
       "<Figure size 936x504 with 1 Axes>"
      ]
     },
     "metadata": {},
     "output_type": "display_data"
    }
   ],
   "source": [
    "train['hour'] = train.index.hour\n",
    "# this is in UTC\n",
    "train.groupby('hour').High.mean().plot.bar()"
   ]
  },
  {
   "cell_type": "code",
   "execution_count": 73,
   "metadata": {},
   "outputs": [
    {
     "data": {
      "text/plain": [
       "<matplotlib.legend.Legend at 0x7f90cf5434c0>"
      ]
     },
     "execution_count": 73,
     "metadata": {},
     "output_type": "execute_result"
    },
    {
     "data": {
      "image/png": "[encoded data removed]",
      "text/plain": [
       "<Figure size 936x504 with 1 Axes>"
      ]
     },
     "metadata": {},
     "output_type": "display_data"
    }
   ],
   "source": [
    "y_train.resample('D').mean().plot(alpha=.6, label='Daily')\n",
    "y_train.resample('W').mean().plot(alpha=.6, label='Weekly')\n",
    "y_train.resample('M').mean().plot(alpha=.6, label='Monthly')\n",
    "y_train.resample('Q').mean().plot(alpha=.6, label='Quarterly')\n",
    "plt.legend()"
   ]
  },
  {
   "cell_type": "code",
   "execution_count": 53,
   "metadata": {},
   "outputs": [
    {
     "data": {
      "text/plain": [
       "<matplotlib.axes._subplots.AxesSubplot at 0x7f90cc5e5e20>"
      ]
     },
     "execution_count": 53,
     "metadata": {},
     "output_type": "execute_result"
    },
    {
     "data": {
      "image/png": "[encoded data removed]",
      "text/plain": [
       "<Figure size 936x504 with 1 Axes>"
      ]
     },
     "metadata": {},
     "output_type": "display_data"
    }
   ],
   "source": [
    "y_train.resample('M').agg(['min', 'mean', 'max']).plot()"
   ]
  },
  {
   "cell_type": "code",
   "execution_count": 56,
   "metadata": {},
   "outputs": [
    {
     "data": {
      "text/plain": [
       "<matplotlib.axes._subplots.AxesSubplot at 0x7f90e4fa56a0>"
      ]
     },
     "execution_count": 56,
     "metadata": {},
     "output_type": "execute_result"
    },
    {
     "data": {
      "image/png": "[encoded data removed]",
      "text/plain": [
       "<Figure size 936x504 with 1 Axes>"
      ]
     },
     "metadata": {},
     "output_type": "display_data"
    }
   ],
   "source": [
    "y_train.resample('2W').mean().plot(title='2 week average')"
   ]
  },
  {
   "cell_type": "code",
   "execution_count": 84,
   "metadata": {},
   "outputs": [
    {
     "data": {
      "text/plain": [
       "<matplotlib.axes._subplots.AxesSubplot at 0x7f9090ba7610>"
      ]
     },
     "execution_count": 84,
     "metadata": {},
     "output_type": "execute_result"
    },
    {
     "data": {
      "image/png": "[encoded data removed]",
      "text/plain": [
       "<Figure size 936x504 with 1 Axes>"
      ]
     },
     "metadata": {},
     "output_type": "display_data"
    }
   ],
   "source": [
    "pd.plotting.autocorrelation_plot(train.High.resample('W').mean())"
   ]
  },
  {
   "cell_type": "code",
   "execution_count": 86,
   "metadata": {},
   "outputs": [
    {
     "data": {
      "text/plain": [
       "<matplotlib.axes._subplots.AxesSubplot at 0x7f9090e4f730>"
      ]
     },
     "execution_count": 86,
     "metadata": {},
     "output_type": "execute_result"
    },
    {
     "data": {
      "image/png": "[encoded data removed]",
      "text/plain": [
       "<Figure size 936x504 with 1 Axes>"
      ]
     },
     "metadata": {},
     "output_type": "display_data"
    }
   ],
   "source": [
    "pd.plotting.lag_plot(train.High.resample('H').mean(), lag=26)"
   ]
  },
  {
   "cell_type": "code",
   "execution_count": null,
   "metadata": {},
   "outputs": [],
   "source": []
  },
  {
   "cell_type": "code",
   "execution_count": null,
   "metadata": {},
   "outputs": [],
   "source": []
  }
 ],
 "metadata": {
  "kernelspec": {
   "display_name": "Python 3",
   "language": "python",
   "name": "python3"
  },
  "language_info": {
   "codemirror_mode": {
    "name": "ipython",
    "version": 3
   },
   "file_extension": ".py",
   "mimetype": "text/x-python",
   "name": "python",
   "nbconvert_exporter": "python",
   "pygments_lexer": "ipython3",
   "version": "3.8.3"
  }
 },
 "nbformat": 4,
 "nbformat_minor": 4
}
