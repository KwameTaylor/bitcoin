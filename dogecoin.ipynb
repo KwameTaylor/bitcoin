{
 "cells": [
  {
   "cell_type": "markdown",
   "metadata": {},
   "source": [
    "# Dogecoin Time-Series Analysis"
   ]
  },
  {
   "cell_type": "markdown",
   "metadata": {},
   "source": [
    "### Set up environment"
   ]
  },
  {
   "cell_type": "code",
   "execution_count": 1,
   "metadata": {},
   "outputs": [],
   "source": [
    "import pandas as pd\n",
    "import numpy as np"
   ]
  },
  {
   "cell_type": "markdown",
   "metadata": {},
   "source": [
    "### Acquire and summarize data"
   ]
  },
  {
   "cell_type": "code",
   "execution_count": 11,
   "metadata": {},
   "outputs": [],
   "source": [
    "df = pd.read_csv('DogecoinHistorical.csv')"
   ]
  },
  {
   "cell_type": "code",
   "execution_count": 16,
   "metadata": {},
   "outputs": [
    {
     "data": {
      "text/html": [
       "<div>\n",
       "<style scoped>\n",
       "    .dataframe tbody tr th:only-of-type {\n",
       "        vertical-align: middle;\n",
       "    }\n",
       "\n",
       "    .dataframe tbody tr th {\n",
       "        vertical-align: top;\n",
       "    }\n",
       "\n",
       "    .dataframe thead th {\n",
       "        text-align: right;\n",
       "    }\n",
       "</style>\n",
       "<table border=\"1\" class=\"dataframe\">\n",
       "  <thead>\n",
       "    <tr style=\"text-align: right;\">\n",
       "      <th></th>\n",
       "      <th>Date</th>\n",
       "      <th>Price</th>\n",
       "      <th>Open</th>\n",
       "      <th>High</th>\n",
       "      <th>Low</th>\n",
       "      <th>Vol.</th>\n",
       "      <th>Change %</th>\n",
       "    </tr>\n",
       "  </thead>\n",
       "  <tbody>\n",
       "    <tr>\n",
       "      <th>0</th>\n",
       "      <td>Feb 04, 2021</td>\n",
       "      <td>0.041000</td>\n",
       "      <td>0.037000</td>\n",
       "      <td>0.041000</td>\n",
       "      <td>0.036789</td>\n",
       "      <td>14.49B</td>\n",
       "      <td>9.76%</td>\n",
       "    </tr>\n",
       "    <tr>\n",
       "      <th>1</th>\n",
       "      <td>Feb 03, 2021</td>\n",
       "      <td>0.037356</td>\n",
       "      <td>0.031388</td>\n",
       "      <td>0.037356</td>\n",
       "      <td>0.031388</td>\n",
       "      <td>12.96B</td>\n",
       "      <td>19.17%</td>\n",
       "    </tr>\n",
       "    <tr>\n",
       "      <th>2</th>\n",
       "      <td>Feb 02, 2021</td>\n",
       "      <td>0.031347</td>\n",
       "      <td>0.034816</td>\n",
       "      <td>0.034816</td>\n",
       "      <td>0.030692</td>\n",
       "      <td>11.55B</td>\n",
       "      <td>-9.65%</td>\n",
       "    </tr>\n",
       "    <tr>\n",
       "      <th>3</th>\n",
       "      <td>Feb 01, 2021</td>\n",
       "      <td>0.034694</td>\n",
       "      <td>0.036722</td>\n",
       "      <td>0.040650</td>\n",
       "      <td>0.034694</td>\n",
       "      <td>23.87B</td>\n",
       "      <td>-5.69%</td>\n",
       "    </tr>\n",
       "    <tr>\n",
       "      <th>4</th>\n",
       "      <td>Jan 31, 2021</td>\n",
       "      <td>0.036786</td>\n",
       "      <td>0.028309</td>\n",
       "      <td>0.040456</td>\n",
       "      <td>0.027335</td>\n",
       "      <td>44.58B</td>\n",
       "      <td>30.25%</td>\n",
       "    </tr>\n",
       "  </tbody>\n",
       "</table>\n",
       "</div>"
      ],
      "text/plain": [
       "           Date     Price      Open      High       Low    Vol. Change %\n",
       "0  Feb 04, 2021  0.041000  0.037000  0.041000  0.036789  14.49B    9.76%\n",
       "1  Feb 03, 2021  0.037356  0.031388  0.037356  0.031388  12.96B   19.17%\n",
       "2  Feb 02, 2021  0.031347  0.034816  0.034816  0.030692  11.55B   -9.65%\n",
       "3  Feb 01, 2021  0.034694  0.036722  0.040650  0.034694  23.87B   -5.69%\n",
       "4  Jan 31, 2021  0.036786  0.028309  0.040456  0.027335  44.58B   30.25%"
      ]
     },
     "execution_count": 16,
     "metadata": {},
     "output_type": "execute_result"
    }
   ],
   "source": [
    "df.head()"
   ]
  },
  {
   "cell_type": "code",
   "execution_count": 17,
   "metadata": {},
   "outputs": [
    {
     "data": {
      "text/plain": [
       "Date        datetime64[ns]\n",
       "Price              float64\n",
       "Open               float64\n",
       "High               float64\n",
       "Low                float64\n",
       "Vol.                object\n",
       "Change %            object\n",
       "dtype: object"
      ]
     },
     "execution_count": 17,
     "metadata": {},
     "output_type": "execute_result"
    }
   ],
   "source": [
    "# convert date column to datetime type\n",
    "df.Date = pd.to_datetime(df.Date)\n",
    "df.dtypes"
   ]
  },
  {
   "cell_type": "code",
   "execution_count": 18,
   "metadata": {},
   "outputs": [
    {
     "data": {
      "text/html": [
       "<div>\n",
       "<style scoped>\n",
       "    .dataframe tbody tr th:only-of-type {\n",
       "        vertical-align: middle;\n",
       "    }\n",
       "\n",
       "    .dataframe tbody tr th {\n",
       "        vertical-align: top;\n",
       "    }\n",
       "\n",
       "    .dataframe thead th {\n",
       "        text-align: right;\n",
       "    }\n",
       "</style>\n",
       "<table border=\"1\" class=\"dataframe\">\n",
       "  <thead>\n",
       "    <tr style=\"text-align: right;\">\n",
       "      <th></th>\n",
       "      <th>Price</th>\n",
       "      <th>Open</th>\n",
       "      <th>High</th>\n",
       "      <th>Low</th>\n",
       "      <th>Vol.</th>\n",
       "      <th>Change %</th>\n",
       "    </tr>\n",
       "    <tr>\n",
       "      <th>Date</th>\n",
       "      <th></th>\n",
       "      <th></th>\n",
       "      <th></th>\n",
       "      <th></th>\n",
       "      <th></th>\n",
       "      <th></th>\n",
       "    </tr>\n",
       "  </thead>\n",
       "  <tbody>\n",
       "    <tr>\n",
       "      <th>2020-03-04</th>\n",
       "      <td>0.002419</td>\n",
       "      <td>0.002499</td>\n",
       "      <td>0.002503</td>\n",
       "      <td>0.002373</td>\n",
       "      <td>201.62M</td>\n",
       "      <td>-3.19%</td>\n",
       "    </tr>\n",
       "    <tr>\n",
       "      <th>2020-03-05</th>\n",
       "      <td>0.002477</td>\n",
       "      <td>0.002419</td>\n",
       "      <td>0.002530</td>\n",
       "      <td>0.002419</td>\n",
       "      <td>122.20M</td>\n",
       "      <td>2.41%</td>\n",
       "    </tr>\n",
       "    <tr>\n",
       "      <th>2020-03-06</th>\n",
       "      <td>0.002486</td>\n",
       "      <td>0.002477</td>\n",
       "      <td>0.002500</td>\n",
       "      <td>0.002437</td>\n",
       "      <td>63.54M</td>\n",
       "      <td>0.37%</td>\n",
       "    </tr>\n",
       "    <tr>\n",
       "      <th>2020-03-07</th>\n",
       "      <td>0.002407</td>\n",
       "      <td>0.002490</td>\n",
       "      <td>0.002494</td>\n",
       "      <td>0.002392</td>\n",
       "      <td>112.33M</td>\n",
       "      <td>-3.19%</td>\n",
       "    </tr>\n",
       "    <tr>\n",
       "      <th>2020-03-08</th>\n",
       "      <td>0.002167</td>\n",
       "      <td>0.002407</td>\n",
       "      <td>0.002407</td>\n",
       "      <td>0.002159</td>\n",
       "      <td>181.08M</td>\n",
       "      <td>-9.96%</td>\n",
       "    </tr>\n",
       "  </tbody>\n",
       "</table>\n",
       "</div>"
      ],
      "text/plain": [
       "               Price      Open      High       Low     Vol. Change %\n",
       "Date                                                                \n",
       "2020-03-04  0.002419  0.002499  0.002503  0.002373  201.62M   -3.19%\n",
       "2020-03-05  0.002477  0.002419  0.002530  0.002419  122.20M    2.41%\n",
       "2020-03-06  0.002486  0.002477  0.002500  0.002437   63.54M    0.37%\n",
       "2020-03-07  0.002407  0.002490  0.002494  0.002392  112.33M   -3.19%\n",
       "2020-03-08  0.002167  0.002407  0.002407  0.002159  181.08M   -9.96%"
      ]
     },
     "execution_count": 18,
     "metadata": {},
     "output_type": "execute_result"
    }
   ],
   "source": [
    "# set ds as index and sort\n",
    "# this is a very important step!\n",
    "df = df.set_index('Date').sort_index()\n",
    "df.head()"
   ]
  },
  {
   "cell_type": "code",
   "execution_count": 19,
   "metadata": {},
   "outputs": [
    {
     "name": "stdout",
     "output_type": "stream",
     "text": [
      "<class 'pandas.core.frame.DataFrame'>\n",
      "DatetimeIndex: 338 entries, 2020-03-04 to 2021-02-04\n",
      "Data columns (total 6 columns):\n",
      " #   Column    Non-Null Count  Dtype  \n",
      "---  ------    --------------  -----  \n",
      " 0   Price     338 non-null    float64\n",
      " 1   Open      338 non-null    float64\n",
      " 2   High      338 non-null    float64\n",
      " 3   Low       338 non-null    float64\n",
      " 4   Vol.      338 non-null    object \n",
      " 5   Change %  338 non-null    object \n",
      "dtypes: float64(4), object(2)\n",
      "memory usage: 18.5+ KB\n"
     ]
    }
   ],
   "source": [
    "df.info()"
   ]
  },
  {
   "cell_type": "code",
   "execution_count": 21,
   "metadata": {},
   "outputs": [
    {
     "data": {
      "text/html": [
       "<div>\n",
       "<style scoped>\n",
       "    .dataframe tbody tr th:only-of-type {\n",
       "        vertical-align: middle;\n",
       "    }\n",
       "\n",
       "    .dataframe tbody tr th {\n",
       "        vertical-align: top;\n",
       "    }\n",
       "\n",
       "    .dataframe thead th {\n",
       "        text-align: right;\n",
       "    }\n",
       "</style>\n",
       "<table border=\"1\" class=\"dataframe\">\n",
       "  <thead>\n",
       "    <tr style=\"text-align: right;\">\n",
       "      <th></th>\n",
       "      <th>count</th>\n",
       "      <th>mean</th>\n",
       "      <th>std</th>\n",
       "      <th>min</th>\n",
       "      <th>25%</th>\n",
       "      <th>50%</th>\n",
       "      <th>75%</th>\n",
       "      <th>max</th>\n",
       "    </tr>\n",
       "  </thead>\n",
       "  <tbody>\n",
       "    <tr>\n",
       "      <th>Price</th>\n",
       "      <td>338.0</td>\n",
       "      <td>0.004085</td>\n",
       "      <td>0.005440</td>\n",
       "      <td>0.001582</td>\n",
       "      <td>0.002479</td>\n",
       "      <td>0.002672</td>\n",
       "      <td>0.003393</td>\n",
       "      <td>0.046723</td>\n",
       "    </tr>\n",
       "    <tr>\n",
       "      <th>Open</th>\n",
       "      <td>338.0</td>\n",
       "      <td>0.003967</td>\n",
       "      <td>0.005018</td>\n",
       "      <td>0.001497</td>\n",
       "      <td>0.002479</td>\n",
       "      <td>0.002674</td>\n",
       "      <td>0.003391</td>\n",
       "      <td>0.045875</td>\n",
       "    </tr>\n",
       "    <tr>\n",
       "      <th>High</th>\n",
       "      <td>338.0</td>\n",
       "      <td>0.004348</td>\n",
       "      <td>0.006640</td>\n",
       "      <td>0.001643</td>\n",
       "      <td>0.002532</td>\n",
       "      <td>0.002731</td>\n",
       "      <td>0.003486</td>\n",
       "      <td>0.071812</td>\n",
       "    </tr>\n",
       "    <tr>\n",
       "      <th>Low</th>\n",
       "      <td>338.0</td>\n",
       "      <td>0.003777</td>\n",
       "      <td>0.004397</td>\n",
       "      <td>0.001145</td>\n",
       "      <td>0.002430</td>\n",
       "      <td>0.002654</td>\n",
       "      <td>0.003324</td>\n",
       "      <td>0.036789</td>\n",
       "    </tr>\n",
       "  </tbody>\n",
       "</table>\n",
       "</div>"
      ],
      "text/plain": [
       "       count      mean       std       min       25%       50%       75%  \\\n",
       "Price  338.0  0.004085  0.005440  0.001582  0.002479  0.002672  0.003393   \n",
       "Open   338.0  0.003967  0.005018  0.001497  0.002479  0.002674  0.003391   \n",
       "High   338.0  0.004348  0.006640  0.001643  0.002532  0.002731  0.003486   \n",
       "Low    338.0  0.003777  0.004397  0.001145  0.002430  0.002654  0.003324   \n",
       "\n",
       "            max  \n",
       "Price  0.046723  \n",
       "Open   0.045875  \n",
       "High   0.071812  \n",
       "Low    0.036789  "
      ]
     },
     "execution_count": 21,
     "metadata": {},
     "output_type": "execute_result"
    }
   ],
   "source": [
    "df.describe().T"
   ]
  },
  {
   "cell_type": "code",
   "execution_count": null,
   "metadata": {},
   "outputs": [],
   "source": []
  }
 ],
 "metadata": {
  "kernelspec": {
   "display_name": "Python 3",
   "language": "python",
   "name": "python3"
  },
  "language_info": {
   "codemirror_mode": {
    "name": "ipython",
    "version": 3
   },
   "file_extension": ".py",
   "mimetype": "text/x-python",
   "name": "python",
   "nbconvert_exporter": "python",
   "pygments_lexer": "ipython3",
   "version": "3.8.3"
  }
 },
 "nbformat": 4,
 "nbformat_minor": 4
}
