{
 "cells": [
  {
   "cell_type": "markdown",
   "metadata": {},
   "source": [
    "# Dogecoin Time-Series Analysis"
   ]
  },
  {
   "cell_type": "markdown",
   "metadata": {},
   "source": [
    "### Set up environment"
   ]
  },
  {
   "cell_type": "code",
   "execution_count": 1,
   "metadata": {},
   "outputs": [],
   "source": [
    "import pandas as pd\n",
    "import numpy as np\n",
    "\n",
    "import matplotlib.pyplot as plt\n",
    "import seaborn as sns"
   ]
  },
  {
   "cell_type": "markdown",
   "metadata": {},
   "source": [
    "### Acquire and summarize data"
   ]
  },
  {
   "cell_type": "markdown",
   "metadata": {},
   "source": [
    "Using daily-sampled historical data on Dogecoin to USD value from Investing.com."
   ]
  },
  {
   "cell_type": "code",
   "execution_count": 2,
   "metadata": {},
   "outputs": [],
   "source": [
    "df = pd.read_csv('DogecoinHistoricalTruncated.csv')"
   ]
  },
  {
   "cell_type": "code",
   "execution_count": 3,
   "metadata": {},
   "outputs": [
    {
     "data": {
      "text/html": [
       "<div>\n",
       "<style scoped>\n",
       "    .dataframe tbody tr th:only-of-type {\n",
       "        vertical-align: middle;\n",
       "    }\n",
       "\n",
       "    .dataframe tbody tr th {\n",
       "        vertical-align: top;\n",
       "    }\n",
       "\n",
       "    .dataframe thead th {\n",
       "        text-align: right;\n",
       "    }\n",
       "</style>\n",
       "<table border=\"1\" class=\"dataframe\">\n",
       "  <thead>\n",
       "    <tr style=\"text-align: right;\">\n",
       "      <th></th>\n",
       "      <th>Date</th>\n",
       "      <th>Price</th>\n",
       "      <th>Open</th>\n",
       "      <th>High</th>\n",
       "      <th>Low</th>\n",
       "      <th>Vol.</th>\n",
       "      <th>Change %</th>\n",
       "    </tr>\n",
       "  </thead>\n",
       "  <tbody>\n",
       "    <tr>\n",
       "      <th>0</th>\n",
       "      <td>Feb 05, 2021</td>\n",
       "      <td>0.049016</td>\n",
       "      <td>0.052898</td>\n",
       "      <td>0.052898</td>\n",
       "      <td>0.049016</td>\n",
       "      <td>51.96B</td>\n",
       "      <td>-7.39%</td>\n",
       "    </tr>\n",
       "    <tr>\n",
       "      <th>1</th>\n",
       "      <td>Feb 04, 2021</td>\n",
       "      <td>0.052930</td>\n",
       "      <td>0.037000</td>\n",
       "      <td>0.052930</td>\n",
       "      <td>0.036789</td>\n",
       "      <td>48.78B</td>\n",
       "      <td>41.69%</td>\n",
       "    </tr>\n",
       "    <tr>\n",
       "      <th>2</th>\n",
       "      <td>Feb 03, 2021</td>\n",
       "      <td>0.037356</td>\n",
       "      <td>0.031388</td>\n",
       "      <td>0.037356</td>\n",
       "      <td>0.031388</td>\n",
       "      <td>12.96B</td>\n",
       "      <td>19.17%</td>\n",
       "    </tr>\n",
       "    <tr>\n",
       "      <th>3</th>\n",
       "      <td>Feb 02, 2021</td>\n",
       "      <td>0.031347</td>\n",
       "      <td>0.034816</td>\n",
       "      <td>0.034816</td>\n",
       "      <td>0.030692</td>\n",
       "      <td>11.55B</td>\n",
       "      <td>-9.65%</td>\n",
       "    </tr>\n",
       "    <tr>\n",
       "      <th>4</th>\n",
       "      <td>Feb 01, 2021</td>\n",
       "      <td>0.034694</td>\n",
       "      <td>0.036722</td>\n",
       "      <td>0.040650</td>\n",
       "      <td>0.034694</td>\n",
       "      <td>23.87B</td>\n",
       "      <td>-5.69%</td>\n",
       "    </tr>\n",
       "  </tbody>\n",
       "</table>\n",
       "</div>"
      ],
      "text/plain": [
       "           Date     Price      Open      High       Low    Vol. Change %\n",
       "0  Feb 05, 2021  0.049016  0.052898  0.052898  0.049016  51.96B   -7.39%\n",
       "1  Feb 04, 2021  0.052930  0.037000  0.052930  0.036789  48.78B   41.69%\n",
       "2  Feb 03, 2021  0.037356  0.031388  0.037356  0.031388  12.96B   19.17%\n",
       "3  Feb 02, 2021  0.031347  0.034816  0.034816  0.030692  11.55B   -9.65%\n",
       "4  Feb 01, 2021  0.034694  0.036722  0.040650  0.034694  23.87B   -5.69%"
      ]
     },
     "execution_count": 3,
     "metadata": {},
     "output_type": "execute_result"
    }
   ],
   "source": [
    "df.head()"
   ]
  },
  {
   "cell_type": "code",
   "execution_count": 4,
   "metadata": {},
   "outputs": [
    {
     "data": {
      "text/plain": [
       "Date        datetime64[ns]\n",
       "Price              float64\n",
       "Open               float64\n",
       "High               float64\n",
       "Low                float64\n",
       "Vol.                object\n",
       "Change %            object\n",
       "dtype: object"
      ]
     },
     "execution_count": 4,
     "metadata": {},
     "output_type": "execute_result"
    }
   ],
   "source": [
    "# convert date column to datetime type\n",
    "df.Date = pd.to_datetime(df.Date)\n",
    "df.dtypes"
   ]
  },
  {
   "cell_type": "code",
   "execution_count": 5,
   "metadata": {},
   "outputs": [
    {
     "data": {
      "text/html": [
       "<div>\n",
       "<style scoped>\n",
       "    .dataframe tbody tr th:only-of-type {\n",
       "        vertical-align: middle;\n",
       "    }\n",
       "\n",
       "    .dataframe tbody tr th {\n",
       "        vertical-align: top;\n",
       "    }\n",
       "\n",
       "    .dataframe thead th {\n",
       "        text-align: right;\n",
       "    }\n",
       "</style>\n",
       "<table border=\"1\" class=\"dataframe\">\n",
       "  <thead>\n",
       "    <tr style=\"text-align: right;\">\n",
       "      <th></th>\n",
       "      <th>Price</th>\n",
       "      <th>Open</th>\n",
       "      <th>High</th>\n",
       "      <th>Low</th>\n",
       "      <th>Vol.</th>\n",
       "      <th>Change %</th>\n",
       "    </tr>\n",
       "    <tr>\n",
       "      <th>Date</th>\n",
       "      <th></th>\n",
       "      <th></th>\n",
       "      <th></th>\n",
       "      <th></th>\n",
       "      <th></th>\n",
       "      <th></th>\n",
       "    </tr>\n",
       "  </thead>\n",
       "  <tbody>\n",
       "    <tr>\n",
       "      <th>2020-12-01</th>\n",
       "      <td>0.003323</td>\n",
       "      <td>0.003558</td>\n",
       "      <td>0.003568</td>\n",
       "      <td>0.003323</td>\n",
       "      <td>1.03B</td>\n",
       "      <td>-6.67%</td>\n",
       "    </tr>\n",
       "    <tr>\n",
       "      <th>2020-12-02</th>\n",
       "      <td>0.003368</td>\n",
       "      <td>0.003324</td>\n",
       "      <td>0.003404</td>\n",
       "      <td>0.003324</td>\n",
       "      <td>591.00M</td>\n",
       "      <td>1.35%</td>\n",
       "    </tr>\n",
       "    <tr>\n",
       "      <th>2020-12-03</th>\n",
       "      <td>0.003428</td>\n",
       "      <td>0.003363</td>\n",
       "      <td>0.003439</td>\n",
       "      <td>0.003363</td>\n",
       "      <td>662.66M</td>\n",
       "      <td>1.78%</td>\n",
       "    </tr>\n",
       "    <tr>\n",
       "      <th>2020-12-04</th>\n",
       "      <td>0.003284</td>\n",
       "      <td>0.003422</td>\n",
       "      <td>0.003422</td>\n",
       "      <td>0.003284</td>\n",
       "      <td>572.32M</td>\n",
       "      <td>-4.20%</td>\n",
       "    </tr>\n",
       "    <tr>\n",
       "      <th>2020-12-05</th>\n",
       "      <td>0.003392</td>\n",
       "      <td>0.003281</td>\n",
       "      <td>0.003404</td>\n",
       "      <td>0.003281</td>\n",
       "      <td>369.45M</td>\n",
       "      <td>3.28%</td>\n",
       "    </tr>\n",
       "  </tbody>\n",
       "</table>\n",
       "</div>"
      ],
      "text/plain": [
       "               Price      Open      High       Low     Vol. Change %\n",
       "Date                                                                \n",
       "2020-12-01  0.003323  0.003558  0.003568  0.003323    1.03B   -6.67%\n",
       "2020-12-02  0.003368  0.003324  0.003404  0.003324  591.00M    1.35%\n",
       "2020-12-03  0.003428  0.003363  0.003439  0.003363  662.66M    1.78%\n",
       "2020-12-04  0.003284  0.003422  0.003422  0.003284  572.32M   -4.20%\n",
       "2020-12-05  0.003392  0.003281  0.003404  0.003281  369.45M    3.28%"
      ]
     },
     "execution_count": 5,
     "metadata": {},
     "output_type": "execute_result"
    }
   ],
   "source": [
    "# set ds as index and sort\n",
    "# this is a very important step!\n",
    "df = df.set_index('Date').sort_index()\n",
    "df.head()"
   ]
  },
  {
   "cell_type": "markdown",
   "metadata": {},
   "source": [
    "Now that the data is acquired, let's look at its data types and summary statistics."
   ]
  },
  {
   "cell_type": "code",
   "execution_count": 6,
   "metadata": {},
   "outputs": [
    {
     "name": "stdout",
     "output_type": "stream",
     "text": [
      "<class 'pandas.core.frame.DataFrame'>\n",
      "DatetimeIndex: 67 entries, 2020-12-01 to 2021-02-05\n",
      "Data columns (total 6 columns):\n",
      " #   Column    Non-Null Count  Dtype  \n",
      "---  ------    --------------  -----  \n",
      " 0   Price     67 non-null     float64\n",
      " 1   Open      67 non-null     float64\n",
      " 2   High      67 non-null     float64\n",
      " 3   Low       67 non-null     float64\n",
      " 4   Vol.      67 non-null     object \n",
      " 5   Change %  67 non-null     object \n",
      "dtypes: float64(4), object(2)\n",
      "memory usage: 3.7+ KB\n"
     ]
    }
   ],
   "source": [
    "df.info()"
   ]
  },
  {
   "cell_type": "code",
   "execution_count": 7,
   "metadata": {},
   "outputs": [
    {
     "data": {
      "text/html": [
       "<div>\n",
       "<style scoped>\n",
       "    .dataframe tbody tr th:only-of-type {\n",
       "        vertical-align: middle;\n",
       "    }\n",
       "\n",
       "    .dataframe tbody tr th {\n",
       "        vertical-align: top;\n",
       "    }\n",
       "\n",
       "    .dataframe thead th {\n",
       "        text-align: right;\n",
       "    }\n",
       "</style>\n",
       "<table border=\"1\" class=\"dataframe\">\n",
       "  <thead>\n",
       "    <tr style=\"text-align: right;\">\n",
       "      <th></th>\n",
       "      <th>count</th>\n",
       "      <th>mean</th>\n",
       "      <th>std</th>\n",
       "      <th>min</th>\n",
       "      <th>25%</th>\n",
       "      <th>50%</th>\n",
       "      <th>75%</th>\n",
       "      <th>max</th>\n",
       "    </tr>\n",
       "  </thead>\n",
       "  <tbody>\n",
       "    <tr>\n",
       "      <th>Price</th>\n",
       "      <td>67.0</td>\n",
       "      <td>0.010672</td>\n",
       "      <td>0.011989</td>\n",
       "      <td>0.003073</td>\n",
       "      <td>0.003743</td>\n",
       "      <td>0.008076</td>\n",
       "      <td>0.009742</td>\n",
       "      <td>0.052930</td>\n",
       "    </tr>\n",
       "    <tr>\n",
       "      <th>Open</th>\n",
       "      <td>67.0</td>\n",
       "      <td>0.009973</td>\n",
       "      <td>0.010959</td>\n",
       "      <td>0.003073</td>\n",
       "      <td>0.003638</td>\n",
       "      <td>0.007405</td>\n",
       "      <td>0.009579</td>\n",
       "      <td>0.052898</td>\n",
       "    </tr>\n",
       "    <tr>\n",
       "      <th>High</th>\n",
       "      <td>67.0</td>\n",
       "      <td>0.011812</td>\n",
       "      <td>0.014410</td>\n",
       "      <td>0.003113</td>\n",
       "      <td>0.003909</td>\n",
       "      <td>0.008351</td>\n",
       "      <td>0.009995</td>\n",
       "      <td>0.071812</td>\n",
       "    </tr>\n",
       "    <tr>\n",
       "      <th>Low</th>\n",
       "      <td>67.0</td>\n",
       "      <td>0.009213</td>\n",
       "      <td>0.009641</td>\n",
       "      <td>0.003058</td>\n",
       "      <td>0.003556</td>\n",
       "      <td>0.006835</td>\n",
       "      <td>0.009075</td>\n",
       "      <td>0.049016</td>\n",
       "    </tr>\n",
       "  </tbody>\n",
       "</table>\n",
       "</div>"
      ],
      "text/plain": [
       "       count      mean       std       min       25%       50%       75%  \\\n",
       "Price   67.0  0.010672  0.011989  0.003073  0.003743  0.008076  0.009742   \n",
       "Open    67.0  0.009973  0.010959  0.003073  0.003638  0.007405  0.009579   \n",
       "High    67.0  0.011812  0.014410  0.003113  0.003909  0.008351  0.009995   \n",
       "Low     67.0  0.009213  0.009641  0.003058  0.003556  0.006835  0.009075   \n",
       "\n",
       "            max  \n",
       "Price  0.052930  \n",
       "Open   0.052898  \n",
       "High   0.071812  \n",
       "Low    0.049016  "
      ]
     },
     "execution_count": 7,
     "metadata": {},
     "output_type": "execute_result"
    }
   ],
   "source": [
    "df.describe().T"
   ]
  },
  {
   "cell_type": "code",
   "execution_count": 8,
   "metadata": {},
   "outputs": [
    {
     "data": {
      "text/plain": [
       "(67, 6)"
      ]
     },
     "execution_count": 8,
     "metadata": {},
     "output_type": "execute_result"
    }
   ],
   "source": [
    "df.shape"
   ]
  },
  {
   "cell_type": "markdown",
   "metadata": {},
   "source": [
    "### Prepare the data"
   ]
  },
  {
   "cell_type": "markdown",
   "metadata": {},
   "source": [
    "Rename columns for readability and ease of calling."
   ]
  },
  {
   "cell_type": "code",
   "execution_count": 9,
   "metadata": {},
   "outputs": [],
   "source": [
    "df = df.rename(columns={'Vol.' : 'Volume'})\n",
    "df = df.rename(columns={'Change %' : 'PercentChange'})"
   ]
  },
  {
   "cell_type": "markdown",
   "metadata": {},
   "source": [
    "Appropriately convert strings to numericals."
   ]
  },
  {
   "cell_type": "code",
   "execution_count": 10,
   "metadata": {},
   "outputs": [
    {
     "data": {
      "text/html": [
       "<div>\n",
       "<style scoped>\n",
       "    .dataframe tbody tr th:only-of-type {\n",
       "        vertical-align: middle;\n",
       "    }\n",
       "\n",
       "    .dataframe tbody tr th {\n",
       "        vertical-align: top;\n",
       "    }\n",
       "\n",
       "    .dataframe thead th {\n",
       "        text-align: right;\n",
       "    }\n",
       "</style>\n",
       "<table border=\"1\" class=\"dataframe\">\n",
       "  <thead>\n",
       "    <tr style=\"text-align: right;\">\n",
       "      <th></th>\n",
       "      <th>Price</th>\n",
       "      <th>Open</th>\n",
       "      <th>High</th>\n",
       "      <th>Low</th>\n",
       "      <th>Volume</th>\n",
       "      <th>PercentChange</th>\n",
       "    </tr>\n",
       "    <tr>\n",
       "      <th>Date</th>\n",
       "      <th></th>\n",
       "      <th></th>\n",
       "      <th></th>\n",
       "      <th></th>\n",
       "      <th></th>\n",
       "      <th></th>\n",
       "    </tr>\n",
       "  </thead>\n",
       "  <tbody>\n",
       "    <tr>\n",
       "      <th>2020-12-01</th>\n",
       "      <td>0.003323</td>\n",
       "      <td>0.003558</td>\n",
       "      <td>0.003568</td>\n",
       "      <td>0.003323</td>\n",
       "      <td>1.03B</td>\n",
       "      <td>-6.67%</td>\n",
       "    </tr>\n",
       "    <tr>\n",
       "      <th>2020-12-02</th>\n",
       "      <td>0.003368</td>\n",
       "      <td>0.003324</td>\n",
       "      <td>0.003404</td>\n",
       "      <td>0.003324</td>\n",
       "      <td>591.00M</td>\n",
       "      <td>1.35%</td>\n",
       "    </tr>\n",
       "    <tr>\n",
       "      <th>2020-12-03</th>\n",
       "      <td>0.003428</td>\n",
       "      <td>0.003363</td>\n",
       "      <td>0.003439</td>\n",
       "      <td>0.003363</td>\n",
       "      <td>662.66M</td>\n",
       "      <td>1.78%</td>\n",
       "    </tr>\n",
       "    <tr>\n",
       "      <th>2020-12-04</th>\n",
       "      <td>0.003284</td>\n",
       "      <td>0.003422</td>\n",
       "      <td>0.003422</td>\n",
       "      <td>0.003284</td>\n",
       "      <td>572.32M</td>\n",
       "      <td>-4.20%</td>\n",
       "    </tr>\n",
       "    <tr>\n",
       "      <th>2020-12-05</th>\n",
       "      <td>0.003392</td>\n",
       "      <td>0.003281</td>\n",
       "      <td>0.003404</td>\n",
       "      <td>0.003281</td>\n",
       "      <td>369.45M</td>\n",
       "      <td>3.28%</td>\n",
       "    </tr>\n",
       "  </tbody>\n",
       "</table>\n",
       "</div>"
      ],
      "text/plain": [
       "               Price      Open      High       Low   Volume PercentChange\n",
       "Date                                                                     \n",
       "2020-12-01  0.003323  0.003558  0.003568  0.003323    1.03B        -6.67%\n",
       "2020-12-02  0.003368  0.003324  0.003404  0.003324  591.00M         1.35%\n",
       "2020-12-03  0.003428  0.003363  0.003439  0.003363  662.66M         1.78%\n",
       "2020-12-04  0.003284  0.003422  0.003422  0.003284  572.32M        -4.20%\n",
       "2020-12-05  0.003392  0.003281  0.003404  0.003281  369.45M         3.28%"
      ]
     },
     "execution_count": 10,
     "metadata": {},
     "output_type": "execute_result"
    }
   ],
   "source": [
    "df.head()"
   ]
  },
  {
   "cell_type": "code",
   "execution_count": 11,
   "metadata": {},
   "outputs": [],
   "source": [
    "def mb_to_mbillion(string):\n",
    "    if string[-1] == 'B':\n",
    "        string = string[:-1]\n",
    "        num = float(string) * 1_000_000_000\n",
    "    elif string[-1] == 'M':\n",
    "        string = string[:-1]\n",
    "        num = float(string) * 1_000_000\n",
    "    return num\n",
    "\n",
    "df.Volume = df.Volume.apply(mb_to_mbillion)"
   ]
  },
  {
   "cell_type": "code",
   "execution_count": 12,
   "metadata": {},
   "outputs": [],
   "source": [
    "def handle_percent(string):\n",
    "    string = string[:-1]\n",
    "    num = float(string)\n",
    "    return num\n",
    "\n",
    "df.PercentChange = df.PercentChange.apply(handle_percent)"
   ]
  },
  {
   "cell_type": "code",
   "execution_count": 13,
   "metadata": {},
   "outputs": [
    {
     "data": {
      "text/plain": [
       "Price            float64\n",
       "Open             float64\n",
       "High             float64\n",
       "Low              float64\n",
       "Volume           float64\n",
       "PercentChange    float64\n",
       "dtype: object"
      ]
     },
     "execution_count": 13,
     "metadata": {},
     "output_type": "execute_result"
    }
   ],
   "source": [
    "df.dtypes"
   ]
  },
  {
   "cell_type": "code",
   "execution_count": 14,
   "metadata": {},
   "outputs": [
    {
     "data": {
      "text/html": [
       "<div>\n",
       "<style scoped>\n",
       "    .dataframe tbody tr th:only-of-type {\n",
       "        vertical-align: middle;\n",
       "    }\n",
       "\n",
       "    .dataframe tbody tr th {\n",
       "        vertical-align: top;\n",
       "    }\n",
       "\n",
       "    .dataframe thead th {\n",
       "        text-align: right;\n",
       "    }\n",
       "</style>\n",
       "<table border=\"1\" class=\"dataframe\">\n",
       "  <thead>\n",
       "    <tr style=\"text-align: right;\">\n",
       "      <th></th>\n",
       "      <th>Price</th>\n",
       "      <th>Open</th>\n",
       "      <th>High</th>\n",
       "      <th>Low</th>\n",
       "      <th>Volume</th>\n",
       "      <th>PercentChange</th>\n",
       "    </tr>\n",
       "    <tr>\n",
       "      <th>Date</th>\n",
       "      <th></th>\n",
       "      <th></th>\n",
       "      <th></th>\n",
       "      <th></th>\n",
       "      <th></th>\n",
       "      <th></th>\n",
       "    </tr>\n",
       "  </thead>\n",
       "  <tbody>\n",
       "    <tr>\n",
       "      <th>2020-12-01</th>\n",
       "      <td>0.003323</td>\n",
       "      <td>0.003558</td>\n",
       "      <td>0.003568</td>\n",
       "      <td>0.003323</td>\n",
       "      <td>1.030000e+09</td>\n",
       "      <td>-6.67</td>\n",
       "    </tr>\n",
       "    <tr>\n",
       "      <th>2020-12-02</th>\n",
       "      <td>0.003368</td>\n",
       "      <td>0.003324</td>\n",
       "      <td>0.003404</td>\n",
       "      <td>0.003324</td>\n",
       "      <td>5.910000e+08</td>\n",
       "      <td>1.35</td>\n",
       "    </tr>\n",
       "    <tr>\n",
       "      <th>2020-12-03</th>\n",
       "      <td>0.003428</td>\n",
       "      <td>0.003363</td>\n",
       "      <td>0.003439</td>\n",
       "      <td>0.003363</td>\n",
       "      <td>6.626600e+08</td>\n",
       "      <td>1.78</td>\n",
       "    </tr>\n",
       "    <tr>\n",
       "      <th>2020-12-04</th>\n",
       "      <td>0.003284</td>\n",
       "      <td>0.003422</td>\n",
       "      <td>0.003422</td>\n",
       "      <td>0.003284</td>\n",
       "      <td>5.723200e+08</td>\n",
       "      <td>-4.20</td>\n",
       "    </tr>\n",
       "    <tr>\n",
       "      <th>2020-12-05</th>\n",
       "      <td>0.003392</td>\n",
       "      <td>0.003281</td>\n",
       "      <td>0.003404</td>\n",
       "      <td>0.003281</td>\n",
       "      <td>3.694500e+08</td>\n",
       "      <td>3.28</td>\n",
       "    </tr>\n",
       "  </tbody>\n",
       "</table>\n",
       "</div>"
      ],
      "text/plain": [
       "               Price      Open      High       Low        Volume  \\\n",
       "Date                                                               \n",
       "2020-12-01  0.003323  0.003558  0.003568  0.003323  1.030000e+09   \n",
       "2020-12-02  0.003368  0.003324  0.003404  0.003324  5.910000e+08   \n",
       "2020-12-03  0.003428  0.003363  0.003439  0.003363  6.626600e+08   \n",
       "2020-12-04  0.003284  0.003422  0.003422  0.003284  5.723200e+08   \n",
       "2020-12-05  0.003392  0.003281  0.003404  0.003281  3.694500e+08   \n",
       "\n",
       "            PercentChange  \n",
       "Date                       \n",
       "2020-12-01          -6.67  \n",
       "2020-12-02           1.35  \n",
       "2020-12-03           1.78  \n",
       "2020-12-04          -4.20  \n",
       "2020-12-05           3.28  "
      ]
     },
     "execution_count": 14,
     "metadata": {},
     "output_type": "execute_result"
    }
   ],
   "source": [
    "df.head()"
   ]
  },
  {
   "cell_type": "markdown",
   "metadata": {},
   "source": [
    "Conversions successful."
   ]
  },
  {
   "cell_type": "markdown",
   "metadata": {},
   "source": [
    "### Acquire minute OHLCV data\n",
    "\n",
    "After I split the data and plotted it, I realized that there is not enough data to split how I want, as this dataset is only daily.\n",
    "\n",
    "So, I am now going to acquire minute-by-minute Dogecoin/USD data. It's a little messier than the other dataset, but the time and effort will be well worth it."
   ]
  },
  {
   "cell_type": "code",
   "execution_count": 31,
   "metadata": {
    "scrolled": true
   },
   "outputs": [
    {
     "data": {
      "text/html": [
       "<div>\n",
       "<style scoped>\n",
       "    .dataframe tbody tr th:only-of-type {\n",
       "        vertical-align: middle;\n",
       "    }\n",
       "\n",
       "    .dataframe tbody tr th {\n",
       "        vertical-align: top;\n",
       "    }\n",
       "\n",
       "    .dataframe thead th {\n",
       "        text-align: right;\n",
       "    }\n",
       "</style>\n",
       "<table border=\"1\" class=\"dataframe\">\n",
       "  <thead>\n",
       "    <tr style=\"text-align: right;\">\n",
       "      <th></th>\n",
       "      <th>0</th>\n",
       "      <th>1</th>\n",
       "      <th>2</th>\n",
       "      <th>3</th>\n",
       "      <th>4</th>\n",
       "      <th>5</th>\n",
       "      <th>6</th>\n",
       "      <th>7</th>\n",
       "      <th>8</th>\n",
       "      <th>9</th>\n",
       "    </tr>\n",
       "  </thead>\n",
       "  <tbody>\n",
       "    <tr>\n",
       "      <th>0</th>\n",
       "      <td>1596085200</td>\n",
       "      <td>0.003158</td>\n",
       "      <td>0.003158</td>\n",
       "      <td>0.003158</td>\n",
       "      <td>0.003158</td>\n",
       "      <td>3200</td>\n",
       "      <td>10</td>\n",
       "      <td>3200</td>\n",
       "      <td>10</td>\n",
       "      <td>1</td>\n",
       "    </tr>\n",
       "    <tr>\n",
       "      <th>1</th>\n",
       "      <td>1596085260</td>\n",
       "      <td>0.003158</td>\n",
       "      <td>0.003158</td>\n",
       "      <td>0.003158</td>\n",
       "      <td>0.003158</td>\n",
       "      <td>0</td>\n",
       "      <td>0</td>\n",
       "      <td>0</td>\n",
       "      <td>0</td>\n",
       "      <td>0</td>\n",
       "    </tr>\n",
       "    <tr>\n",
       "      <th>2</th>\n",
       "      <td>1596085320</td>\n",
       "      <td>0.003158</td>\n",
       "      <td>0.003158</td>\n",
       "      <td>0.003158</td>\n",
       "      <td>0.003158</td>\n",
       "      <td>0</td>\n",
       "      <td>0</td>\n",
       "      <td>0</td>\n",
       "      <td>0</td>\n",
       "      <td>0</td>\n",
       "    </tr>\n",
       "    <tr>\n",
       "      <th>3</th>\n",
       "      <td>1596085380</td>\n",
       "      <td>0.003158</td>\n",
       "      <td>0.003158</td>\n",
       "      <td>0.003158</td>\n",
       "      <td>0.003158</td>\n",
       "      <td>0</td>\n",
       "      <td>0</td>\n",
       "      <td>0</td>\n",
       "      <td>0</td>\n",
       "      <td>0</td>\n",
       "    </tr>\n",
       "    <tr>\n",
       "      <th>4</th>\n",
       "      <td>1596085440</td>\n",
       "      <td>0.003158</td>\n",
       "      <td>0.003158</td>\n",
       "      <td>0.003158</td>\n",
       "      <td>0.003158</td>\n",
       "      <td>0</td>\n",
       "      <td>0</td>\n",
       "      <td>0</td>\n",
       "      <td>0</td>\n",
       "      <td>0</td>\n",
       "    </tr>\n",
       "  </tbody>\n",
       "</table>\n",
       "</div>"
      ],
      "text/plain": [
       "            0         1         2         3         4     5   6     7   8  9\n",
       "0  1596085200  0.003158  0.003158  0.003158  0.003158  3200  10  3200  10  1\n",
       "1  1596085260  0.003158  0.003158  0.003158  0.003158     0   0     0   0  0\n",
       "2  1596085320  0.003158  0.003158  0.003158  0.003158     0   0     0   0  0\n",
       "3  1596085380  0.003158  0.003158  0.003158  0.003158     0   0     0   0  0\n",
       "4  1596085440  0.003158  0.003158  0.003158  0.003158     0   0     0   0  0"
      ]
     },
     "execution_count": 31,
     "metadata": {},
     "output_type": "execute_result"
    }
   ],
   "source": [
    "df = pd.read_csv('DOGEBUSD.csv', header=None, sep='|')\n",
    "df.head()"
   ]
  },
  {
   "cell_type": "markdown",
   "metadata": {},
   "source": [
    "There was no documentation I could find on what each column represents.\n",
    "\n",
    "However, I can use domain knowledge and process of eliminaton to make educated guesses on which columns are what."
   ]
  },
  {
   "cell_type": "code",
   "execution_count": 36,
   "metadata": {},
   "outputs": [
    {
     "data": {
      "text/html": [
       "<div>\n",
       "<style scoped>\n",
       "    .dataframe tbody tr th:only-of-type {\n",
       "        vertical-align: middle;\n",
       "    }\n",
       "\n",
       "    .dataframe tbody tr th {\n",
       "        vertical-align: top;\n",
       "    }\n",
       "\n",
       "    .dataframe thead th {\n",
       "        text-align: right;\n",
       "    }\n",
       "</style>\n",
       "<table border=\"1\" class=\"dataframe\">\n",
       "  <thead>\n",
       "    <tr style=\"text-align: right;\">\n",
       "      <th></th>\n",
       "      <th>0</th>\n",
       "      <th>1</th>\n",
       "      <th>2</th>\n",
       "      <th>3</th>\n",
       "      <th>4</th>\n",
       "      <th>5</th>\n",
       "      <th>6</th>\n",
       "      <th>7</th>\n",
       "      <th>8</th>\n",
       "      <th>9</th>\n",
       "    </tr>\n",
       "  </thead>\n",
       "  <tbody>\n",
       "    <tr>\n",
       "      <th>count</th>\n",
       "      <td>2.711560e+05</td>\n",
       "      <td>271156.000000</td>\n",
       "      <td>271156.000000</td>\n",
       "      <td>271156.000000</td>\n",
       "      <td>271156.000000</td>\n",
       "      <td>2.711560e+05</td>\n",
       "      <td>2.711560e+05</td>\n",
       "      <td>2.711560e+05</td>\n",
       "      <td>2.711560e+05</td>\n",
       "      <td>271156.000000</td>\n",
       "    </tr>\n",
       "    <tr>\n",
       "      <th>mean</th>\n",
       "      <td>1.604225e+09</td>\n",
       "      <td>0.005055</td>\n",
       "      <td>0.005067</td>\n",
       "      <td>0.005042</td>\n",
       "      <td>0.005055</td>\n",
       "      <td>1.195681e+05</td>\n",
       "      <td>1.502850e+03</td>\n",
       "      <td>6.173845e+04</td>\n",
       "      <td>2.999772e+03</td>\n",
       "      <td>7.722993</td>\n",
       "    </tr>\n",
       "    <tr>\n",
       "      <th>std</th>\n",
       "      <td>4.703335e+06</td>\n",
       "      <td>0.006318</td>\n",
       "      <td>0.006381</td>\n",
       "      <td>0.006252</td>\n",
       "      <td>0.006318</td>\n",
       "      <td>7.719368e+05</td>\n",
       "      <td>1.470506e+04</td>\n",
       "      <td>4.140371e+05</td>\n",
       "      <td>2.776896e+04</td>\n",
       "      <td>59.216036</td>\n",
       "    </tr>\n",
       "    <tr>\n",
       "      <th>min</th>\n",
       "      <td>1.596085e+09</td>\n",
       "      <td>0.002459</td>\n",
       "      <td>0.002459</td>\n",
       "      <td>0.002459</td>\n",
       "      <td>0.002459</td>\n",
       "      <td>0.000000e+00</td>\n",
       "      <td>0.000000e+00</td>\n",
       "      <td>0.000000e+00</td>\n",
       "      <td>0.000000e+00</td>\n",
       "      <td>0.000000</td>\n",
       "    </tr>\n",
       "    <tr>\n",
       "      <th>25%</th>\n",
       "      <td>1.600153e+09</td>\n",
       "      <td>0.002714</td>\n",
       "      <td>0.002715</td>\n",
       "      <td>0.002714</td>\n",
       "      <td>0.002714</td>\n",
       "      <td>0.000000e+00</td>\n",
       "      <td>0.000000e+00</td>\n",
       "      <td>0.000000e+00</td>\n",
       "      <td>0.000000e+00</td>\n",
       "      <td>0.000000</td>\n",
       "    </tr>\n",
       "    <tr>\n",
       "      <th>50%</th>\n",
       "      <td>1.604220e+09</td>\n",
       "      <td>0.003255</td>\n",
       "      <td>0.003255</td>\n",
       "      <td>0.003255</td>\n",
       "      <td>0.003255</td>\n",
       "      <td>0.000000e+00</td>\n",
       "      <td>0.000000e+00</td>\n",
       "      <td>0.000000e+00</td>\n",
       "      <td>0.000000e+00</td>\n",
       "      <td>0.000000</td>\n",
       "    </tr>\n",
       "    <tr>\n",
       "      <th>75%</th>\n",
       "      <td>1.608291e+09</td>\n",
       "      <td>0.003907</td>\n",
       "      <td>0.003907</td>\n",
       "      <td>0.003906</td>\n",
       "      <td>0.003907</td>\n",
       "      <td>0.000000e+00</td>\n",
       "      <td>0.000000e+00</td>\n",
       "      <td>0.000000e+00</td>\n",
       "      <td>0.000000e+00</td>\n",
       "      <td>0.000000</td>\n",
       "    </tr>\n",
       "    <tr>\n",
       "      <th>max</th>\n",
       "      <td>1.612376e+09</td>\n",
       "      <td>0.085995</td>\n",
       "      <td>0.087381</td>\n",
       "      <td>0.083201</td>\n",
       "      <td>0.085995</td>\n",
       "      <td>4.248405e+07</td>\n",
       "      <td>1.403784e+06</td>\n",
       "      <td>2.364880e+07</td>\n",
       "      <td>1.908171e+06</td>\n",
       "      <td>3431.000000</td>\n",
       "    </tr>\n",
       "  </tbody>\n",
       "</table>\n",
       "</div>"
      ],
      "text/plain": [
       "                  0              1              2              3  \\\n",
       "count  2.711560e+05  271156.000000  271156.000000  271156.000000   \n",
       "mean   1.604225e+09       0.005055       0.005067       0.005042   \n",
       "std    4.703335e+06       0.006318       0.006381       0.006252   \n",
       "min    1.596085e+09       0.002459       0.002459       0.002459   \n",
       "25%    1.600153e+09       0.002714       0.002715       0.002714   \n",
       "50%    1.604220e+09       0.003255       0.003255       0.003255   \n",
       "75%    1.608291e+09       0.003907       0.003907       0.003906   \n",
       "max    1.612376e+09       0.085995       0.087381       0.083201   \n",
       "\n",
       "                   4             5             6             7             8  \\\n",
       "count  271156.000000  2.711560e+05  2.711560e+05  2.711560e+05  2.711560e+05   \n",
       "mean        0.005055  1.195681e+05  1.502850e+03  6.173845e+04  2.999772e+03   \n",
       "std         0.006318  7.719368e+05  1.470506e+04  4.140371e+05  2.776896e+04   \n",
       "min         0.002459  0.000000e+00  0.000000e+00  0.000000e+00  0.000000e+00   \n",
       "25%         0.002714  0.000000e+00  0.000000e+00  0.000000e+00  0.000000e+00   \n",
       "50%         0.003255  0.000000e+00  0.000000e+00  0.000000e+00  0.000000e+00   \n",
       "75%         0.003907  0.000000e+00  0.000000e+00  0.000000e+00  0.000000e+00   \n",
       "max         0.085995  4.248405e+07  1.403784e+06  2.364880e+07  1.908171e+06   \n",
       "\n",
       "                   9  \n",
       "count  271156.000000  \n",
       "mean        7.722993  \n",
       "std        59.216036  \n",
       "min         0.000000  \n",
       "25%         0.000000  \n",
       "50%         0.000000  \n",
       "75%         0.000000  \n",
       "max      3431.000000  "
      ]
     },
     "execution_count": 36,
     "metadata": {},
     "output_type": "execute_result"
    }
   ],
   "source": [
    "df.describe()"
   ]
  },
  {
   "cell_type": "code",
   "execution_count": null,
   "metadata": {},
   "outputs": [],
   "source": [
    "# rename columns\n",
    "\n",
    "col_dict = {\n",
    "    0: 'SecondsSinceEpoch',\n",
    "    1: 'Open',\n",
    "    2: 'High',\n",
    "    3: 'Low',\n",
    "    4: 'Close',\n",
    "    5: 'Volume'\n",
    "}\n",
    "\n"
   ]
  },
  {
   "cell_type": "code",
   "execution_count": null,
   "metadata": {},
   "outputs": [],
   "source": []
  },
  {
   "cell_type": "markdown",
   "metadata": {},
   "source": [
    "### Prepare minute data"
   ]
  },
  {
   "cell_type": "code",
   "execution_count": null,
   "metadata": {},
   "outputs": [],
   "source": []
  },
  {
   "cell_type": "code",
   "execution_count": null,
   "metadata": {},
   "outputs": [],
   "source": []
  },
  {
   "cell_type": "code",
   "execution_count": null,
   "metadata": {},
   "outputs": [],
   "source": []
  },
  {
   "cell_type": "code",
   "execution_count": null,
   "metadata": {},
   "outputs": [],
   "source": []
  },
  {
   "cell_type": "code",
   "execution_count": null,
   "metadata": {},
   "outputs": [],
   "source": []
  },
  {
   "cell_type": "markdown",
   "metadata": {},
   "source": [
    "### Split the data"
   ]
  },
  {
   "cell_type": "markdown",
   "metadata": {},
   "source": [
    "Now I will split the dataset into train, validate, and test since the goal of this project is to create a predictive model."
   ]
  },
  {
   "cell_type": "code",
   "execution_count": 15,
   "metadata": {},
   "outputs": [
    {
     "data": {
      "text/plain": [
       "60"
      ]
     },
     "execution_count": 15,
     "metadata": {},
     "output_type": "execute_result"
    }
   ],
   "source": [
    "# get size of train\n",
    "train_size = int(len(df) * .90)\n",
    "train_size"
   ]
  },
  {
   "cell_type": "code",
   "execution_count": 16,
   "metadata": {},
   "outputs": [
    {
     "data": {
      "text/plain": [
       "5"
      ]
     },
     "execution_count": 16,
     "metadata": {},
     "output_type": "execute_result"
    }
   ],
   "source": [
    "# get size of validate\n",
    "validate_size = int(len(df) * .08)\n",
    "validate_size"
   ]
  },
  {
   "cell_type": "code",
   "execution_count": 17,
   "metadata": {},
   "outputs": [
    {
     "data": {
      "text/plain": [
       "2"
      ]
     },
     "execution_count": 17,
     "metadata": {},
     "output_type": "execute_result"
    }
   ],
   "source": [
    "# get size of test\n",
    "test_size = int(len(df) - train_size - validate_size)\n",
    "test_size"
   ]
  },
  {
   "cell_type": "code",
   "execution_count": 18,
   "metadata": {},
   "outputs": [
    {
     "data": {
      "text/plain": [
       "65"
      ]
     },
     "execution_count": 18,
     "metadata": {},
     "output_type": "execute_result"
    }
   ],
   "source": [
    "# get end index of validate\n",
    "validate_end_index = train_size + validate_size\n",
    "validate_end_index"
   ]
  },
  {
   "cell_type": "code",
   "execution_count": 19,
   "metadata": {},
   "outputs": [],
   "source": [
    "# use the above values to split the df\n",
    "train = df[: train_size]\n",
    "validate = df[train_size:validate_end_index]\n",
    "test = df[validate_end_index:]"
   ]
  },
  {
   "cell_type": "markdown",
   "metadata": {},
   "source": [
    "Now to verify the splits."
   ]
  },
  {
   "cell_type": "code",
   "execution_count": 20,
   "metadata": {},
   "outputs": [
    {
     "name": "stdout",
     "output_type": "stream",
     "text": [
      "True\n"
     ]
    }
   ],
   "source": [
    "# Does the length of each df equate to the length of the original df?\n",
    "\n",
    "print(len(train) + len(validate) + len(test) == len(df))"
   ]
  },
  {
   "cell_type": "code",
   "execution_count": 21,
   "metadata": {},
   "outputs": [
    {
     "name": "stdout",
     "output_type": "stream",
     "text": [
      "            Price  Open  High   Low  Volume  PercentChange\n",
      "Date                                                      \n",
      "2020-12-01   True  True  True  True    True           True\n"
     ]
    }
   ],
   "source": [
    "# Does the first row of original df equate to the first row of train?\n",
    "\n",
    "print(df.head(1) == train.head(1))"
   ]
  },
  {
   "cell_type": "code",
   "execution_count": 22,
   "metadata": {},
   "outputs": [
    {
     "data": {
      "text/html": [
       "<div>\n",
       "<style scoped>\n",
       "    .dataframe tbody tr th:only-of-type {\n",
       "        vertical-align: middle;\n",
       "    }\n",
       "\n",
       "    .dataframe tbody tr th {\n",
       "        vertical-align: top;\n",
       "    }\n",
       "\n",
       "    .dataframe thead th {\n",
       "        text-align: right;\n",
       "    }\n",
       "</style>\n",
       "<table border=\"1\" class=\"dataframe\">\n",
       "  <thead>\n",
       "    <tr style=\"text-align: right;\">\n",
       "      <th></th>\n",
       "      <th>Price</th>\n",
       "      <th>Open</th>\n",
       "      <th>High</th>\n",
       "      <th>Low</th>\n",
       "      <th>Volume</th>\n",
       "      <th>PercentChange</th>\n",
       "    </tr>\n",
       "    <tr>\n",
       "      <th>Date</th>\n",
       "      <th></th>\n",
       "      <th></th>\n",
       "      <th></th>\n",
       "      <th></th>\n",
       "      <th></th>\n",
       "      <th></th>\n",
       "    </tr>\n",
       "  </thead>\n",
       "  <tbody>\n",
       "    <tr>\n",
       "      <th>2021-01-29</th>\n",
       "      <td>0.046723</td>\n",
       "      <td>0.035574</td>\n",
       "      <td>0.071812</td>\n",
       "      <td>0.034355</td>\n",
       "      <td>1.091500e+11</td>\n",
       "      <td>29.07</td>\n",
       "    </tr>\n",
       "    <tr>\n",
       "      <th>2021-01-30</th>\n",
       "      <td>0.028243</td>\n",
       "      <td>0.045875</td>\n",
       "      <td>0.045968</td>\n",
       "      <td>0.023731</td>\n",
       "      <td>5.458000e+10</td>\n",
       "      <td>-39.55</td>\n",
       "    </tr>\n",
       "  </tbody>\n",
       "</table>\n",
       "</div>"
      ],
      "text/plain": [
       "               Price      Open      High       Low        Volume  \\\n",
       "Date                                                               \n",
       "2021-01-29  0.046723  0.035574  0.071812  0.034355  1.091500e+11   \n",
       "2021-01-30  0.028243  0.045875  0.045968  0.023731  5.458000e+10   \n",
       "\n",
       "            PercentChange  \n",
       "Date                       \n",
       "2021-01-29          29.07  \n",
       "2021-01-30         -39.55  "
      ]
     },
     "execution_count": 22,
     "metadata": {},
     "output_type": "execute_result"
    }
   ],
   "source": [
    "# Is the last row of train the day before the first row of validate? And the same for validate to test?\n",
    "\n",
    "pd.concat([train.tail(1), validate.head(1)])"
   ]
  },
  {
   "cell_type": "code",
   "execution_count": 23,
   "metadata": {},
   "outputs": [
    {
     "data": {
      "text/html": [
       "<div>\n",
       "<style scoped>\n",
       "    .dataframe tbody tr th:only-of-type {\n",
       "        vertical-align: middle;\n",
       "    }\n",
       "\n",
       "    .dataframe tbody tr th {\n",
       "        vertical-align: top;\n",
       "    }\n",
       "\n",
       "    .dataframe thead th {\n",
       "        text-align: right;\n",
       "    }\n",
       "</style>\n",
       "<table border=\"1\" class=\"dataframe\">\n",
       "  <thead>\n",
       "    <tr style=\"text-align: right;\">\n",
       "      <th></th>\n",
       "      <th>Price</th>\n",
       "      <th>Open</th>\n",
       "      <th>High</th>\n",
       "      <th>Low</th>\n",
       "      <th>Volume</th>\n",
       "      <th>PercentChange</th>\n",
       "    </tr>\n",
       "    <tr>\n",
       "      <th>Date</th>\n",
       "      <th></th>\n",
       "      <th></th>\n",
       "      <th></th>\n",
       "      <th></th>\n",
       "      <th></th>\n",
       "      <th></th>\n",
       "    </tr>\n",
       "  </thead>\n",
       "  <tbody>\n",
       "    <tr>\n",
       "      <th>2021-02-03</th>\n",
       "      <td>0.037356</td>\n",
       "      <td>0.031388</td>\n",
       "      <td>0.037356</td>\n",
       "      <td>0.031388</td>\n",
       "      <td>1.296000e+10</td>\n",
       "      <td>19.17</td>\n",
       "    </tr>\n",
       "    <tr>\n",
       "      <th>2021-02-04</th>\n",
       "      <td>0.052930</td>\n",
       "      <td>0.037000</td>\n",
       "      <td>0.052930</td>\n",
       "      <td>0.036789</td>\n",
       "      <td>4.878000e+10</td>\n",
       "      <td>41.69</td>\n",
       "    </tr>\n",
       "  </tbody>\n",
       "</table>\n",
       "</div>"
      ],
      "text/plain": [
       "               Price      Open      High       Low        Volume  \\\n",
       "Date                                                               \n",
       "2021-02-03  0.037356  0.031388  0.037356  0.031388  1.296000e+10   \n",
       "2021-02-04  0.052930  0.037000  0.052930  0.036789  4.878000e+10   \n",
       "\n",
       "            PercentChange  \n",
       "Date                       \n",
       "2021-02-03          19.17  \n",
       "2021-02-04          41.69  "
      ]
     },
     "execution_count": 23,
     "metadata": {},
     "output_type": "execute_result"
    }
   ],
   "source": [
    "pd.concat([validate.tail(1), test.head(1)])"
   ]
  },
  {
   "cell_type": "code",
   "execution_count": 24,
   "metadata": {},
   "outputs": [
    {
     "data": {
      "text/html": [
       "<div>\n",
       "<style scoped>\n",
       "    .dataframe tbody tr th:only-of-type {\n",
       "        vertical-align: middle;\n",
       "    }\n",
       "\n",
       "    .dataframe tbody tr th {\n",
       "        vertical-align: top;\n",
       "    }\n",
       "\n",
       "    .dataframe thead th {\n",
       "        text-align: right;\n",
       "    }\n",
       "</style>\n",
       "<table border=\"1\" class=\"dataframe\">\n",
       "  <thead>\n",
       "    <tr style=\"text-align: right;\">\n",
       "      <th></th>\n",
       "      <th>Price</th>\n",
       "      <th>Open</th>\n",
       "      <th>High</th>\n",
       "      <th>Low</th>\n",
       "      <th>Volume</th>\n",
       "      <th>PercentChange</th>\n",
       "    </tr>\n",
       "    <tr>\n",
       "      <th>Date</th>\n",
       "      <th></th>\n",
       "      <th></th>\n",
       "      <th></th>\n",
       "      <th></th>\n",
       "      <th></th>\n",
       "      <th></th>\n",
       "    </tr>\n",
       "  </thead>\n",
       "  <tbody>\n",
       "    <tr>\n",
       "      <th>2021-02-05</th>\n",
       "      <td>0.049016</td>\n",
       "      <td>0.052898</td>\n",
       "      <td>0.052898</td>\n",
       "      <td>0.049016</td>\n",
       "      <td>5.196000e+10</td>\n",
       "      <td>-7.39</td>\n",
       "    </tr>\n",
       "    <tr>\n",
       "      <th>2021-02-05</th>\n",
       "      <td>0.049016</td>\n",
       "      <td>0.052898</td>\n",
       "      <td>0.052898</td>\n",
       "      <td>0.049016</td>\n",
       "      <td>5.196000e+10</td>\n",
       "      <td>-7.39</td>\n",
       "    </tr>\n",
       "  </tbody>\n",
       "</table>\n",
       "</div>"
      ],
      "text/plain": [
       "               Price      Open      High       Low        Volume  \\\n",
       "Date                                                               \n",
       "2021-02-05  0.049016  0.052898  0.052898  0.049016  5.196000e+10   \n",
       "2021-02-05  0.049016  0.052898  0.052898  0.049016  5.196000e+10   \n",
       "\n",
       "            PercentChange  \n",
       "Date                       \n",
       "2021-02-05          -7.39  \n",
       "2021-02-05          -7.39  "
      ]
     },
     "execution_count": 24,
     "metadata": {},
     "output_type": "execute_result"
    }
   ],
   "source": [
    "# Is the last row of test the same as the last row of our original dataframe?\n",
    "\n",
    "pd.concat([test.tail(1), df.tail(1)])"
   ]
  },
  {
   "cell_type": "markdown",
   "metadata": {},
   "source": [
    "Splits successful. Onward to data exploration."
   ]
  },
  {
   "cell_type": "markdown",
   "metadata": {},
   "source": [
    "### Exploratory data analysis"
   ]
  },
  {
   "cell_type": "markdown",
   "metadata": {},
   "source": [
    "First I'll plot the data, viewing where the data is split into train and test."
   ]
  },
  {
   "cell_type": "code",
   "execution_count": 25,
   "metadata": {},
   "outputs": [
    {
     "data": {
      "image/png": "[encoded data removed]",
      "text/plain": [
       "<Figure size 864x288 with 1 Axes>"
      ]
     },
     "metadata": {
      "needs_background": "light"
     },
     "output_type": "display_data"
    }
   ],
   "source": [
    "plt.figure(figsize=(12,4))\n",
    "plt.plot(train['Price'])\n",
    "plt.plot(validate['Price'])\n",
    "plt.plot(test['Price'])\n",
    "plt.ylabel('Price')\n",
    "plt.xlabel('Date')\n",
    "plt.title('Daily Price of Dogecoin in USD')\n",
    "plt.show()"
   ]
  },
  {
   "cell_type": "code",
   "execution_count": null,
   "metadata": {},
   "outputs": [],
   "source": []
  }
 ],
 "metadata": {
  "kernelspec": {
   "display_name": "Python 3",
   "language": "python",
   "name": "python3"
  },
  "language_info": {
   "codemirror_mode": {
    "name": "ipython",
    "version": 3
   },
   "file_extension": ".py",
   "mimetype": "text/x-python",
   "name": "python",
   "nbconvert_exporter": "python",
   "pygments_lexer": "ipython3",
   "version": "3.8.3"
  }
 },
 "nbformat": 4,
 "nbformat_minor": 4
}
