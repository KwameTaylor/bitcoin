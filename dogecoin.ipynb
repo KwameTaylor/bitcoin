{
 "cells": [
  {
   "cell_type": "markdown",
   "metadata": {},
   "source": [
    "# Dogecoin Time-Series Analysis"
   ]
  },
  {
   "cell_type": "markdown",
   "metadata": {},
   "source": [
    "### Set up environment"
   ]
  },
  {
   "cell_type": "code",
   "execution_count": 1,
   "metadata": {},
   "outputs": [],
   "source": [
    "import warnings\n",
    "warnings.filterwarnings(\"ignore\")\n",
    "\n",
    "import pandas as pd\n",
    "import numpy as np\n",
    "\n",
    "import matplotlib.pyplot as plt\n",
    "import seaborn as sns\n",
    "\n",
    "# plotting defaults\n",
    "plt.rc('figure', figsize=(13, 7))\n",
    "plt.style.use('seaborn-whitegrid')\n",
    "plt.rc('font', size=16)\n",
    "\n",
    "from datetime import datetime, timezone\n",
    "from sklearn.metrics import mean_squared_error\n",
    "from math import sqrt \n",
    "import statsmodels.api as sm\n",
    "from statsmodels.tsa.api import Holt"
   ]
  },
  {
   "cell_type": "markdown",
   "metadata": {},
   "source": [
    "## Acquire and summarize data"
   ]
  },
  {
   "cell_type": "markdown",
   "metadata": {},
   "source": [
    "Using daily-sampled historical data on Dogecoin to USD value from Investing.com."
   ]
  },
  {
   "cell_type": "code",
   "execution_count": 2,
   "metadata": {},
   "outputs": [],
   "source": [
    "df = pd.read_csv('DogecoinHistoricalTruncated.csv')"
   ]
  },
  {
   "cell_type": "code",
   "execution_count": 3,
   "metadata": {},
   "outputs": [
    {
     "data": {
      "text/html": [
       "<div>\n",
       "<style scoped>\n",
       "    .dataframe tbody tr th:only-of-type {\n",
       "        vertical-align: middle;\n",
       "    }\n",
       "\n",
       "    .dataframe tbody tr th {\n",
       "        vertical-align: top;\n",
       "    }\n",
       "\n",
       "    .dataframe thead th {\n",
       "        text-align: right;\n",
       "    }\n",
       "</style>\n",
       "<table border=\"1\" class=\"dataframe\">\n",
       "  <thead>\n",
       "    <tr style=\"text-align: right;\">\n",
       "      <th></th>\n",
       "      <th>Date</th>\n",
       "      <th>Price</th>\n",
       "      <th>Open</th>\n",
       "      <th>High</th>\n",
       "      <th>Low</th>\n",
       "      <th>Vol.</th>\n",
       "      <th>Change %</th>\n",
       "    </tr>\n",
       "  </thead>\n",
       "  <tbody>\n",
       "    <tr>\n",
       "      <th>0</th>\n",
       "      <td>Feb 05, 2021</td>\n",
       "      <td>0.049016</td>\n",
       "      <td>0.052898</td>\n",
       "      <td>0.052898</td>\n",
       "      <td>0.049016</td>\n",
       "      <td>51.96B</td>\n",
       "      <td>-7.39%</td>\n",
       "    </tr>\n",
       "    <tr>\n",
       "      <th>1</th>\n",
       "      <td>Feb 04, 2021</td>\n",
       "      <td>0.052930</td>\n",
       "      <td>0.037000</td>\n",
       "      <td>0.052930</td>\n",
       "      <td>0.036789</td>\n",
       "      <td>48.78B</td>\n",
       "      <td>41.69%</td>\n",
       "    </tr>\n",
       "    <tr>\n",
       "      <th>2</th>\n",
       "      <td>Feb 03, 2021</td>\n",
       "      <td>0.037356</td>\n",
       "      <td>0.031388</td>\n",
       "      <td>0.037356</td>\n",
       "      <td>0.031388</td>\n",
       "      <td>12.96B</td>\n",
       "      <td>19.17%</td>\n",
       "    </tr>\n",
       "    <tr>\n",
       "      <th>3</th>\n",
       "      <td>Feb 02, 2021</td>\n",
       "      <td>0.031347</td>\n",
       "      <td>0.034816</td>\n",
       "      <td>0.034816</td>\n",
       "      <td>0.030692</td>\n",
       "      <td>11.55B</td>\n",
       "      <td>-9.65%</td>\n",
       "    </tr>\n",
       "    <tr>\n",
       "      <th>4</th>\n",
       "      <td>Feb 01, 2021</td>\n",
       "      <td>0.034694</td>\n",
       "      <td>0.036722</td>\n",
       "      <td>0.040650</td>\n",
       "      <td>0.034694</td>\n",
       "      <td>23.87B</td>\n",
       "      <td>-5.69%</td>\n",
       "    </tr>\n",
       "  </tbody>\n",
       "</table>\n",
       "</div>"
      ],
      "text/plain": [
       "           Date     Price      Open      High       Low    Vol. Change %\n",
       "0  Feb 05, 2021  0.049016  0.052898  0.052898  0.049016  51.96B   -7.39%\n",
       "1  Feb 04, 2021  0.052930  0.037000  0.052930  0.036789  48.78B   41.69%\n",
       "2  Feb 03, 2021  0.037356  0.031388  0.037356  0.031388  12.96B   19.17%\n",
       "3  Feb 02, 2021  0.031347  0.034816  0.034816  0.030692  11.55B   -9.65%\n",
       "4  Feb 01, 2021  0.034694  0.036722  0.040650  0.034694  23.87B   -5.69%"
      ]
     },
     "execution_count": 3,
     "metadata": {},
     "output_type": "execute_result"
    }
   ],
   "source": [
    "df.head()"
   ]
  },
  {
   "cell_type": "code",
   "execution_count": 4,
   "metadata": {},
   "outputs": [
    {
     "data": {
      "text/plain": [
       "Date        datetime64[ns]\n",
       "Price              float64\n",
       "Open               float64\n",
       "High               float64\n",
       "Low                float64\n",
       "Vol.                object\n",
       "Change %            object\n",
       "dtype: object"
      ]
     },
     "execution_count": 4,
     "metadata": {},
     "output_type": "execute_result"
    }
   ],
   "source": [
    "# convert date column to datetime type\n",
    "df.Date = pd.to_datetime(df.Date)\n",
    "df.dtypes"
   ]
  },
  {
   "cell_type": "code",
   "execution_count": 5,
   "metadata": {},
   "outputs": [
    {
     "data": {
      "text/html": [
       "<div>\n",
       "<style scoped>\n",
       "    .dataframe tbody tr th:only-of-type {\n",
       "        vertical-align: middle;\n",
       "    }\n",
       "\n",
       "    .dataframe tbody tr th {\n",
       "        vertical-align: top;\n",
       "    }\n",
       "\n",
       "    .dataframe thead th {\n",
       "        text-align: right;\n",
       "    }\n",
       "</style>\n",
       "<table border=\"1\" class=\"dataframe\">\n",
       "  <thead>\n",
       "    <tr style=\"text-align: right;\">\n",
       "      <th></th>\n",
       "      <th>Price</th>\n",
       "      <th>Open</th>\n",
       "      <th>High</th>\n",
       "      <th>Low</th>\n",
       "      <th>Vol.</th>\n",
       "      <th>Change %</th>\n",
       "    </tr>\n",
       "    <tr>\n",
       "      <th>Date</th>\n",
       "      <th></th>\n",
       "      <th></th>\n",
       "      <th></th>\n",
       "      <th></th>\n",
       "      <th></th>\n",
       "      <th></th>\n",
       "    </tr>\n",
       "  </thead>\n",
       "  <tbody>\n",
       "    <tr>\n",
       "      <th>2020-12-01</th>\n",
       "      <td>0.003323</td>\n",
       "      <td>0.003558</td>\n",
       "      <td>0.003568</td>\n",
       "      <td>0.003323</td>\n",
       "      <td>1.03B</td>\n",
       "      <td>-6.67%</td>\n",
       "    </tr>\n",
       "    <tr>\n",
       "      <th>2020-12-02</th>\n",
       "      <td>0.003368</td>\n",
       "      <td>0.003324</td>\n",
       "      <td>0.003404</td>\n",
       "      <td>0.003324</td>\n",
       "      <td>591.00M</td>\n",
       "      <td>1.35%</td>\n",
       "    </tr>\n",
       "    <tr>\n",
       "      <th>2020-12-03</th>\n",
       "      <td>0.003428</td>\n",
       "      <td>0.003363</td>\n",
       "      <td>0.003439</td>\n",
       "      <td>0.003363</td>\n",
       "      <td>662.66M</td>\n",
       "      <td>1.78%</td>\n",
       "    </tr>\n",
       "    <tr>\n",
       "      <th>2020-12-04</th>\n",
       "      <td>0.003284</td>\n",
       "      <td>0.003422</td>\n",
       "      <td>0.003422</td>\n",
       "      <td>0.003284</td>\n",
       "      <td>572.32M</td>\n",
       "      <td>-4.20%</td>\n",
       "    </tr>\n",
       "    <tr>\n",
       "      <th>2020-12-05</th>\n",
       "      <td>0.003392</td>\n",
       "      <td>0.003281</td>\n",
       "      <td>0.003404</td>\n",
       "      <td>0.003281</td>\n",
       "      <td>369.45M</td>\n",
       "      <td>3.28%</td>\n",
       "    </tr>\n",
       "  </tbody>\n",
       "</table>\n",
       "</div>"
      ],
      "text/plain": [
       "               Price      Open      High       Low     Vol. Change %\n",
       "Date                                                                \n",
       "2020-12-01  0.003323  0.003558  0.003568  0.003323    1.03B   -6.67%\n",
       "2020-12-02  0.003368  0.003324  0.003404  0.003324  591.00M    1.35%\n",
       "2020-12-03  0.003428  0.003363  0.003439  0.003363  662.66M    1.78%\n",
       "2020-12-04  0.003284  0.003422  0.003422  0.003284  572.32M   -4.20%\n",
       "2020-12-05  0.003392  0.003281  0.003404  0.003281  369.45M    3.28%"
      ]
     },
     "execution_count": 5,
     "metadata": {},
     "output_type": "execute_result"
    }
   ],
   "source": [
    "# set ds as index and sort\n",
    "# this is a very important step!\n",
    "df = df.set_index('Date').sort_index()\n",
    "df.head()"
   ]
  },
  {
   "cell_type": "markdown",
   "metadata": {},
   "source": [
    "Now that the data is acquired, let's look at its data types and summary statistics."
   ]
  },
  {
   "cell_type": "code",
   "execution_count": 6,
   "metadata": {},
   "outputs": [
    {
     "name": "stdout",
     "output_type": "stream",
     "text": [
      "<class 'pandas.core.frame.DataFrame'>\n",
      "DatetimeIndex: 67 entries, 2020-12-01 to 2021-02-05\n",
      "Data columns (total 6 columns):\n",
      " #   Column    Non-Null Count  Dtype  \n",
      "---  ------    --------------  -----  \n",
      " 0   Price     67 non-null     float64\n",
      " 1   Open      67 non-null     float64\n",
      " 2   High      67 non-null     float64\n",
      " 3   Low       67 non-null     float64\n",
      " 4   Vol.      67 non-null     object \n",
      " 5   Change %  67 non-null     object \n",
      "dtypes: float64(4), object(2)\n",
      "memory usage: 3.7+ KB\n"
     ]
    }
   ],
   "source": [
    "df.info()"
   ]
  },
  {
   "cell_type": "code",
   "execution_count": 7,
   "metadata": {},
   "outputs": [
    {
     "data": {
      "text/html": [
       "<div>\n",
       "<style scoped>\n",
       "    .dataframe tbody tr th:only-of-type {\n",
       "        vertical-align: middle;\n",
       "    }\n",
       "\n",
       "    .dataframe tbody tr th {\n",
       "        vertical-align: top;\n",
       "    }\n",
       "\n",
       "    .dataframe thead th {\n",
       "        text-align: right;\n",
       "    }\n",
       "</style>\n",
       "<table border=\"1\" class=\"dataframe\">\n",
       "  <thead>\n",
       "    <tr style=\"text-align: right;\">\n",
       "      <th></th>\n",
       "      <th>count</th>\n",
       "      <th>mean</th>\n",
       "      <th>std</th>\n",
       "      <th>min</th>\n",
       "      <th>25%</th>\n",
       "      <th>50%</th>\n",
       "      <th>75%</th>\n",
       "      <th>max</th>\n",
       "    </tr>\n",
       "  </thead>\n",
       "  <tbody>\n",
       "    <tr>\n",
       "      <th>Price</th>\n",
       "      <td>67.0</td>\n",
       "      <td>0.010672</td>\n",
       "      <td>0.011989</td>\n",
       "      <td>0.003073</td>\n",
       "      <td>0.003743</td>\n",
       "      <td>0.008076</td>\n",
       "      <td>0.009742</td>\n",
       "      <td>0.052930</td>\n",
       "    </tr>\n",
       "    <tr>\n",
       "      <th>Open</th>\n",
       "      <td>67.0</td>\n",
       "      <td>0.009973</td>\n",
       "      <td>0.010959</td>\n",
       "      <td>0.003073</td>\n",
       "      <td>0.003638</td>\n",
       "      <td>0.007405</td>\n",
       "      <td>0.009579</td>\n",
       "      <td>0.052898</td>\n",
       "    </tr>\n",
       "    <tr>\n",
       "      <th>High</th>\n",
       "      <td>67.0</td>\n",
       "      <td>0.011812</td>\n",
       "      <td>0.014410</td>\n",
       "      <td>0.003113</td>\n",
       "      <td>0.003909</td>\n",
       "      <td>0.008351</td>\n",
       "      <td>0.009995</td>\n",
       "      <td>0.071812</td>\n",
       "    </tr>\n",
       "    <tr>\n",
       "      <th>Low</th>\n",
       "      <td>67.0</td>\n",
       "      <td>0.009213</td>\n",
       "      <td>0.009641</td>\n",
       "      <td>0.003058</td>\n",
       "      <td>0.003556</td>\n",
       "      <td>0.006835</td>\n",
       "      <td>0.009075</td>\n",
       "      <td>0.049016</td>\n",
       "    </tr>\n",
       "  </tbody>\n",
       "</table>\n",
       "</div>"
      ],
      "text/plain": [
       "       count      mean       std       min       25%       50%       75%  \\\n",
       "Price   67.0  0.010672  0.011989  0.003073  0.003743  0.008076  0.009742   \n",
       "Open    67.0  0.009973  0.010959  0.003073  0.003638  0.007405  0.009579   \n",
       "High    67.0  0.011812  0.014410  0.003113  0.003909  0.008351  0.009995   \n",
       "Low     67.0  0.009213  0.009641  0.003058  0.003556  0.006835  0.009075   \n",
       "\n",
       "            max  \n",
       "Price  0.052930  \n",
       "Open   0.052898  \n",
       "High   0.071812  \n",
       "Low    0.049016  "
      ]
     },
     "execution_count": 7,
     "metadata": {},
     "output_type": "execute_result"
    }
   ],
   "source": [
    "df.describe().T"
   ]
  },
  {
   "cell_type": "code",
   "execution_count": 8,
   "metadata": {},
   "outputs": [
    {
     "data": {
      "text/plain": [
       "(67, 6)"
      ]
     },
     "execution_count": 8,
     "metadata": {},
     "output_type": "execute_result"
    }
   ],
   "source": [
    "df.shape"
   ]
  },
  {
   "cell_type": "markdown",
   "metadata": {},
   "source": [
    "## Prepare the data"
   ]
  },
  {
   "cell_type": "markdown",
   "metadata": {},
   "source": [
    "Rename columns for readability and ease of calling."
   ]
  },
  {
   "cell_type": "code",
   "execution_count": 9,
   "metadata": {},
   "outputs": [],
   "source": [
    "df = df.rename(columns={'Vol.' : 'Volume'})\n",
    "df = df.rename(columns={'Change %' : 'PercentChange'})"
   ]
  },
  {
   "cell_type": "markdown",
   "metadata": {},
   "source": [
    "Appropriately convert strings to numericals."
   ]
  },
  {
   "cell_type": "code",
   "execution_count": 10,
   "metadata": {},
   "outputs": [
    {
     "data": {
      "text/html": [
       "<div>\n",
       "<style scoped>\n",
       "    .dataframe tbody tr th:only-of-type {\n",
       "        vertical-align: middle;\n",
       "    }\n",
       "\n",
       "    .dataframe tbody tr th {\n",
       "        vertical-align: top;\n",
       "    }\n",
       "\n",
       "    .dataframe thead th {\n",
       "        text-align: right;\n",
       "    }\n",
       "</style>\n",
       "<table border=\"1\" class=\"dataframe\">\n",
       "  <thead>\n",
       "    <tr style=\"text-align: right;\">\n",
       "      <th></th>\n",
       "      <th>Price</th>\n",
       "      <th>Open</th>\n",
       "      <th>High</th>\n",
       "      <th>Low</th>\n",
       "      <th>Volume</th>\n",
       "      <th>PercentChange</th>\n",
       "    </tr>\n",
       "    <tr>\n",
       "      <th>Date</th>\n",
       "      <th></th>\n",
       "      <th></th>\n",
       "      <th></th>\n",
       "      <th></th>\n",
       "      <th></th>\n",
       "      <th></th>\n",
       "    </tr>\n",
       "  </thead>\n",
       "  <tbody>\n",
       "    <tr>\n",
       "      <th>2020-12-01</th>\n",
       "      <td>0.003323</td>\n",
       "      <td>0.003558</td>\n",
       "      <td>0.003568</td>\n",
       "      <td>0.003323</td>\n",
       "      <td>1.03B</td>\n",
       "      <td>-6.67%</td>\n",
       "    </tr>\n",
       "    <tr>\n",
       "      <th>2020-12-02</th>\n",
       "      <td>0.003368</td>\n",
       "      <td>0.003324</td>\n",
       "      <td>0.003404</td>\n",
       "      <td>0.003324</td>\n",
       "      <td>591.00M</td>\n",
       "      <td>1.35%</td>\n",
       "    </tr>\n",
       "    <tr>\n",
       "      <th>2020-12-03</th>\n",
       "      <td>0.003428</td>\n",
       "      <td>0.003363</td>\n",
       "      <td>0.003439</td>\n",
       "      <td>0.003363</td>\n",
       "      <td>662.66M</td>\n",
       "      <td>1.78%</td>\n",
       "    </tr>\n",
       "    <tr>\n",
       "      <th>2020-12-04</th>\n",
       "      <td>0.003284</td>\n",
       "      <td>0.003422</td>\n",
       "      <td>0.003422</td>\n",
       "      <td>0.003284</td>\n",
       "      <td>572.32M</td>\n",
       "      <td>-4.20%</td>\n",
       "    </tr>\n",
       "    <tr>\n",
       "      <th>2020-12-05</th>\n",
       "      <td>0.003392</td>\n",
       "      <td>0.003281</td>\n",
       "      <td>0.003404</td>\n",
       "      <td>0.003281</td>\n",
       "      <td>369.45M</td>\n",
       "      <td>3.28%</td>\n",
       "    </tr>\n",
       "  </tbody>\n",
       "</table>\n",
       "</div>"
      ],
      "text/plain": [
       "               Price      Open      High       Low   Volume PercentChange\n",
       "Date                                                                     \n",
       "2020-12-01  0.003323  0.003558  0.003568  0.003323    1.03B        -6.67%\n",
       "2020-12-02  0.003368  0.003324  0.003404  0.003324  591.00M         1.35%\n",
       "2020-12-03  0.003428  0.003363  0.003439  0.003363  662.66M         1.78%\n",
       "2020-12-04  0.003284  0.003422  0.003422  0.003284  572.32M        -4.20%\n",
       "2020-12-05  0.003392  0.003281  0.003404  0.003281  369.45M         3.28%"
      ]
     },
     "execution_count": 10,
     "metadata": {},
     "output_type": "execute_result"
    }
   ],
   "source": [
    "df.head()"
   ]
  },
  {
   "cell_type": "code",
   "execution_count": 11,
   "metadata": {},
   "outputs": [],
   "source": [
    "def mb_to_mbillion(string):\n",
    "    if string[-1] == 'B':\n",
    "        string = string[:-1]\n",
    "        num = float(string) * 1_000_000_000\n",
    "    elif string[-1] == 'M':\n",
    "        string = string[:-1]\n",
    "        num = float(string) * 1_000_000\n",
    "    return num\n",
    "\n",
    "df.Volume = df.Volume.apply(mb_to_mbillion)"
   ]
  },
  {
   "cell_type": "code",
   "execution_count": 12,
   "metadata": {},
   "outputs": [],
   "source": [
    "def handle_percent(string):\n",
    "    string = string[:-1]\n",
    "    num = float(string)\n",
    "    return num\n",
    "\n",
    "df.PercentChange = df.PercentChange.apply(handle_percent)"
   ]
  },
  {
   "cell_type": "code",
   "execution_count": 13,
   "metadata": {},
   "outputs": [
    {
     "data": {
      "text/plain": [
       "Price            float64\n",
       "Open             float64\n",
       "High             float64\n",
       "Low              float64\n",
       "Volume           float64\n",
       "PercentChange    float64\n",
       "dtype: object"
      ]
     },
     "execution_count": 13,
     "metadata": {},
     "output_type": "execute_result"
    }
   ],
   "source": [
    "df.dtypes"
   ]
  },
  {
   "cell_type": "code",
   "execution_count": 14,
   "metadata": {},
   "outputs": [
    {
     "data": {
      "text/html": [
       "<div>\n",
       "<style scoped>\n",
       "    .dataframe tbody tr th:only-of-type {\n",
       "        vertical-align: middle;\n",
       "    }\n",
       "\n",
       "    .dataframe tbody tr th {\n",
       "        vertical-align: top;\n",
       "    }\n",
       "\n",
       "    .dataframe thead th {\n",
       "        text-align: right;\n",
       "    }\n",
       "</style>\n",
       "<table border=\"1\" class=\"dataframe\">\n",
       "  <thead>\n",
       "    <tr style=\"text-align: right;\">\n",
       "      <th></th>\n",
       "      <th>Price</th>\n",
       "      <th>Open</th>\n",
       "      <th>High</th>\n",
       "      <th>Low</th>\n",
       "      <th>Volume</th>\n",
       "      <th>PercentChange</th>\n",
       "    </tr>\n",
       "    <tr>\n",
       "      <th>Date</th>\n",
       "      <th></th>\n",
       "      <th></th>\n",
       "      <th></th>\n",
       "      <th></th>\n",
       "      <th></th>\n",
       "      <th></th>\n",
       "    </tr>\n",
       "  </thead>\n",
       "  <tbody>\n",
       "    <tr>\n",
       "      <th>2020-12-01</th>\n",
       "      <td>0.003323</td>\n",
       "      <td>0.003558</td>\n",
       "      <td>0.003568</td>\n",
       "      <td>0.003323</td>\n",
       "      <td>1.030000e+09</td>\n",
       "      <td>-6.67</td>\n",
       "    </tr>\n",
       "    <tr>\n",
       "      <th>2020-12-02</th>\n",
       "      <td>0.003368</td>\n",
       "      <td>0.003324</td>\n",
       "      <td>0.003404</td>\n",
       "      <td>0.003324</td>\n",
       "      <td>5.910000e+08</td>\n",
       "      <td>1.35</td>\n",
       "    </tr>\n",
       "    <tr>\n",
       "      <th>2020-12-03</th>\n",
       "      <td>0.003428</td>\n",
       "      <td>0.003363</td>\n",
       "      <td>0.003439</td>\n",
       "      <td>0.003363</td>\n",
       "      <td>6.626600e+08</td>\n",
       "      <td>1.78</td>\n",
       "    </tr>\n",
       "    <tr>\n",
       "      <th>2020-12-04</th>\n",
       "      <td>0.003284</td>\n",
       "      <td>0.003422</td>\n",
       "      <td>0.003422</td>\n",
       "      <td>0.003284</td>\n",
       "      <td>5.723200e+08</td>\n",
       "      <td>-4.20</td>\n",
       "    </tr>\n",
       "    <tr>\n",
       "      <th>2020-12-05</th>\n",
       "      <td>0.003392</td>\n",
       "      <td>0.003281</td>\n",
       "      <td>0.003404</td>\n",
       "      <td>0.003281</td>\n",
       "      <td>3.694500e+08</td>\n",
       "      <td>3.28</td>\n",
       "    </tr>\n",
       "  </tbody>\n",
       "</table>\n",
       "</div>"
      ],
      "text/plain": [
       "               Price      Open      High       Low        Volume  \\\n",
       "Date                                                               \n",
       "2020-12-01  0.003323  0.003558  0.003568  0.003323  1.030000e+09   \n",
       "2020-12-02  0.003368  0.003324  0.003404  0.003324  5.910000e+08   \n",
       "2020-12-03  0.003428  0.003363  0.003439  0.003363  6.626600e+08   \n",
       "2020-12-04  0.003284  0.003422  0.003422  0.003284  5.723200e+08   \n",
       "2020-12-05  0.003392  0.003281  0.003404  0.003281  3.694500e+08   \n",
       "\n",
       "            PercentChange  \n",
       "Date                       \n",
       "2020-12-01          -6.67  \n",
       "2020-12-02           1.35  \n",
       "2020-12-03           1.78  \n",
       "2020-12-04          -4.20  \n",
       "2020-12-05           3.28  "
      ]
     },
     "execution_count": 14,
     "metadata": {},
     "output_type": "execute_result"
    }
   ],
   "source": [
    "df.head()"
   ]
  },
  {
   "cell_type": "markdown",
   "metadata": {},
   "source": [
    "Conversions successful."
   ]
  },
  {
   "cell_type": "markdown",
   "metadata": {},
   "source": [
    "## Acquire and prepare minute OHLCV data\n",
    "\n",
    "After I split the data and plotted it, I realized that there is not enough data to split how I want, as this dataset is only daily.\n",
    "\n",
    "So, I am now going to acquire minute-by-minute Dogecoin/USD data. It's a little messier than the other dataset, but the time and effort will be well worth it."
   ]
  },
  {
   "cell_type": "code",
   "execution_count": 15,
   "metadata": {
    "scrolled": true
   },
   "outputs": [
    {
     "data": {
      "text/html": [
       "<div>\n",
       "<style scoped>\n",
       "    .dataframe tbody tr th:only-of-type {\n",
       "        vertical-align: middle;\n",
       "    }\n",
       "\n",
       "    .dataframe tbody tr th {\n",
       "        vertical-align: top;\n",
       "    }\n",
       "\n",
       "    .dataframe thead th {\n",
       "        text-align: right;\n",
       "    }\n",
       "</style>\n",
       "<table border=\"1\" class=\"dataframe\">\n",
       "  <thead>\n",
       "    <tr style=\"text-align: right;\">\n",
       "      <th></th>\n",
       "      <th>0</th>\n",
       "      <th>1</th>\n",
       "      <th>2</th>\n",
       "      <th>3</th>\n",
       "      <th>4</th>\n",
       "      <th>5</th>\n",
       "      <th>6</th>\n",
       "      <th>7</th>\n",
       "      <th>8</th>\n",
       "      <th>9</th>\n",
       "    </tr>\n",
       "  </thead>\n",
       "  <tbody>\n",
       "    <tr>\n",
       "      <th>0</th>\n",
       "      <td>1596085200</td>\n",
       "      <td>0.003158</td>\n",
       "      <td>0.003158</td>\n",
       "      <td>0.003158</td>\n",
       "      <td>0.003158</td>\n",
       "      <td>3200</td>\n",
       "      <td>10</td>\n",
       "      <td>3200</td>\n",
       "      <td>10</td>\n",
       "      <td>1</td>\n",
       "    </tr>\n",
       "    <tr>\n",
       "      <th>1</th>\n",
       "      <td>1596085260</td>\n",
       "      <td>0.003158</td>\n",
       "      <td>0.003158</td>\n",
       "      <td>0.003158</td>\n",
       "      <td>0.003158</td>\n",
       "      <td>0</td>\n",
       "      <td>0</td>\n",
       "      <td>0</td>\n",
       "      <td>0</td>\n",
       "      <td>0</td>\n",
       "    </tr>\n",
       "    <tr>\n",
       "      <th>2</th>\n",
       "      <td>1596085320</td>\n",
       "      <td>0.003158</td>\n",
       "      <td>0.003158</td>\n",
       "      <td>0.003158</td>\n",
       "      <td>0.003158</td>\n",
       "      <td>0</td>\n",
       "      <td>0</td>\n",
       "      <td>0</td>\n",
       "      <td>0</td>\n",
       "      <td>0</td>\n",
       "    </tr>\n",
       "    <tr>\n",
       "      <th>3</th>\n",
       "      <td>1596085380</td>\n",
       "      <td>0.003158</td>\n",
       "      <td>0.003158</td>\n",
       "      <td>0.003158</td>\n",
       "      <td>0.003158</td>\n",
       "      <td>0</td>\n",
       "      <td>0</td>\n",
       "      <td>0</td>\n",
       "      <td>0</td>\n",
       "      <td>0</td>\n",
       "    </tr>\n",
       "    <tr>\n",
       "      <th>4</th>\n",
       "      <td>1596085440</td>\n",
       "      <td>0.003158</td>\n",
       "      <td>0.003158</td>\n",
       "      <td>0.003158</td>\n",
       "      <td>0.003158</td>\n",
       "      <td>0</td>\n",
       "      <td>0</td>\n",
       "      <td>0</td>\n",
       "      <td>0</td>\n",
       "      <td>0</td>\n",
       "    </tr>\n",
       "  </tbody>\n",
       "</table>\n",
       "</div>"
      ],
      "text/plain": [
       "            0         1         2         3         4     5   6     7   8  9\n",
       "0  1596085200  0.003158  0.003158  0.003158  0.003158  3200  10  3200  10  1\n",
       "1  1596085260  0.003158  0.003158  0.003158  0.003158     0   0     0   0  0\n",
       "2  1596085320  0.003158  0.003158  0.003158  0.003158     0   0     0   0  0\n",
       "3  1596085380  0.003158  0.003158  0.003158  0.003158     0   0     0   0  0\n",
       "4  1596085440  0.003158  0.003158  0.003158  0.003158     0   0     0   0  0"
      ]
     },
     "execution_count": 15,
     "metadata": {},
     "output_type": "execute_result"
    }
   ],
   "source": [
    "df = pd.read_csv('DOGEBUSD.csv', header=None, sep='|')\n",
    "df.head()"
   ]
  },
  {
   "cell_type": "markdown",
   "metadata": {},
   "source": [
    "There was no documentation I could find on what each column represents.\n",
    "\n",
    "However, I can use domain knowledge and process of eliminaton to make educated guesses on which columns are what."
   ]
  },
  {
   "cell_type": "code",
   "execution_count": 16,
   "metadata": {},
   "outputs": [
    {
     "data": {
      "text/html": [
       "<div>\n",
       "<style scoped>\n",
       "    .dataframe tbody tr th:only-of-type {\n",
       "        vertical-align: middle;\n",
       "    }\n",
       "\n",
       "    .dataframe tbody tr th {\n",
       "        vertical-align: top;\n",
       "    }\n",
       "\n",
       "    .dataframe thead th {\n",
       "        text-align: right;\n",
       "    }\n",
       "</style>\n",
       "<table border=\"1\" class=\"dataframe\">\n",
       "  <thead>\n",
       "    <tr style=\"text-align: right;\">\n",
       "      <th></th>\n",
       "      <th>0</th>\n",
       "      <th>1</th>\n",
       "      <th>2</th>\n",
       "      <th>3</th>\n",
       "      <th>4</th>\n",
       "      <th>5</th>\n",
       "      <th>6</th>\n",
       "      <th>7</th>\n",
       "      <th>8</th>\n",
       "      <th>9</th>\n",
       "    </tr>\n",
       "  </thead>\n",
       "  <tbody>\n",
       "    <tr>\n",
       "      <th>count</th>\n",
       "      <td>2.835900e+05</td>\n",
       "      <td>283590.000000</td>\n",
       "      <td>283590.000000</td>\n",
       "      <td>283590.000000</td>\n",
       "      <td>283590.000000</td>\n",
       "      <td>2.835900e+05</td>\n",
       "      <td>2.835900e+05</td>\n",
       "      <td>2.835900e+05</td>\n",
       "      <td>2.835900e+05</td>\n",
       "      <td>283590.000000</td>\n",
       "    </tr>\n",
       "    <tr>\n",
       "      <th>mean</th>\n",
       "      <td>1.604599e+09</td>\n",
       "      <td>0.007566</td>\n",
       "      <td>0.007586</td>\n",
       "      <td>0.007544</td>\n",
       "      <td>0.007566</td>\n",
       "      <td>1.553360e+05</td>\n",
       "      <td>2.663994e+03</td>\n",
       "      <td>7.925153e+04</td>\n",
       "      <td>5.358268e+03</td>\n",
       "      <td>12.900490</td>\n",
       "    </tr>\n",
       "    <tr>\n",
       "      <th>std</th>\n",
       "      <td>4.919316e+06</td>\n",
       "      <td>0.013556</td>\n",
       "      <td>0.013619</td>\n",
       "      <td>0.013487</td>\n",
       "      <td>0.013556</td>\n",
       "      <td>8.527404e+05</td>\n",
       "      <td>1.895621e+04</td>\n",
       "      <td>4.534227e+05</td>\n",
       "      <td>3.613781e+04</td>\n",
       "      <td>72.833727</td>\n",
       "    </tr>\n",
       "    <tr>\n",
       "      <th>min</th>\n",
       "      <td>1.596085e+09</td>\n",
       "      <td>0.002459</td>\n",
       "      <td>0.002459</td>\n",
       "      <td>0.002459</td>\n",
       "      <td>0.002459</td>\n",
       "      <td>0.000000e+00</td>\n",
       "      <td>0.000000e+00</td>\n",
       "      <td>0.000000e+00</td>\n",
       "      <td>0.000000e+00</td>\n",
       "      <td>0.000000</td>\n",
       "    </tr>\n",
       "    <tr>\n",
       "      <th>25%</th>\n",
       "      <td>1.600339e+09</td>\n",
       "      <td>0.002737</td>\n",
       "      <td>0.002738</td>\n",
       "      <td>0.002737</td>\n",
       "      <td>0.002737</td>\n",
       "      <td>0.000000e+00</td>\n",
       "      <td>0.000000e+00</td>\n",
       "      <td>0.000000e+00</td>\n",
       "      <td>0.000000e+00</td>\n",
       "      <td>0.000000</td>\n",
       "    </tr>\n",
       "    <tr>\n",
       "      <th>50%</th>\n",
       "      <td>1.604593e+09</td>\n",
       "      <td>0.003286</td>\n",
       "      <td>0.003287</td>\n",
       "      <td>0.003286</td>\n",
       "      <td>0.003286</td>\n",
       "      <td>0.000000e+00</td>\n",
       "      <td>0.000000e+00</td>\n",
       "      <td>0.000000e+00</td>\n",
       "      <td>0.000000e+00</td>\n",
       "      <td>0.000000</td>\n",
       "    </tr>\n",
       "    <tr>\n",
       "      <th>75%</th>\n",
       "      <td>1.608868e+09</td>\n",
       "      <td>0.004506</td>\n",
       "      <td>0.004507</td>\n",
       "      <td>0.004506</td>\n",
       "      <td>0.004506</td>\n",
       "      <td>3.462000e+03</td>\n",
       "      <td>0.000000e+00</td>\n",
       "      <td>0.000000e+00</td>\n",
       "      <td>1.600000e+01</td>\n",
       "      <td>1.000000</td>\n",
       "    </tr>\n",
       "    <tr>\n",
       "      <th>max</th>\n",
       "      <td>1.613126e+09</td>\n",
       "      <td>0.086889</td>\n",
       "      <td>0.087381</td>\n",
       "      <td>0.085020</td>\n",
       "      <td>0.086888</td>\n",
       "      <td>4.248405e+07</td>\n",
       "      <td>1.403784e+06</td>\n",
       "      <td>2.364880e+07</td>\n",
       "      <td>1.908171e+06</td>\n",
       "      <td>3431.000000</td>\n",
       "    </tr>\n",
       "  </tbody>\n",
       "</table>\n",
       "</div>"
      ],
      "text/plain": [
       "                  0              1              2              3  \\\n",
       "count  2.835900e+05  283590.000000  283590.000000  283590.000000   \n",
       "mean   1.604599e+09       0.007566       0.007586       0.007544   \n",
       "std    4.919316e+06       0.013556       0.013619       0.013487   \n",
       "min    1.596085e+09       0.002459       0.002459       0.002459   \n",
       "25%    1.600339e+09       0.002737       0.002738       0.002737   \n",
       "50%    1.604593e+09       0.003286       0.003287       0.003286   \n",
       "75%    1.608868e+09       0.004506       0.004507       0.004506   \n",
       "max    1.613126e+09       0.086889       0.087381       0.085020   \n",
       "\n",
       "                   4             5             6             7             8  \\\n",
       "count  283590.000000  2.835900e+05  2.835900e+05  2.835900e+05  2.835900e+05   \n",
       "mean        0.007566  1.553360e+05  2.663994e+03  7.925153e+04  5.358268e+03   \n",
       "std         0.013556  8.527404e+05  1.895621e+04  4.534227e+05  3.613781e+04   \n",
       "min         0.002459  0.000000e+00  0.000000e+00  0.000000e+00  0.000000e+00   \n",
       "25%         0.002737  0.000000e+00  0.000000e+00  0.000000e+00  0.000000e+00   \n",
       "50%         0.003286  0.000000e+00  0.000000e+00  0.000000e+00  0.000000e+00   \n",
       "75%         0.004506  3.462000e+03  0.000000e+00  0.000000e+00  1.600000e+01   \n",
       "max         0.086888  4.248405e+07  1.403784e+06  2.364880e+07  1.908171e+06   \n",
       "\n",
       "                   9  \n",
       "count  283590.000000  \n",
       "mean       12.900490  \n",
       "std        72.833727  \n",
       "min         0.000000  \n",
       "25%         0.000000  \n",
       "50%         0.000000  \n",
       "75%         1.000000  \n",
       "max      3431.000000  "
      ]
     },
     "execution_count": 16,
     "metadata": {},
     "output_type": "execute_result"
    }
   ],
   "source": [
    "df.describe()"
   ]
  },
  {
   "cell_type": "code",
   "execution_count": 17,
   "metadata": {},
   "outputs": [
    {
     "data": {
      "text/html": [
       "<div>\n",
       "<style scoped>\n",
       "    .dataframe tbody tr th:only-of-type {\n",
       "        vertical-align: middle;\n",
       "    }\n",
       "\n",
       "    .dataframe tbody tr th {\n",
       "        vertical-align: top;\n",
       "    }\n",
       "\n",
       "    .dataframe thead th {\n",
       "        text-align: right;\n",
       "    }\n",
       "</style>\n",
       "<table border=\"1\" class=\"dataframe\">\n",
       "  <thead>\n",
       "    <tr style=\"text-align: right;\">\n",
       "      <th></th>\n",
       "      <th>SecondsSinceEpoch</th>\n",
       "      <th>Open</th>\n",
       "      <th>High</th>\n",
       "      <th>Low</th>\n",
       "      <th>Close</th>\n",
       "      <th>Volume</th>\n",
       "    </tr>\n",
       "  </thead>\n",
       "  <tbody>\n",
       "    <tr>\n",
       "      <th>0</th>\n",
       "      <td>1596085200</td>\n",
       "      <td>0.003158</td>\n",
       "      <td>0.003158</td>\n",
       "      <td>0.003158</td>\n",
       "      <td>0.003158</td>\n",
       "      <td>3200</td>\n",
       "    </tr>\n",
       "    <tr>\n",
       "      <th>1</th>\n",
       "      <td>1596085260</td>\n",
       "      <td>0.003158</td>\n",
       "      <td>0.003158</td>\n",
       "      <td>0.003158</td>\n",
       "      <td>0.003158</td>\n",
       "      <td>0</td>\n",
       "    </tr>\n",
       "    <tr>\n",
       "      <th>2</th>\n",
       "      <td>1596085320</td>\n",
       "      <td>0.003158</td>\n",
       "      <td>0.003158</td>\n",
       "      <td>0.003158</td>\n",
       "      <td>0.003158</td>\n",
       "      <td>0</td>\n",
       "    </tr>\n",
       "    <tr>\n",
       "      <th>3</th>\n",
       "      <td>1596085380</td>\n",
       "      <td>0.003158</td>\n",
       "      <td>0.003158</td>\n",
       "      <td>0.003158</td>\n",
       "      <td>0.003158</td>\n",
       "      <td>0</td>\n",
       "    </tr>\n",
       "    <tr>\n",
       "      <th>4</th>\n",
       "      <td>1596085440</td>\n",
       "      <td>0.003158</td>\n",
       "      <td>0.003158</td>\n",
       "      <td>0.003158</td>\n",
       "      <td>0.003158</td>\n",
       "      <td>0</td>\n",
       "    </tr>\n",
       "  </tbody>\n",
       "</table>\n",
       "</div>"
      ],
      "text/plain": [
       "   SecondsSinceEpoch      Open      High       Low     Close  Volume\n",
       "0         1596085200  0.003158  0.003158  0.003158  0.003158    3200\n",
       "1         1596085260  0.003158  0.003158  0.003158  0.003158       0\n",
       "2         1596085320  0.003158  0.003158  0.003158  0.003158       0\n",
       "3         1596085380  0.003158  0.003158  0.003158  0.003158       0\n",
       "4         1596085440  0.003158  0.003158  0.003158  0.003158       0"
      ]
     },
     "execution_count": 17,
     "metadata": {},
     "output_type": "execute_result"
    }
   ],
   "source": [
    "# rename columns and drop columns I can't figure out for now\n",
    "\n",
    "# I will ask a stockbroker at some point to see if they can help me determine what the last few fields are.\n",
    "\n",
    "col_dict = {\n",
    "    0: 'SecondsSinceEpoch',\n",
    "    1: 'Open',\n",
    "    2: 'High',\n",
    "    3: 'Low',\n",
    "    4: 'Close',\n",
    "    5: 'Volume'\n",
    "}\n",
    "\n",
    "df = df.drop(columns=[6, 7, 8, 9])\n",
    "df = df.rename(columns=col_dict)\n",
    "\n",
    "df.head()"
   ]
  },
  {
   "cell_type": "markdown",
   "metadata": {},
   "source": [
    "Now I just need to check data types, convert ```SecondsSinceEpoch``` to datetime, set the index to be datetime, and check for nulls."
   ]
  },
  {
   "cell_type": "code",
   "execution_count": 18,
   "metadata": {},
   "outputs": [
    {
     "data": {
      "text/plain": [
       "SecondsSinceEpoch      int64\n",
       "Open                 float64\n",
       "High                 float64\n",
       "Low                  float64\n",
       "Close                float64\n",
       "Volume                 int64\n",
       "dtype: object"
      ]
     },
     "execution_count": 18,
     "metadata": {},
     "output_type": "execute_result"
    }
   ],
   "source": [
    "# check data types\n",
    "df.dtypes"
   ]
  },
  {
   "cell_type": "code",
   "execution_count": 19,
   "metadata": {},
   "outputs": [],
   "source": [
    "# convert SecondsSinceEpoch to datetime\n",
    "def convert_seconds_since_epoch(sec):\n",
    "    time = datetime.utcfromtimestamp(sec)\n",
    "    return time\n",
    "\n",
    "df.SecondsSinceEpoch = df.SecondsSinceEpoch.apply(convert_seconds_since_epoch)"
   ]
  },
  {
   "cell_type": "code",
   "execution_count": 20,
   "metadata": {},
   "outputs": [],
   "source": [
    "# set index to SecondsSinceEpoch (and rename to Date)\n",
    "df = df.rename(columns={'SecondsSinceEpoch': 'Date'})\n",
    "df = df.set_index('Date').asfreq('60S', method='ffill')\n",
    "\n",
    "# convert to pandas datetime\n",
    "df.index = pd.DatetimeIndex(df.index)"
   ]
  },
  {
   "cell_type": "code",
   "execution_count": 21,
   "metadata": {},
   "outputs": [
    {
     "data": {
      "text/plain": [
       "dtype('<M8[ns]')"
      ]
     },
     "execution_count": 21,
     "metadata": {},
     "output_type": "execute_result"
    }
   ],
   "source": [
    "df.index.dtype"
   ]
  },
  {
   "cell_type": "code",
   "execution_count": 22,
   "metadata": {},
   "outputs": [
    {
     "data": {
      "text/html": [
       "<div>\n",
       "<style scoped>\n",
       "    .dataframe tbody tr th:only-of-type {\n",
       "        vertical-align: middle;\n",
       "    }\n",
       "\n",
       "    .dataframe tbody tr th {\n",
       "        vertical-align: top;\n",
       "    }\n",
       "\n",
       "    .dataframe thead th {\n",
       "        text-align: right;\n",
       "    }\n",
       "</style>\n",
       "<table border=\"1\" class=\"dataframe\">\n",
       "  <thead>\n",
       "    <tr style=\"text-align: right;\">\n",
       "      <th></th>\n",
       "      <th>Open</th>\n",
       "      <th>High</th>\n",
       "      <th>Low</th>\n",
       "      <th>Close</th>\n",
       "      <th>Volume</th>\n",
       "    </tr>\n",
       "    <tr>\n",
       "      <th>Date</th>\n",
       "      <th></th>\n",
       "      <th></th>\n",
       "      <th></th>\n",
       "      <th></th>\n",
       "      <th></th>\n",
       "    </tr>\n",
       "  </thead>\n",
       "  <tbody>\n",
       "    <tr>\n",
       "      <th>2020-07-30 05:00:00</th>\n",
       "      <td>0.003158</td>\n",
       "      <td>0.003158</td>\n",
       "      <td>0.003158</td>\n",
       "      <td>0.003158</td>\n",
       "      <td>3200</td>\n",
       "    </tr>\n",
       "    <tr>\n",
       "      <th>2020-07-30 05:01:00</th>\n",
       "      <td>0.003158</td>\n",
       "      <td>0.003158</td>\n",
       "      <td>0.003158</td>\n",
       "      <td>0.003158</td>\n",
       "      <td>0</td>\n",
       "    </tr>\n",
       "    <tr>\n",
       "      <th>2020-07-30 05:02:00</th>\n",
       "      <td>0.003158</td>\n",
       "      <td>0.003158</td>\n",
       "      <td>0.003158</td>\n",
       "      <td>0.003158</td>\n",
       "      <td>0</td>\n",
       "    </tr>\n",
       "    <tr>\n",
       "      <th>2020-07-30 05:03:00</th>\n",
       "      <td>0.003158</td>\n",
       "      <td>0.003158</td>\n",
       "      <td>0.003158</td>\n",
       "      <td>0.003158</td>\n",
       "      <td>0</td>\n",
       "    </tr>\n",
       "    <tr>\n",
       "      <th>2020-07-30 05:04:00</th>\n",
       "      <td>0.003158</td>\n",
       "      <td>0.003158</td>\n",
       "      <td>0.003158</td>\n",
       "      <td>0.003158</td>\n",
       "      <td>0</td>\n",
       "    </tr>\n",
       "  </tbody>\n",
       "</table>\n",
       "</div>"
      ],
      "text/plain": [
       "                         Open      High       Low     Close  Volume\n",
       "Date                                                               \n",
       "2020-07-30 05:00:00  0.003158  0.003158  0.003158  0.003158    3200\n",
       "2020-07-30 05:01:00  0.003158  0.003158  0.003158  0.003158       0\n",
       "2020-07-30 05:02:00  0.003158  0.003158  0.003158  0.003158       0\n",
       "2020-07-30 05:03:00  0.003158  0.003158  0.003158  0.003158       0\n",
       "2020-07-30 05:04:00  0.003158  0.003158  0.003158  0.003158       0"
      ]
     },
     "execution_count": 22,
     "metadata": {},
     "output_type": "execute_result"
    }
   ],
   "source": [
    "# check that these changes were successful\n",
    "df.head()"
   ]
  },
  {
   "cell_type": "code",
   "execution_count": 23,
   "metadata": {},
   "outputs": [
    {
     "data": {
      "text/plain": [
       "Open      0\n",
       "High      0\n",
       "Low       0\n",
       "Close     0\n",
       "Volume    0\n",
       "dtype: int64"
      ]
     },
     "execution_count": 23,
     "metadata": {},
     "output_type": "execute_result"
    }
   ],
   "source": [
    "# finally, check for nulls\n",
    "df.isna().sum()"
   ]
  },
  {
   "cell_type": "code",
   "execution_count": null,
   "metadata": {},
   "outputs": [],
   "source": [
    "df[df.isna().sum()]"
   ]
  },
  {
   "cell_type": "markdown",
   "metadata": {},
   "source": [
    "The data looks good to go!"
   ]
  },
  {
   "cell_type": "markdown",
   "metadata": {},
   "source": [
    "### Summarize minute data"
   ]
  },
  {
   "cell_type": "code",
   "execution_count": 25,
   "metadata": {},
   "outputs": [
    {
     "data": {
      "text/plain": [
       "(284020, 5)"
      ]
     },
     "execution_count": 25,
     "metadata": {},
     "output_type": "execute_result"
    }
   ],
   "source": [
    "df.shape"
   ]
  },
  {
   "cell_type": "markdown",
   "metadata": {},
   "source": [
    "This is 188 days worth of minute-to-minute Dogecoin/USD data."
   ]
  },
  {
   "cell_type": "code",
   "execution_count": 26,
   "metadata": {},
   "outputs": [
    {
     "name": "stdout",
     "output_type": "stream",
     "text": [
      "<class 'pandas.core.frame.DataFrame'>\n",
      "DatetimeIndex: 284020 entries, 2020-07-30 05:00:00 to 2021-02-12 10:39:00\n",
      "Freq: 60S\n",
      "Data columns (total 5 columns):\n",
      " #   Column  Non-Null Count   Dtype  \n",
      "---  ------  --------------   -----  \n",
      " 0   Open    284020 non-null  float64\n",
      " 1   High    284020 non-null  float64\n",
      " 2   Low     284020 non-null  float64\n",
      " 3   Close   284020 non-null  float64\n",
      " 4   Volume  284020 non-null  int64  \n",
      "dtypes: float64(4), int64(1)\n",
      "memory usage: 13.0 MB\n"
     ]
    }
   ],
   "source": [
    "df.info()"
   ]
  },
  {
   "cell_type": "markdown",
   "metadata": {},
   "source": [
    "### Split the data"
   ]
  },
  {
   "cell_type": "markdown",
   "metadata": {},
   "source": [
    "Now I will split the dataset into train, validate, and test since the goal of this project is to create a predictive model."
   ]
  },
  {
   "cell_type": "code",
   "execution_count": 27,
   "metadata": {},
   "outputs": [
    {
     "data": {
      "text/plain": [
       "266978"
      ]
     },
     "execution_count": 27,
     "metadata": {},
     "output_type": "execute_result"
    }
   ],
   "source": [
    "# get size of train\n",
    "train_size = int(len(df) * .94)\n",
    "train_size"
   ]
  },
  {
   "cell_type": "code",
   "execution_count": 28,
   "metadata": {},
   "outputs": [
    {
     "data": {
      "text/plain": [
       "9940"
      ]
     },
     "execution_count": 28,
     "metadata": {},
     "output_type": "execute_result"
    }
   ],
   "source": [
    "# get size of validate\n",
    "validate_size = int(len(df) * .035)\n",
    "validate_size"
   ]
  },
  {
   "cell_type": "code",
   "execution_count": 29,
   "metadata": {},
   "outputs": [
    {
     "data": {
      "text/plain": [
       "7102"
      ]
     },
     "execution_count": 29,
     "metadata": {},
     "output_type": "execute_result"
    }
   ],
   "source": [
    "# get size of test\n",
    "test_size = int(len(df) - train_size - validate_size)\n",
    "test_size"
   ]
  },
  {
   "cell_type": "code",
   "execution_count": 30,
   "metadata": {},
   "outputs": [
    {
     "data": {
      "text/plain": [
       "276918"
      ]
     },
     "execution_count": 30,
     "metadata": {},
     "output_type": "execute_result"
    }
   ],
   "source": [
    "# get end index of validate\n",
    "validate_end_index = train_size + validate_size\n",
    "validate_end_index"
   ]
  },
  {
   "cell_type": "code",
   "execution_count": 31,
   "metadata": {},
   "outputs": [],
   "source": [
    "# use the above values to split the df\n",
    "train = df[: train_size]\n",
    "validate = df[train_size:validate_end_index]\n",
    "test = df[validate_end_index:]"
   ]
  },
  {
   "cell_type": "markdown",
   "metadata": {},
   "source": [
    "I'll set the prediction target to be ```High``` because I want to predict the point at which it will be best for me to liquidate my Dogecoin into USD."
   ]
  },
  {
   "cell_type": "code",
   "execution_count": 32,
   "metadata": {},
   "outputs": [
    {
     "data": {
      "text/plain": [
       "Date\n",
       "2020-07-30 05:00:00    0.003158\n",
       "2020-07-30 05:01:00    0.003158\n",
       "2020-07-30 05:02:00    0.003158\n",
       "2020-07-30 05:03:00    0.003158\n",
       "2020-07-30 05:04:00    0.003158\n",
       "Freq: 60S, Name: High, dtype: float64"
      ]
     },
     "execution_count": 32,
     "metadata": {},
     "output_type": "execute_result"
    }
   ],
   "source": [
    "# set the prediction target variable, y\n",
    "y_train = train.High\n",
    "y_validate = validate.High\n",
    "y_test = test.High\n",
    "\n",
    "y_train.head()"
   ]
  },
  {
   "cell_type": "markdown",
   "metadata": {},
   "source": [
    "Now to verify the splits."
   ]
  },
  {
   "cell_type": "code",
   "execution_count": 33,
   "metadata": {},
   "outputs": [
    {
     "name": "stdout",
     "output_type": "stream",
     "text": [
      "True\n"
     ]
    }
   ],
   "source": [
    "# Does the length of each df equate to the length of the original df?\n",
    "\n",
    "print(len(train) + len(validate) + len(test) == len(df))"
   ]
  },
  {
   "cell_type": "code",
   "execution_count": 34,
   "metadata": {},
   "outputs": [
    {
     "name": "stdout",
     "output_type": "stream",
     "text": [
      "                     Open  High   Low  Close  Volume\n",
      "Date                                                \n",
      "2020-07-30 05:00:00  True  True  True   True    True\n"
     ]
    }
   ],
   "source": [
    "# Does the first row of original df equate to the first row of train?\n",
    "\n",
    "print(df.head(1) == train.head(1))"
   ]
  },
  {
   "cell_type": "code",
   "execution_count": 35,
   "metadata": {},
   "outputs": [
    {
     "data": {
      "text/html": [
       "<div>\n",
       "<style scoped>\n",
       "    .dataframe tbody tr th:only-of-type {\n",
       "        vertical-align: middle;\n",
       "    }\n",
       "\n",
       "    .dataframe tbody tr th {\n",
       "        vertical-align: top;\n",
       "    }\n",
       "\n",
       "    .dataframe thead th {\n",
       "        text-align: right;\n",
       "    }\n",
       "</style>\n",
       "<table border=\"1\" class=\"dataframe\">\n",
       "  <thead>\n",
       "    <tr style=\"text-align: right;\">\n",
       "      <th></th>\n",
       "      <th>Open</th>\n",
       "      <th>High</th>\n",
       "      <th>Low</th>\n",
       "      <th>Close</th>\n",
       "      <th>Volume</th>\n",
       "    </tr>\n",
       "    <tr>\n",
       "      <th>Date</th>\n",
       "      <th></th>\n",
       "      <th></th>\n",
       "      <th></th>\n",
       "      <th></th>\n",
       "      <th></th>\n",
       "    </tr>\n",
       "  </thead>\n",
       "  <tbody>\n",
       "    <tr>\n",
       "      <th>2021-01-31 14:37:00</th>\n",
       "      <td>0.029138</td>\n",
       "      <td>0.029230</td>\n",
       "      <td>0.029115</td>\n",
       "      <td>0.029115</td>\n",
       "      <td>326591</td>\n",
       "    </tr>\n",
       "    <tr>\n",
       "      <th>2021-01-31 14:38:00</th>\n",
       "      <td>0.029177</td>\n",
       "      <td>0.029177</td>\n",
       "      <td>0.029040</td>\n",
       "      <td>0.029142</td>\n",
       "      <td>261289</td>\n",
       "    </tr>\n",
       "  </tbody>\n",
       "</table>\n",
       "</div>"
      ],
      "text/plain": [
       "                         Open      High       Low     Close  Volume\n",
       "Date                                                               \n",
       "2021-01-31 14:37:00  0.029138  0.029230  0.029115  0.029115  326591\n",
       "2021-01-31 14:38:00  0.029177  0.029177  0.029040  0.029142  261289"
      ]
     },
     "execution_count": 35,
     "metadata": {},
     "output_type": "execute_result"
    }
   ],
   "source": [
    "# Is the last row of train the day before the first row of validate? And the same for validate to test?\n",
    "\n",
    "pd.concat([train.tail(1), validate.head(1)])"
   ]
  },
  {
   "cell_type": "code",
   "execution_count": 36,
   "metadata": {},
   "outputs": [
    {
     "data": {
      "text/html": [
       "<div>\n",
       "<style scoped>\n",
       "    .dataframe tbody tr th:only-of-type {\n",
       "        vertical-align: middle;\n",
       "    }\n",
       "\n",
       "    .dataframe tbody tr th {\n",
       "        vertical-align: top;\n",
       "    }\n",
       "\n",
       "    .dataframe thead th {\n",
       "        text-align: right;\n",
       "    }\n",
       "</style>\n",
       "<table border=\"1\" class=\"dataframe\">\n",
       "  <thead>\n",
       "    <tr style=\"text-align: right;\">\n",
       "      <th></th>\n",
       "      <th>Open</th>\n",
       "      <th>High</th>\n",
       "      <th>Low</th>\n",
       "      <th>Close</th>\n",
       "      <th>Volume</th>\n",
       "    </tr>\n",
       "    <tr>\n",
       "      <th>Date</th>\n",
       "      <th></th>\n",
       "      <th></th>\n",
       "      <th></th>\n",
       "      <th></th>\n",
       "      <th></th>\n",
       "    </tr>\n",
       "  </thead>\n",
       "  <tbody>\n",
       "    <tr>\n",
       "      <th>2021-02-07 12:17:00</th>\n",
       "      <td>0.060500</td>\n",
       "      <td>0.060623</td>\n",
       "      <td>0.060382</td>\n",
       "      <td>0.060623</td>\n",
       "      <td>330926</td>\n",
       "    </tr>\n",
       "    <tr>\n",
       "      <th>2021-02-07 12:18:00</th>\n",
       "      <td>0.060507</td>\n",
       "      <td>0.060660</td>\n",
       "      <td>0.060507</td>\n",
       "      <td>0.060513</td>\n",
       "      <td>104291</td>\n",
       "    </tr>\n",
       "  </tbody>\n",
       "</table>\n",
       "</div>"
      ],
      "text/plain": [
       "                         Open      High       Low     Close  Volume\n",
       "Date                                                               \n",
       "2021-02-07 12:17:00  0.060500  0.060623  0.060382  0.060623  330926\n",
       "2021-02-07 12:18:00  0.060507  0.060660  0.060507  0.060513  104291"
      ]
     },
     "execution_count": 36,
     "metadata": {},
     "output_type": "execute_result"
    }
   ],
   "source": [
    "pd.concat([validate.tail(1), test.head(1)])"
   ]
  },
  {
   "cell_type": "code",
   "execution_count": 37,
   "metadata": {},
   "outputs": [
    {
     "data": {
      "text/html": [
       "<div>\n",
       "<style scoped>\n",
       "    .dataframe tbody tr th:only-of-type {\n",
       "        vertical-align: middle;\n",
       "    }\n",
       "\n",
       "    .dataframe tbody tr th {\n",
       "        vertical-align: top;\n",
       "    }\n",
       "\n",
       "    .dataframe thead th {\n",
       "        text-align: right;\n",
       "    }\n",
       "</style>\n",
       "<table border=\"1\" class=\"dataframe\">\n",
       "  <thead>\n",
       "    <tr style=\"text-align: right;\">\n",
       "      <th></th>\n",
       "      <th>Open</th>\n",
       "      <th>High</th>\n",
       "      <th>Low</th>\n",
       "      <th>Close</th>\n",
       "      <th>Volume</th>\n",
       "    </tr>\n",
       "    <tr>\n",
       "      <th>Date</th>\n",
       "      <th></th>\n",
       "      <th></th>\n",
       "      <th></th>\n",
       "      <th></th>\n",
       "      <th></th>\n",
       "    </tr>\n",
       "  </thead>\n",
       "  <tbody>\n",
       "    <tr>\n",
       "      <th>2021-02-12 10:39:00</th>\n",
       "      <td>0.067593</td>\n",
       "      <td>0.067593</td>\n",
       "      <td>0.067382</td>\n",
       "      <td>0.067384</td>\n",
       "      <td>29801</td>\n",
       "    </tr>\n",
       "    <tr>\n",
       "      <th>2021-02-12 10:39:00</th>\n",
       "      <td>0.067593</td>\n",
       "      <td>0.067593</td>\n",
       "      <td>0.067382</td>\n",
       "      <td>0.067384</td>\n",
       "      <td>29801</td>\n",
       "    </tr>\n",
       "  </tbody>\n",
       "</table>\n",
       "</div>"
      ],
      "text/plain": [
       "                         Open      High       Low     Close  Volume\n",
       "Date                                                               \n",
       "2021-02-12 10:39:00  0.067593  0.067593  0.067382  0.067384   29801\n",
       "2021-02-12 10:39:00  0.067593  0.067593  0.067382  0.067384   29801"
      ]
     },
     "execution_count": 37,
     "metadata": {},
     "output_type": "execute_result"
    }
   ],
   "source": [
    "# Is the last row of test the same as the last row of our original dataframe?\n",
    "\n",
    "pd.concat([test.tail(1), df.tail(1)])"
   ]
  },
  {
   "cell_type": "markdown",
   "metadata": {},
   "source": [
    "Splits successful. Onward to data exploration."
   ]
  },
  {
   "cell_type": "markdown",
   "metadata": {},
   "source": [
    "## Exploratory data analysis"
   ]
  },
  {
   "cell_type": "markdown",
   "metadata": {},
   "source": [
    "First I'll plot the data, viewing where the data is split into train and test."
   ]
  },
  {
   "cell_type": "code",
   "execution_count": 38,
   "metadata": {},
   "outputs": [
    {
     "data": {
      "image/png": "[encoded data removed]",
      "text/plain": [
       "<Figure size 1152x432 with 1 Axes>"
      ]
     },
     "metadata": {},
     "output_type": "display_data"
    }
   ],
   "source": [
    "plt.figure(figsize=(16,6))\n",
    "plt.plot(train['High'])\n",
    "plt.plot(validate['High'])\n",
    "plt.plot(test['High'])\n",
    "plt.ylabel('Price')\n",
    "plt.xlabel('Date')\n",
    "plt.title('Price of Dogecoin in USD')\n",
    "plt.show()"
   ]
  },
  {
   "cell_type": "markdown",
   "metadata": {},
   "source": [
    "Plot the distribution of ```High```."
   ]
  },
  {
   "cell_type": "code",
   "execution_count": 39,
   "metadata": {},
   "outputs": [
    {
     "data": {
      "text/plain": [
       "<matplotlib.axes._subplots.AxesSubplot at 0x7f8b15933ac0>"
      ]
     },
     "execution_count": 39,
     "metadata": {},
     "output_type": "execute_result"
    },
    {
     "data": {
      "image/png": "[encoded data removed]",
      "text/plain": [
       "<Figure size 936x504 with 1 Axes>"
      ]
     },
     "metadata": {},
     "output_type": "display_data"
    }
   ],
   "source": [
    "y_train.plot.hist(bins=20)"
   ]
  },
  {
   "cell_type": "markdown",
   "metadata": {},
   "source": [
    "Plot the distribution of ```Volume```."
   ]
  },
  {
   "cell_type": "code",
   "execution_count": 40,
   "metadata": {},
   "outputs": [
    {
     "data": {
      "text/plain": [
       "<matplotlib.axes._subplots.AxesSubplot at 0x7f8b15cc3b20>"
      ]
     },
     "execution_count": 40,
     "metadata": {},
     "output_type": "execute_result"
    },
    {
     "data": {
      "image/png": "[encoded data removed]",
      "text/plain": [
       "<Figure size 936x504 with 1 Axes>"
      ]
     },
     "metadata": {},
     "output_type": "display_data"
    }
   ],
   "source": [
    "train.Volume.plot.hist(bins=20)"
   ]
  },
  {
   "cell_type": "code",
   "execution_count": 41,
   "metadata": {},
   "outputs": [
    {
     "data": {
      "text/plain": [
       "<matplotlib.axes._subplots.AxesSubplot at 0x7f8b18255d00>"
      ]
     },
     "execution_count": 41,
     "metadata": {},
     "output_type": "execute_result"
    },
    {
     "data": {
      "image/png": "[encoded data removed]",
      "text/plain": [
       "<Figure size 936x504 with 1 Axes>"
      ]
     },
     "metadata": {},
     "output_type": "display_data"
    }
   ],
   "source": [
    "train['month'] = train.index.month\n",
    "\n",
    "train.groupby('month').High.mean().plot.bar()"
   ]
  },
  {
   "cell_type": "code",
   "execution_count": 42,
   "metadata": {},
   "outputs": [
    {
     "data": {
      "text/plain": [
       "<matplotlib.axes._subplots.AxesSubplot at 0x7f8b16e4a970>"
      ]
     },
     "execution_count": 42,
     "metadata": {},
     "output_type": "execute_result"
    },
    {
     "data": {
      "image/png": "[encoded data removed]",
      "text/plain": [
       "<Figure size 936x504 with 1 Axes>"
      ]
     },
     "metadata": {},
     "output_type": "display_data"
    }
   ],
   "source": [
    "train['day'] = train.index.day\n",
    "\n",
    "train.groupby('day').High.mean().plot.bar()"
   ]
  },
  {
   "cell_type": "code",
   "execution_count": 43,
   "metadata": {},
   "outputs": [
    {
     "data": {
      "text/plain": [
       "<matplotlib.axes._subplots.AxesSubplot at 0x7f8b15999130>"
      ]
     },
     "execution_count": 43,
     "metadata": {},
     "output_type": "execute_result"
    },
    {
     "data": {
      "image/png": "[encoded data removed]",
      "text/plain": [
       "<Figure size 936x504 with 1 Axes>"
      ]
     },
     "metadata": {},
     "output_type": "display_data"
    }
   ],
   "source": [
    "train['weekday'] = train.index.weekday\n",
    "\n",
    "train.groupby('weekday').High.mean().plot.bar()"
   ]
  },
  {
   "cell_type": "code",
   "execution_count": 44,
   "metadata": {},
   "outputs": [
    {
     "data": {
      "text/plain": [
       "<matplotlib.axes._subplots.AxesSubplot at 0x7f8b1603e430>"
      ]
     },
     "execution_count": 44,
     "metadata": {},
     "output_type": "execute_result"
    },
    {
     "data": {
      "image/png": "[encoded data removed]",
      "text/plain": [
       "<Figure size 936x504 with 1 Axes>"
      ]
     },
     "metadata": {},
     "output_type": "display_data"
    }
   ],
   "source": [
    "train['year'] = train.index.year\n",
    "\n",
    "train.groupby('year').High.mean().plot.bar()"
   ]
  },
  {
   "cell_type": "code",
   "execution_count": 45,
   "metadata": {},
   "outputs": [
    {
     "data": {
      "text/plain": [
       "<matplotlib.axes._subplots.AxesSubplot at 0x7f8b181c7df0>"
      ]
     },
     "execution_count": 45,
     "metadata": {},
     "output_type": "execute_result"
    },
    {
     "data": {
      "image/png": "[encoded data removed]",
      "text/plain": [
       "<Figure size 936x504 with 1 Axes>"
      ]
     },
     "metadata": {},
     "output_type": "display_data"
    }
   ],
   "source": [
    "train['hour'] = train.index.hour\n",
    "# this is in UTC\n",
    "train.groupby('hour').High.mean().plot.bar()"
   ]
  },
  {
   "cell_type": "code",
   "execution_count": 46,
   "metadata": {},
   "outputs": [
    {
     "data": {
      "text/plain": [
       "<matplotlib.legend.Legend at 0x7f8b19b53220>"
      ]
     },
     "execution_count": 46,
     "metadata": {},
     "output_type": "execute_result"
    },
    {
     "data": {
      "image/png": "[encoded data removed]",
      "text/plain": [
       "<Figure size 936x504 with 1 Axes>"
      ]
     },
     "metadata": {},
     "output_type": "display_data"
    }
   ],
   "source": [
    "y_train.resample('D').mean().plot(alpha=.6, label='Daily')\n",
    "y_train.resample('W').mean().plot(alpha=.6, label='Weekly')\n",
    "y_train.resample('M').mean().plot(alpha=.6, label='Monthly')\n",
    "y_train.resample('Q').mean().plot(alpha=.6, label='Quarterly')\n",
    "plt.legend()"
   ]
  },
  {
   "cell_type": "code",
   "execution_count": 47,
   "metadata": {},
   "outputs": [
    {
     "data": {
      "text/plain": [
       "<matplotlib.axes._subplots.AxesSubplot at 0x7f8b199957c0>"
      ]
     },
     "execution_count": 47,
     "metadata": {},
     "output_type": "execute_result"
    },
    {
     "data": {
      "image/png": "[encoded data removed]",
      "text/plain": [
       "<Figure size 936x504 with 1 Axes>"
      ]
     },
     "metadata": {},
     "output_type": "display_data"
    }
   ],
   "source": [
    "y_train.resample('M').agg(['min', 'mean', 'max']).plot()"
   ]
  },
  {
   "cell_type": "code",
   "execution_count": 48,
   "metadata": {},
   "outputs": [
    {
     "data": {
      "text/plain": [
       "<matplotlib.axes._subplots.AxesSubplot at 0x7f8b19d6d670>"
      ]
     },
     "execution_count": 48,
     "metadata": {},
     "output_type": "execute_result"
    },
    {
     "data": {
      "image/png": "[encoded data removed]",
      "text/plain": [
       "<Figure size 936x504 with 1 Axes>"
      ]
     },
     "metadata": {},
     "output_type": "display_data"
    }
   ],
   "source": [
    "y_train.resample('2W').mean().plot(title='2 week average')"
   ]
  },
  {
   "cell_type": "code",
   "execution_count": 49,
   "metadata": {},
   "outputs": [
    {
     "data": {
      "text/plain": [
       "<matplotlib.axes._subplots.AxesSubplot at 0x7f8b19bc31c0>"
      ]
     },
     "execution_count": 49,
     "metadata": {},
     "output_type": "execute_result"
    },
    {
     "data": {
      "image/png": "[encoded data removed]",
      "text/plain": [
       "<Figure size 936x504 with 1 Axes>"
      ]
     },
     "metadata": {},
     "output_type": "display_data"
    }
   ],
   "source": [
    "pd.plotting.autocorrelation_plot(train.High.resample('W').mean())"
   ]
  },
  {
   "cell_type": "markdown",
   "metadata": {},
   "source": [
    "### Seasonal Decomposition\n",
    "\n",
    "Let's take a look at the seasonal decomposition for the target."
   ]
  },
  {
   "cell_type": "code",
   "execution_count": 50,
   "metadata": {},
   "outputs": [
    {
     "data": {
      "image/png": "[encoded data removed]",
      "text/plain": [
       "<Figure size 936x504 with 4 Axes>"
      ]
     },
     "metadata": {},
     "output_type": "display_data"
    }
   ],
   "source": [
    "sm.tsa.seasonal_decompose(train['High'].resample('6D').mean()).plot()\n",
    "plt.show()"
   ]
  },
  {
   "cell_type": "markdown",
   "metadata": {},
   "source": [
    "# Predictive Modeling"
   ]
  },
  {
   "cell_type": "markdown",
   "metadata": {},
   "source": [
    "Before we try out different methods for forecasting, let's create a couple of functions that will be helpful in evaluating each of the methods that follow.\n",
    "\n",
    "```evaluate()``` will compute the Mean Squared Error and the Rood Mean Squared Error to evaluate."
   ]
  },
  {
   "cell_type": "code",
   "execution_count": 51,
   "metadata": {},
   "outputs": [],
   "source": [
    "def evaluate(target_var):\n",
    "    rmse = round(sqrt(mean_squared_error(validate[target_var], yhat_df[target_var])), 4)\n",
    "    return rmse"
   ]
  },
  {
   "cell_type": "markdown",
   "metadata": {},
   "source": [
    "```plot_and_eval()``` will use the evaluate function and also plot train and test values with the predicted values in order to compare performance."
   ]
  },
  {
   "cell_type": "code",
   "execution_count": 52,
   "metadata": {},
   "outputs": [],
   "source": [
    "def plot_and_eval(target_var):\n",
    "    plt.figure(figsize = (12,8))\n",
    "    plt.plot(train[target_var], label='Train', linewidth=1)\n",
    "    plt.plot(validate[target_var], label='Validate', linewidth=1)\n",
    "    plt.plot(yhat_df[target_var])\n",
    "    plt.title(target_var)\n",
    "    rmse = evaluate(target_var)\n",
    "    print(target_var, '-- RMSE:', rmse)\n",
    "    plt.show()"
   ]
  },
  {
   "cell_type": "markdown",
   "metadata": {},
   "source": [
    "Write ```append_eval_df(model_type)``` to append evaluation metrics for each model type, target variable, and metric type, along with the metric value into our ```eval_df``` data frame object."
   ]
  },
  {
   "cell_type": "code",
   "execution_count": 53,
   "metadata": {},
   "outputs": [],
   "source": [
    "# create an empty dataframe\n",
    "eval_df = pd.DataFrame(columns=['model_type', 'target_var', 'rmse'])\n",
    "\n",
    "# function to store the rmse so that we can compare\n",
    "def append_eval_df(model_type, target_var):\n",
    "    rmse = evaluate(target_var)\n",
    "    d = {'model_type': [model_type], 'target_var': [target_var],\n",
    "        'rmse': [rmse]}\n",
    "    d = pd.DataFrame(d)\n",
    "    return eval_df.append(d, ignore_index = True)"
   ]
  },
  {
   "cell_type": "markdown",
   "metadata": {},
   "source": [
    "### Approaches\n",
    "\n",
    "I'll be trying the following predictive approaches:\n",
    "\n",
    "* Last Observed Value\n",
    "* Simple Average\n",
    "* Moving Average\n",
    "* Holt's Linear Trend\n",
    "* Previous Cycle"
   ]
  },
  {
   "cell_type": "markdown",
   "metadata": {},
   "source": [
    "## Last Observed Value"
   ]
  },
  {
   "cell_type": "code",
   "execution_count": 54,
   "metadata": {},
   "outputs": [
    {
     "data": {
      "text/plain": [
       "0.02923"
      ]
     },
     "execution_count": 54,
     "metadata": {},
     "output_type": "execute_result"
    }
   ],
   "source": [
    "# select last observed value\n",
    "price = round(train['High'][-1:][0], 5)\n",
    "price"
   ]
  },
  {
   "cell_type": "code",
   "execution_count": 55,
   "metadata": {},
   "outputs": [
    {
     "data": {
      "text/html": [
       "<div>\n",
       "<style scoped>\n",
       "    .dataframe tbody tr th:only-of-type {\n",
       "        vertical-align: middle;\n",
       "    }\n",
       "\n",
       "    .dataframe tbody tr th {\n",
       "        vertical-align: top;\n",
       "    }\n",
       "\n",
       "    .dataframe thead th {\n",
       "        text-align: right;\n",
       "    }\n",
       "</style>\n",
       "<table border=\"1\" class=\"dataframe\">\n",
       "  <thead>\n",
       "    <tr style=\"text-align: right;\">\n",
       "      <th></th>\n",
       "      <th>High</th>\n",
       "    </tr>\n",
       "    <tr>\n",
       "      <th>Date</th>\n",
       "      <th></th>\n",
       "    </tr>\n",
       "  </thead>\n",
       "  <tbody>\n",
       "    <tr>\n",
       "      <th>2021-01-31 14:38:00</th>\n",
       "      <td>0.02923</td>\n",
       "    </tr>\n",
       "    <tr>\n",
       "      <th>2021-01-31 14:39:00</th>\n",
       "      <td>0.02923</td>\n",
       "    </tr>\n",
       "    <tr>\n",
       "      <th>2021-01-31 14:40:00</th>\n",
       "      <td>0.02923</td>\n",
       "    </tr>\n",
       "  </tbody>\n",
       "</table>\n",
       "</div>"
      ],
      "text/plain": [
       "                        High\n",
       "Date                        \n",
       "2021-01-31 14:38:00  0.02923\n",
       "2021-01-31 14:39:00  0.02923\n",
       "2021-01-31 14:40:00  0.02923"
      ]
     },
     "execution_count": 55,
     "metadata": {},
     "output_type": "execute_result"
    }
   ],
   "source": [
    "# add to predictions data frame\n",
    "yhat_df = pd.DataFrame({'High': [price]}, \n",
    "                      index = validate.index)\n",
    "\n",
    "yhat_df.head(3)"
   ]
  },
  {
   "cell_type": "markdown",
   "metadata": {},
   "source": [
    "### Plot Actual vs. Predicted Values"
   ]
  },
  {
   "cell_type": "code",
   "execution_count": 56,
   "metadata": {},
   "outputs": [
    {
     "name": "stdout",
     "output_type": "stream",
     "text": [
      "High -- RMSE: 0.0156\n"
     ]
    },
    {
     "data": {
      "image/png": "[encoded data removed]",
      "text/plain": [
       "<Figure size 864x576 with 1 Axes>"
      ]
     },
     "metadata": {},
     "output_type": "display_data"
    }
   ],
   "source": [
    "plot_and_eval('High')"
   ]
  },
  {
   "cell_type": "markdown",
   "metadata": {},
   "source": [
    "### Evaluate"
   ]
  },
  {
   "cell_type": "code",
   "execution_count": 57,
   "metadata": {},
   "outputs": [
    {
     "data": {
      "text/html": [
       "<div>\n",
       "<style scoped>\n",
       "    .dataframe tbody tr th:only-of-type {\n",
       "        vertical-align: middle;\n",
       "    }\n",
       "\n",
       "    .dataframe tbody tr th {\n",
       "        vertical-align: top;\n",
       "    }\n",
       "\n",
       "    .dataframe thead th {\n",
       "        text-align: right;\n",
       "    }\n",
       "</style>\n",
       "<table border=\"1\" class=\"dataframe\">\n",
       "  <thead>\n",
       "    <tr style=\"text-align: right;\">\n",
       "      <th></th>\n",
       "      <th>model_type</th>\n",
       "      <th>target_var</th>\n",
       "      <th>rmse</th>\n",
       "    </tr>\n",
       "  </thead>\n",
       "  <tbody>\n",
       "    <tr>\n",
       "      <th>0</th>\n",
       "      <td>last_observed_value</td>\n",
       "      <td>High</td>\n",
       "      <td>0.0156</td>\n",
       "    </tr>\n",
       "  </tbody>\n",
       "</table>\n",
       "</div>"
      ],
      "text/plain": [
       "            model_type target_var    rmse\n",
       "0  last_observed_value       High  0.0156"
      ]
     },
     "execution_count": 57,
     "metadata": {},
     "output_type": "execute_result"
    }
   ],
   "source": [
    "eval_df = append_eval_df(model_type = 'last_observed_value', target_var = 'High')\n",
    "eval_df"
   ]
  },
  {
   "cell_type": "markdown",
   "metadata": {},
   "source": [
    "## Simple Average"
   ]
  },
  {
   "cell_type": "code",
   "execution_count": 58,
   "metadata": {},
   "outputs": [
    {
     "data": {
      "text/plain": [
       "0.00456"
      ]
     },
     "execution_count": 58,
     "metadata": {},
     "output_type": "execute_result"
    }
   ],
   "source": [
    "# compute simple average\n",
    "price = round(train['High'].mean(),5)\n",
    "price"
   ]
  },
  {
   "cell_type": "code",
   "execution_count": 59,
   "metadata": {},
   "outputs": [
    {
     "data": {
      "text/html": [
       "<div>\n",
       "<style scoped>\n",
       "    .dataframe tbody tr th:only-of-type {\n",
       "        vertical-align: middle;\n",
       "    }\n",
       "\n",
       "    .dataframe tbody tr th {\n",
       "        vertical-align: top;\n",
       "    }\n",
       "\n",
       "    .dataframe thead th {\n",
       "        text-align: right;\n",
       "    }\n",
       "</style>\n",
       "<table border=\"1\" class=\"dataframe\">\n",
       "  <thead>\n",
       "    <tr style=\"text-align: right;\">\n",
       "      <th></th>\n",
       "      <th>High</th>\n",
       "    </tr>\n",
       "    <tr>\n",
       "      <th>Date</th>\n",
       "      <th></th>\n",
       "    </tr>\n",
       "  </thead>\n",
       "  <tbody>\n",
       "    <tr>\n",
       "      <th>2021-01-31 14:38:00</th>\n",
       "      <td>0.00456</td>\n",
       "    </tr>\n",
       "    <tr>\n",
       "      <th>2021-01-31 14:39:00</th>\n",
       "      <td>0.00456</td>\n",
       "    </tr>\n",
       "    <tr>\n",
       "      <th>2021-01-31 14:40:00</th>\n",
       "      <td>0.00456</td>\n",
       "    </tr>\n",
       "  </tbody>\n",
       "</table>\n",
       "</div>"
      ],
      "text/plain": [
       "                        High\n",
       "Date                        \n",
       "2021-01-31 14:38:00  0.00456\n",
       "2021-01-31 14:39:00  0.00456\n",
       "2021-01-31 14:40:00  0.00456"
      ]
     },
     "execution_count": 59,
     "metadata": {},
     "output_type": "execute_result"
    }
   ],
   "source": [
    "# add to predictions data frame\n",
    "yhat_df = pd.DataFrame({'High': [price]}, \n",
    "                      index = validate.index)\n",
    "\n",
    "yhat_df.head(3)"
   ]
  },
  {
   "cell_type": "markdown",
   "metadata": {},
   "source": [
    "### Plot Actual vs. Predicted Values"
   ]
  },
  {
   "cell_type": "code",
   "execution_count": 60,
   "metadata": {},
   "outputs": [
    {
     "name": "stdout",
     "output_type": "stream",
     "text": [
      "High -- RMSE: 0.0387\n"
     ]
    },
    {
     "data": {
      "image/png": "[encoded data removed]",
      "text/plain": [
       "<Figure size 864x576 with 1 Axes>"
      ]
     },
     "metadata": {},
     "output_type": "display_data"
    }
   ],
   "source": [
    "plot_and_eval('High')"
   ]
  },
  {
   "cell_type": "markdown",
   "metadata": {},
   "source": [
    "### Evaluate"
   ]
  },
  {
   "cell_type": "code",
   "execution_count": 61,
   "metadata": {},
   "outputs": [
    {
     "data": {
      "text/html": [
       "<div>\n",
       "<style scoped>\n",
       "    .dataframe tbody tr th:only-of-type {\n",
       "        vertical-align: middle;\n",
       "    }\n",
       "\n",
       "    .dataframe tbody tr th {\n",
       "        vertical-align: top;\n",
       "    }\n",
       "\n",
       "    .dataframe thead th {\n",
       "        text-align: right;\n",
       "    }\n",
       "</style>\n",
       "<table border=\"1\" class=\"dataframe\">\n",
       "  <thead>\n",
       "    <tr style=\"text-align: right;\">\n",
       "      <th></th>\n",
       "      <th>model_type</th>\n",
       "      <th>target_var</th>\n",
       "      <th>rmse</th>\n",
       "    </tr>\n",
       "  </thead>\n",
       "  <tbody>\n",
       "    <tr>\n",
       "      <th>0</th>\n",
       "      <td>last_observed_value</td>\n",
       "      <td>High</td>\n",
       "      <td>0.0156</td>\n",
       "    </tr>\n",
       "    <tr>\n",
       "      <th>1</th>\n",
       "      <td>simple_average</td>\n",
       "      <td>High</td>\n",
       "      <td>0.0387</td>\n",
       "    </tr>\n",
       "  </tbody>\n",
       "</table>\n",
       "</div>"
      ],
      "text/plain": [
       "            model_type target_var    rmse\n",
       "0  last_observed_value       High  0.0156\n",
       "1       simple_average       High  0.0387"
      ]
     },
     "execution_count": 61,
     "metadata": {},
     "output_type": "execute_result"
    }
   ],
   "source": [
    "eval_df = append_eval_df(model_type='simple_average', target_var = 'High')\n",
    "eval_df"
   ]
  },
  {
   "cell_type": "markdown",
   "metadata": {},
   "source": [
    "## Moving Averages"
   ]
  },
  {
   "cell_type": "code",
   "execution_count": 62,
   "metadata": {},
   "outputs": [
    {
     "data": {
      "text/plain": [
       "[<matplotlib.lines.Line2D at 0x7f8b1cdfed30>]"
      ]
     },
     "execution_count": 62,
     "metadata": {},
     "output_type": "execute_result"
    },
    {
     "data": {
      "image/png": "[encoded data removed]",
      "text/plain": [
       "<Figure size 864x576 with 1 Axes>"
      ]
     },
     "metadata": {},
     "output_type": "display_data"
    }
   ],
   "source": [
    "# plot moving averages\n",
    "plt.figure(figsize=(12,8))\n",
    "plt.plot(train['High'].rolling(1440).mean()) # Day\n",
    "plt.plot(train['High'].rolling(10080).mean()) # Week\n",
    "plt.plot(train['High'].rolling(43800).mean()) # Month\n",
    "plt.plot(train['High'].rolling(131400).mean()) # 3 Months\n",
    "plt.plot(train['High'], alpha=.3)"
   ]
  },
  {
   "cell_type": "markdown",
   "metadata": {},
   "source": [
    "I'm going to use a rolling average of a week for my prediction."
   ]
  },
  {
   "cell_type": "code",
   "execution_count": 64,
   "metadata": {},
   "outputs": [
    {
     "name": "stdout",
     "output_type": "stream",
     "text": [
      "0.02\n"
     ]
    }
   ],
   "source": [
    "period = 10080\n",
    "prediction = round(train['High'].rolling(period).mean()[-1], 2)\n",
    "print(prediction)"
   ]
  },
  {
   "cell_type": "code",
   "execution_count": 65,
   "metadata": {},
   "outputs": [
    {
     "data": {
      "text/html": [
       "<div>\n",
       "<style scoped>\n",
       "    .dataframe tbody tr th:only-of-type {\n",
       "        vertical-align: middle;\n",
       "    }\n",
       "\n",
       "    .dataframe tbody tr th {\n",
       "        vertical-align: top;\n",
       "    }\n",
       "\n",
       "    .dataframe thead th {\n",
       "        text-align: right;\n",
       "    }\n",
       "</style>\n",
       "<table border=\"1\" class=\"dataframe\">\n",
       "  <thead>\n",
       "    <tr style=\"text-align: right;\">\n",
       "      <th></th>\n",
       "      <th>High</th>\n",
       "    </tr>\n",
       "    <tr>\n",
       "      <th>Date</th>\n",
       "      <th></th>\n",
       "    </tr>\n",
       "  </thead>\n",
       "  <tbody>\n",
       "    <tr>\n",
       "      <th>2021-01-31 14:38:00</th>\n",
       "      <td>0.02</td>\n",
       "    </tr>\n",
       "    <tr>\n",
       "      <th>2021-01-31 14:39:00</th>\n",
       "      <td>0.02</td>\n",
       "    </tr>\n",
       "    <tr>\n",
       "      <th>2021-01-31 14:40:00</th>\n",
       "      <td>0.02</td>\n",
       "    </tr>\n",
       "    <tr>\n",
       "      <th>2021-01-31 14:41:00</th>\n",
       "      <td>0.02</td>\n",
       "    </tr>\n",
       "    <tr>\n",
       "      <th>2021-01-31 14:42:00</th>\n",
       "      <td>0.02</td>\n",
       "    </tr>\n",
       "  </tbody>\n",
       "</table>\n",
       "</div>"
      ],
      "text/plain": [
       "                     High\n",
       "Date                     \n",
       "2021-01-31 14:38:00  0.02\n",
       "2021-01-31 14:39:00  0.02\n",
       "2021-01-31 14:40:00  0.02\n",
       "2021-01-31 14:41:00  0.02\n",
       "2021-01-31 14:42:00  0.02"
      ]
     },
     "execution_count": 65,
     "metadata": {},
     "output_type": "execute_result"
    }
   ],
   "source": [
    "yhat_df = pd.DataFrame({'High': [prediction]}, index = validate.index)\n",
    "yhat_df.head()"
   ]
  },
  {
   "cell_type": "markdown",
   "metadata": {},
   "source": [
    "### Plot Actual vs. Predicted Values\n",
    "\n",
    "Now, let's plot and evaluate the performance of our time series model using the moving average of 1 week."
   ]
  },
  {
   "cell_type": "code",
   "execution_count": 66,
   "metadata": {},
   "outputs": [
    {
     "name": "stdout",
     "output_type": "stream",
     "text": [
      "High -- RMSE: 0.0239\n"
     ]
    },
    {
     "data": {
      "image/png": "[encoded data removed]",
      "text/plain": [
       "<Figure size 864x576 with 1 Axes>"
      ]
     },
     "metadata": {},
     "output_type": "display_data"
    }
   ],
   "source": [
    "plot_and_eval('High')"
   ]
  },
  {
   "cell_type": "markdown",
   "metadata": {},
   "source": [
    "### Evaluate\n",
    "\n",
    "Evaluate using MSE and RMSE, and add evaluation metrics to ```eval_df```."
   ]
  },
  {
   "cell_type": "code",
   "execution_count": 67,
   "metadata": {},
   "outputs": [],
   "source": [
    "periods = [1440, 10080, 43800, 131400]\n",
    "\n",
    "for p in periods: \n",
    "    prediction = round(train['High'].rolling(p).mean()[-1], 2)\n",
    "    yhat_df = pd.DataFrame({'High': [prediction]}, index = validate.index)\n",
    "    model_type = str(round(int(p / 1440), 0)) + 'day_moving_avg'\n",
    "    eval_df = append_eval_df(model_type = model_type, target_var = 'High')"
   ]
  },
  {
   "cell_type": "code",
   "execution_count": 68,
   "metadata": {},
   "outputs": [
    {
     "data": {
      "text/html": [
       "<div>\n",
       "<style scoped>\n",
       "    .dataframe tbody tr th:only-of-type {\n",
       "        vertical-align: middle;\n",
       "    }\n",
       "\n",
       "    .dataframe tbody tr th {\n",
       "        vertical-align: top;\n",
       "    }\n",
       "\n",
       "    .dataframe thead th {\n",
       "        text-align: right;\n",
       "    }\n",
       "</style>\n",
       "<table border=\"1\" class=\"dataframe\">\n",
       "  <thead>\n",
       "    <tr style=\"text-align: right;\">\n",
       "      <th></th>\n",
       "      <th>model_type</th>\n",
       "      <th>target_var</th>\n",
       "      <th>rmse</th>\n",
       "    </tr>\n",
       "  </thead>\n",
       "  <tbody>\n",
       "    <tr>\n",
       "      <th>1</th>\n",
       "      <td>simple_average</td>\n",
       "      <td>High</td>\n",
       "      <td>0.0387</td>\n",
       "    </tr>\n",
       "    <tr>\n",
       "      <th>4</th>\n",
       "      <td>30day_moving_avg</td>\n",
       "      <td>High</td>\n",
       "      <td>0.0334</td>\n",
       "    </tr>\n",
       "    <tr>\n",
       "      <th>5</th>\n",
       "      <td>91day_moving_avg</td>\n",
       "      <td>High</td>\n",
       "      <td>0.0334</td>\n",
       "    </tr>\n",
       "    <tr>\n",
       "      <th>3</th>\n",
       "      <td>7day_moving_avg</td>\n",
       "      <td>High</td>\n",
       "      <td>0.0239</td>\n",
       "    </tr>\n",
       "    <tr>\n",
       "      <th>0</th>\n",
       "      <td>last_observed_value</td>\n",
       "      <td>High</td>\n",
       "      <td>0.0156</td>\n",
       "    </tr>\n",
       "    <tr>\n",
       "      <th>2</th>\n",
       "      <td>1day_moving_avg</td>\n",
       "      <td>High</td>\n",
       "      <td>0.0150</td>\n",
       "    </tr>\n",
       "  </tbody>\n",
       "</table>\n",
       "</div>"
      ],
      "text/plain": [
       "            model_type target_var    rmse\n",
       "1       simple_average       High  0.0387\n",
       "4     30day_moving_avg       High  0.0334\n",
       "5     91day_moving_avg       High  0.0334\n",
       "3      7day_moving_avg       High  0.0239\n",
       "0  last_observed_value       High  0.0156\n",
       "2      1day_moving_avg       High  0.0150"
      ]
     },
     "execution_count": 68,
     "metadata": {},
     "output_type": "execute_result"
    }
   ],
   "source": [
    "eval_df.sort_values(by='rmse', ascending=False)"
   ]
  },
  {
   "cell_type": "markdown",
   "metadata": {},
   "source": [
    "## Holt's Linear Trend\n",
    "\n",
    "Exponential smoothing applied to both the average and the trend (slope)."
   ]
  },
  {
   "cell_type": "code",
   "execution_count": 72,
   "metadata": {},
   "outputs": [
    {
     "data": {
      "text/html": [
       "<div>\n",
       "<style scoped>\n",
       "    .dataframe tbody tr th:only-of-type {\n",
       "        vertical-align: middle;\n",
       "    }\n",
       "\n",
       "    .dataframe tbody tr th {\n",
       "        vertical-align: top;\n",
       "    }\n",
       "\n",
       "    .dataframe thead th {\n",
       "        text-align: right;\n",
       "    }\n",
       "</style>\n",
       "<table border=\"1\" class=\"dataframe\">\n",
       "  <thead>\n",
       "    <tr style=\"text-align: right;\">\n",
       "      <th></th>\n",
       "      <th>High</th>\n",
       "    </tr>\n",
       "    <tr>\n",
       "      <th>Date</th>\n",
       "      <th></th>\n",
       "    </tr>\n",
       "  </thead>\n",
       "  <tbody>\n",
       "    <tr>\n",
       "      <th>2021-01-31 14:38:00</th>\n",
       "      <td>0.029234</td>\n",
       "    </tr>\n",
       "    <tr>\n",
       "      <th>2021-01-31 14:39:00</th>\n",
       "      <td>0.029234</td>\n",
       "    </tr>\n",
       "    <tr>\n",
       "      <th>2021-01-31 14:40:00</th>\n",
       "      <td>0.029234</td>\n",
       "    </tr>\n",
       "    <tr>\n",
       "      <th>2021-01-31 14:41:00</th>\n",
       "      <td>0.029234</td>\n",
       "    </tr>\n",
       "    <tr>\n",
       "      <th>2021-01-31 14:42:00</th>\n",
       "      <td>0.029234</td>\n",
       "    </tr>\n",
       "  </tbody>\n",
       "</table>\n",
       "</div>"
      ],
      "text/plain": [
       "                         High\n",
       "Date                         \n",
       "2021-01-31 14:38:00  0.029234\n",
       "2021-01-31 14:39:00  0.029234\n",
       "2021-01-31 14:40:00  0.029234\n",
       "2021-01-31 14:41:00  0.029234\n",
       "2021-01-31 14:42:00  0.029234"
      ]
     },
     "execution_count": 72,
     "metadata": {},
     "output_type": "execute_result"
    }
   ],
   "source": [
    "model = Holt(train['High'], exponential=True, damped=True)\n",
    "model = model.fit(optimized=True)\n",
    "start = validate.index[0]\n",
    "end = validate.index[-1]\n",
    "yhat_df['High'] = model.predict(start, end)\n",
    "yhat_df.head()"
   ]
  },
  {
   "cell_type": "code",
   "execution_count": 73,
   "metadata": {},
   "outputs": [
    {
     "name": "stdout",
     "output_type": "stream",
     "text": [
      "High -- RMSE: 0.0156\n"
     ]
    },
    {
     "data": {
      "image/png": "[encoded data removed]",
      "text/plain": [
       "<Figure size 864x576 with 1 Axes>"
      ]
     },
     "metadata": {},
     "output_type": "display_data"
    }
   ],
   "source": [
    "plot_and_eval('High')"
   ]
  },
  {
   "cell_type": "markdown",
   "metadata": {},
   "source": [
    "### Evaluate"
   ]
  },
  {
   "cell_type": "code",
   "execution_count": 75,
   "metadata": {},
   "outputs": [
    {
     "data": {
      "text/html": [
       "<div>\n",
       "<style scoped>\n",
       "    .dataframe tbody tr th:only-of-type {\n",
       "        vertical-align: middle;\n",
       "    }\n",
       "\n",
       "    .dataframe tbody tr th {\n",
       "        vertical-align: top;\n",
       "    }\n",
       "\n",
       "    .dataframe thead th {\n",
       "        text-align: right;\n",
       "    }\n",
       "</style>\n",
       "<table border=\"1\" class=\"dataframe\">\n",
       "  <thead>\n",
       "    <tr style=\"text-align: right;\">\n",
       "      <th></th>\n",
       "      <th>model_type</th>\n",
       "      <th>target_var</th>\n",
       "      <th>rmse</th>\n",
       "    </tr>\n",
       "  </thead>\n",
       "  <tbody>\n",
       "    <tr>\n",
       "      <th>2</th>\n",
       "      <td>1day_moving_avg</td>\n",
       "      <td>High</td>\n",
       "      <td>0.0150</td>\n",
       "    </tr>\n",
       "    <tr>\n",
       "      <th>0</th>\n",
       "      <td>last_observed_value</td>\n",
       "      <td>High</td>\n",
       "      <td>0.0156</td>\n",
       "    </tr>\n",
       "    <tr>\n",
       "      <th>6</th>\n",
       "      <td>holts_optimized</td>\n",
       "      <td>High</td>\n",
       "      <td>0.0156</td>\n",
       "    </tr>\n",
       "    <tr>\n",
       "      <th>3</th>\n",
       "      <td>7day_moving_avg</td>\n",
       "      <td>High</td>\n",
       "      <td>0.0239</td>\n",
       "    </tr>\n",
       "    <tr>\n",
       "      <th>4</th>\n",
       "      <td>30day_moving_avg</td>\n",
       "      <td>High</td>\n",
       "      <td>0.0334</td>\n",
       "    </tr>\n",
       "    <tr>\n",
       "      <th>5</th>\n",
       "      <td>91day_moving_avg</td>\n",
       "      <td>High</td>\n",
       "      <td>0.0334</td>\n",
       "    </tr>\n",
       "    <tr>\n",
       "      <th>1</th>\n",
       "      <td>simple_average</td>\n",
       "      <td>High</td>\n",
       "      <td>0.0387</td>\n",
       "    </tr>\n",
       "  </tbody>\n",
       "</table>\n",
       "</div>"
      ],
      "text/plain": [
       "            model_type target_var    rmse\n",
       "2      1day_moving_avg       High  0.0150\n",
       "0  last_observed_value       High  0.0156\n",
       "6      holts_optimized       High  0.0156\n",
       "3      7day_moving_avg       High  0.0239\n",
       "4     30day_moving_avg       High  0.0334\n",
       "5     91day_moving_avg       High  0.0334\n",
       "1       simple_average       High  0.0387"
      ]
     },
     "execution_count": 75,
     "metadata": {},
     "output_type": "execute_result"
    }
   ],
   "source": [
    "eval_df = append_eval_df(model_type = 'holts_optimized', target_var = 'High')\n",
    "eval_df.sort_values(by='rmse')"
   ]
  },
  {
   "cell_type": "code",
   "execution_count": null,
   "metadata": {},
   "outputs": [],
   "source": []
  },
  {
   "cell_type": "code",
   "execution_count": null,
   "metadata": {},
   "outputs": [],
   "source": []
  },
  {
   "cell_type": "code",
   "execution_count": null,
   "metadata": {},
   "outputs": [],
   "source": []
  },
  {
   "cell_type": "code",
   "execution_count": null,
   "metadata": {},
   "outputs": [],
   "source": []
  },
  {
   "cell_type": "markdown",
   "metadata": {},
   "source": [
    "Note to self: Holidays = Elon Musk tweet days ...and/or I could make a predictive model to predict when Elon will tweet about Crypto, Doge, or Bitcoin and make those holidays as well."
   ]
  }
 ],
 "metadata": {
  "kernelspec": {
   "display_name": "Python 3",
   "language": "python",
   "name": "python3"
  },
  "language_info": {
   "codemirror_mode": {
    "name": "ipython",
    "version": 3
   },
   "file_extension": ".py",
   "mimetype": "text/x-python",
   "name": "python",
   "nbconvert_exporter": "python",
   "pygments_lexer": "ipython3",
   "version": "3.8.3"
  }
 },
 "nbformat": 4,
 "nbformat_minor": 4
}
